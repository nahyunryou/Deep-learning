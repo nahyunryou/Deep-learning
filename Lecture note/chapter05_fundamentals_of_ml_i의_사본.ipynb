{
  "cells": [
    {
      "cell_type": "markdown",
      "metadata": {
        "id": "OOx43mktwvhI"
      },
      "source": [
        "This is a companion notebook for the book [Deep Learning with Python, Second Edition](https://www.manning.com/books/deep-learning-with-python-second-edition?a_aid=keras&a_bid=76564dff). For readability, it only contains runnable code blocks and section titles, and omits everything else in the book: text paragraphs, figures, and pseudocode.\n",
        "\n",
        "**If you want to be able to follow what's going on, I recommend reading the notebook side by side with your copy of the book.**\n",
        "\n",
        "This notebook was generated for TensorFlow 2.6."
      ]
    },
    {
      "cell_type": "markdown",
      "metadata": {
        "id": "bR3RU3dewvhS"
      },
      "source": [
        "# Fundamentals of machine learning"
      ]
    },
    {
      "cell_type": "markdown",
      "metadata": {
        "id": "8_B_4OhIwvhT"
      },
      "source": [
        "## Generalization: The goal of machine learning"
      ]
    },
    {
      "cell_type": "markdown",
      "metadata": {
        "id": "MxOMOJu5wvhU"
      },
      "source": [
        "### Underfitting and overfitting"
      ]
    },
    {
      "cell_type": "markdown",
      "metadata": {
        "id": "HM3U_VRxwvhV"
      },
      "source": [
        "#### Noisy training data"
      ]
    },
    {
      "cell_type": "markdown",
      "metadata": {
        "id": "HbMl8r6dwvhX"
      },
      "source": [
        "#### Ambiguous features"
      ]
    },
    {
      "cell_type": "markdown",
      "metadata": {
        "id": "QrEd4oemwvhZ"
      },
      "source": [
        "#### Rare features and spurious correlations"
      ]
    },
    {
      "cell_type": "markdown",
      "metadata": {
        "id": "40Z0GyL2wvhc"
      },
      "source": [
        "**Adding white-noise channels or all-zeros channels to MNIST**"
      ]
    },
    {
      "cell_type": "code",
      "execution_count": null,
      "metadata": {
        "id": "8B_CegUvwvhf",
        "colab": {
          "base_uri": "https://localhost:8080/"
        },
        "outputId": "60db0683-e956-4f17-9f94-8b186a07a20d"
      },
      "outputs": [
        {
          "output_type": "stream",
          "name": "stdout",
          "text": [
            "Downloading data from https://storage.googleapis.com/tensorflow/tf-keras-datasets/mnist.npz\n",
            "11493376/11490434 [==============================] - 0s 0us/step\n",
            "11501568/11490434 [==============================] - 0s 0us/step\n"
          ]
        }
      ],
      "source": [
        "from tensorflow.keras.datasets import mnist\n",
        "import numpy as np\n",
        "\n",
        "(train_images, train_labels), _ = mnist.load_data()\n",
        "train_images = train_images.reshape((60000, 28 * 28))\n",
        "train_images = train_images.astype(\"float32\") / 255\n",
        "\n",
        "train_images_with_noise_channels = np.concatenate(\n",
        "    [train_images, np.random.random((len(train_images), 784))], axis=1) #random noise added to data\n",
        "\n",
        "train_images_with_zeros_channels = np.concatenate(\n",
        "    [train_images, np.zeros((len(train_images), 784))], axis=1)"
      ]
    },
    {
      "cell_type": "markdown",
      "metadata": {
        "id": "bbAaaGg3wvhj"
      },
      "source": [
        "**Training the same model on MNIST data with noise channels or all-zero channels**"
      ]
    },
    {
      "cell_type": "code",
      "execution_count": null,
      "metadata": {
        "id": "BI6NUuobwvhk",
        "colab": {
          "base_uri": "https://localhost:8080/"
        },
        "outputId": "c5a2f4aa-7e87-48cd-8ffe-0e5412929797"
      },
      "outputs": [
        {
          "output_type": "stream",
          "name": "stdout",
          "text": [
            "Epoch 1/10\n",
            "375/375 [==============================] - 7s 8ms/step - loss: 0.6163 - accuracy: 0.8134 - val_loss: 0.3095 - val_accuracy: 0.9072\n",
            "Epoch 2/10\n",
            "375/375 [==============================] - 2s 5ms/step - loss: 0.2374 - accuracy: 0.9253 - val_loss: 0.2029 - val_accuracy: 0.9436\n",
            "Epoch 3/10\n",
            "375/375 [==============================] - 2s 5ms/step - loss: 0.1535 - accuracy: 0.9529 - val_loss: 0.1430 - val_accuracy: 0.9578\n",
            "Epoch 4/10\n",
            "375/375 [==============================] - 2s 5ms/step - loss: 0.1077 - accuracy: 0.9666 - val_loss: 0.1376 - val_accuracy: 0.9597\n",
            "Epoch 5/10\n",
            "375/375 [==============================] - 2s 5ms/step - loss: 0.0791 - accuracy: 0.9745 - val_loss: 0.1233 - val_accuracy: 0.9635\n",
            "Epoch 6/10\n",
            "375/375 [==============================] - 2s 5ms/step - loss: 0.0578 - accuracy: 0.9810 - val_loss: 0.1148 - val_accuracy: 0.9676\n",
            "Epoch 7/10\n",
            "375/375 [==============================] - 2s 5ms/step - loss: 0.0431 - accuracy: 0.9862 - val_loss: 0.1357 - val_accuracy: 0.9628\n",
            "Epoch 8/10\n",
            "375/375 [==============================] - 2s 5ms/step - loss: 0.0316 - accuracy: 0.9899 - val_loss: 0.1508 - val_accuracy: 0.9595\n",
            "Epoch 9/10\n",
            "375/375 [==============================] - 2s 5ms/step - loss: 0.0249 - accuracy: 0.9916 - val_loss: 0.1369 - val_accuracy: 0.9658\n",
            "Epoch 10/10\n",
            "375/375 [==============================] - 2s 5ms/step - loss: 0.0191 - accuracy: 0.9935 - val_loss: 0.1330 - val_accuracy: 0.9687\n",
            "Epoch 1/10\n",
            "375/375 [==============================] - 3s 6ms/step - loss: 0.2839 - accuracy: 0.9183 - val_loss: 0.1511 - val_accuracy: 0.9570\n",
            "Epoch 2/10\n",
            "375/375 [==============================] - 2s 5ms/step - loss: 0.1207 - accuracy: 0.9647 - val_loss: 0.1019 - val_accuracy: 0.9692\n",
            "Epoch 3/10\n",
            "375/375 [==============================] - 2s 5ms/step - loss: 0.0781 - accuracy: 0.9778 - val_loss: 0.0886 - val_accuracy: 0.9735\n",
            "Epoch 4/10\n",
            "375/375 [==============================] - 2s 5ms/step - loss: 0.0565 - accuracy: 0.9830 - val_loss: 0.0918 - val_accuracy: 0.9742\n",
            "Epoch 5/10\n",
            "375/375 [==============================] - 2s 5ms/step - loss: 0.0428 - accuracy: 0.9874 - val_loss: 0.0855 - val_accuracy: 0.9753\n",
            "Epoch 6/10\n",
            "375/375 [==============================] - 2s 5ms/step - loss: 0.0327 - accuracy: 0.9902 - val_loss: 0.0844 - val_accuracy: 0.9766\n",
            "Epoch 7/10\n",
            "375/375 [==============================] - 2s 5ms/step - loss: 0.0244 - accuracy: 0.9932 - val_loss: 0.0837 - val_accuracy: 0.9781\n",
            "Epoch 8/10\n",
            "375/375 [==============================] - 3s 7ms/step - loss: 0.0188 - accuracy: 0.9948 - val_loss: 0.0904 - val_accuracy: 0.9783\n",
            "Epoch 9/10\n",
            "375/375 [==============================] - 2s 5ms/step - loss: 0.0145 - accuracy: 0.9961 - val_loss: 0.0822 - val_accuracy: 0.9793\n",
            "Epoch 10/10\n",
            "375/375 [==============================] - 2s 5ms/step - loss: 0.0108 - accuracy: 0.9969 - val_loss: 0.0924 - val_accuracy: 0.9770\n"
          ]
        }
      ],
      "source": [
        "from tensorflow import keras\n",
        "from tensorflow.keras import layers\n",
        "\n",
        "def get_model():\n",
        "    model = keras.Sequential([\n",
        "        layers.Dense(512, activation=\"relu\"),\n",
        "        layers.Dense(10, activation=\"softmax\")\n",
        "    ])\n",
        "    model.compile(optimizer=\"rmsprop\",\n",
        "                  loss=\"sparse_categorical_crossentropy\",\n",
        "                  metrics=[\"accuracy\"])\n",
        "    return model\n",
        "\n",
        "model = get_model()\n",
        "history_noise = model.fit( #noisy data set\n",
        "    train_images_with_noise_channels, train_labels,\n",
        "    epochs=10,\n",
        "    batch_size=128,\n",
        "    validation_split=0.2)\n",
        "\n",
        "model = get_model()\n",
        "history_zeros = model.fit(\n",
        "    train_images_with_zeros_channels, train_labels,\n",
        "    epochs=10,\n",
        "    batch_size=128,\n",
        "    validation_split=0.2)\n",
        "# It's common to do feature selection before training"
      ]
    },
    {
      "cell_type": "code",
      "source": [
        "model = get_model()\n",
        "history1 = model.fit(\n",
        "    train_images_with_zeros_channels, train_labels,\n",
        "    epochs=10,\n",
        "    batch_size=128,\n",
        "    validation_split=0.2)"
      ],
      "metadata": {
        "colab": {
          "base_uri": "https://localhost:8080/"
        },
        "id": "8vAGXqWAbVdX",
        "outputId": "bf293251-fcad-4a93-90e2-f17a36af170c"
      },
      "execution_count": null,
      "outputs": [
        {
          "output_type": "stream",
          "name": "stdout",
          "text": [
            "Epoch 1/10\n",
            "375/375 [==============================] - 3s 6ms/step - loss: 0.2885 - accuracy: 0.9165 - val_loss: 0.1566 - val_accuracy: 0.9515\n",
            "Epoch 2/10\n",
            "375/375 [==============================] - 2s 5ms/step - loss: 0.1206 - accuracy: 0.9648 - val_loss: 0.1032 - val_accuracy: 0.9687\n",
            "Epoch 3/10\n",
            "375/375 [==============================] - 2s 5ms/step - loss: 0.0784 - accuracy: 0.9761 - val_loss: 0.0904 - val_accuracy: 0.9743\n",
            "Epoch 4/10\n",
            "375/375 [==============================] - 2s 5ms/step - loss: 0.0573 - accuracy: 0.9830 - val_loss: 0.0786 - val_accuracy: 0.9772\n",
            "Epoch 5/10\n",
            "375/375 [==============================] - 2s 5ms/step - loss: 0.0420 - accuracy: 0.9874 - val_loss: 0.0843 - val_accuracy: 0.9753\n",
            "Epoch 6/10\n",
            "375/375 [==============================] - 2s 5ms/step - loss: 0.0318 - accuracy: 0.9908 - val_loss: 0.0874 - val_accuracy: 0.9765\n",
            "Epoch 7/10\n",
            "375/375 [==============================] - 2s 5ms/step - loss: 0.0251 - accuracy: 0.9925 - val_loss: 0.0833 - val_accuracy: 0.9778\n",
            "Epoch 8/10\n",
            "375/375 [==============================] - 2s 5ms/step - loss: 0.0184 - accuracy: 0.9948 - val_loss: 0.0821 - val_accuracy: 0.9794\n",
            "Epoch 9/10\n",
            "375/375 [==============================] - 2s 5ms/step - loss: 0.0140 - accuracy: 0.9961 - val_loss: 0.0921 - val_accuracy: 0.9765\n",
            "Epoch 10/10\n",
            "375/375 [==============================] - 2s 5ms/step - loss: 0.0106 - accuracy: 0.9971 - val_loss: 0.0897 - val_accuracy: 0.9789\n"
          ]
        }
      ]
    },
    {
      "cell_type": "markdown",
      "metadata": {
        "id": "nYitwDmhwvhm"
      },
      "source": [
        "**Plotting a validation accuracy comparison**"
      ]
    },
    {
      "cell_type": "code",
      "execution_count": null,
      "metadata": {
        "id": "xsrplCEcwvhm",
        "colab": {
          "base_uri": "https://localhost:8080/",
          "height": 313
        },
        "outputId": "59736808-c62e-4bef-8a3b-5d84e9a66e9c"
      },
      "outputs": [
        {
          "output_type": "execute_result",
          "data": {
            "text/plain": [
              "<matplotlib.legend.Legend at 0x7f78c73df8d0>"
            ]
          },
          "metadata": {},
          "execution_count": 4
        },
        {
          "output_type": "display_data",
          "data": {
            "text/plain": [
              "<Figure size 432x288 with 1 Axes>"
            ],
            "image/png": "[encoded data removed]"
          },
          "metadata": {
            "needs_background": "light"
          }
        }
      ],
      "source": [
        "import matplotlib.pyplot as plt\n",
        "val_acc_noise = history_noise.history[\"val_accuracy\"]\n",
        "val_acc_zeros = history_zeros.history[\"val_accuracy\"]\n",
        "epochs = range(1, 11)\n",
        "plt.plot(epochs, val_acc_noise, \"b-\",\n",
        "         label=\"Validation accuracy with noise channels\")\n",
        "plt.plot(epochs, val_acc_zeros, \"b--\",\n",
        "         label=\"Validation accuracy with zeros channels\")\n",
        "plt.title(\"Effect of noise channels on validation accuracy\")\n",
        "plt.xlabel(\"Epochs\")\n",
        "plt.ylabel(\"Accuracy\")\n",
        "plt.legend()"
      ]
    },
    {
      "cell_type": "code",
      "source": [
        "import matplotlib.pyplot as plt\n",
        "val_acc = history1.history[\"val_accuracy\"]\n",
        "val_acc_zeros = history_zeros.history[\"val_accuracy\"]\n",
        "epochs = range(1, 11)\n",
        "plt.plot(epochs, val_acc, \"b-\",\n",
        "         label=\"Validation accuracy with original data\")\n",
        "plt.plot(epochs, val_acc_zeros, \"b--\",\n",
        "         label=\"Validation accuracy with zeros channels\")\n",
        "plt.title(\"Effect of noise channels on validation accuracy\")\n",
        "plt.xlabel(\"Epochs\")\n",
        "plt.ylabel(\"Accuracy\")\n",
        "plt.legend()"
      ],
      "metadata": {
        "colab": {
          "base_uri": "https://localhost:8080/",
          "height": 313
        },
        "id": "cOrRngdXblbL",
        "outputId": "1466a8f4-ad33-4d9c-c831-d474399f68e5"
      },
      "execution_count": null,
      "outputs": [
        {
          "output_type": "execute_result",
          "data": {
            "text/plain": [
              "<matplotlib.legend.Legend at 0x7f78c73539d0>"
            ]
          },
          "metadata": {},
          "execution_count": 5
        },
        {
          "output_type": "display_data",
          "data": {
            "text/plain": [
              "<Figure size 432x288 with 1 Axes>"
            ],
            "image/png": "[encoded data removed]"
          },
          "metadata": {
            "needs_background": "light"
          }
        }
      ]
    },
    {
      "cell_type": "markdown",
      "metadata": {
        "id": "lnNi9Jo2wvhn"
      },
      "source": [
        "### The nature of generalization in deep learning"
      ]
    },
    {
      "cell_type": "markdown",
      "metadata": {
        "id": "N33sTXkvwvhn"
      },
      "source": [
        "**Fitting a MNIST model with randomly shuffled labels**"
      ]
    },
    {
      "cell_type": "code",
      "execution_count": null,
      "metadata": {
        "id": "Dzagu3pcwvho",
        "colab": {
          "base_uri": "https://localhost:8080/"
        },
        "outputId": "dc909c0c-9a05-4b28-b142-78c9c6fd2029"
      },
      "outputs": [
        {
          "output_type": "stream",
          "name": "stdout",
          "text": [
            "Epoch 1/100\n",
            "375/375 [==============================] - 2s 5ms/step - loss: 2.3158 - accuracy: 0.1040 - val_loss: 2.3069 - val_accuracy: 0.1013\n",
            "Epoch 2/100\n",
            "375/375 [==============================] - 2s 4ms/step - loss: 2.2998 - accuracy: 0.1178 - val_loss: 2.3161 - val_accuracy: 0.0976\n",
            "Epoch 3/100\n",
            "375/375 [==============================] - 2s 4ms/step - loss: 2.2902 - accuracy: 0.1267 - val_loss: 2.3218 - val_accuracy: 0.1118\n",
            "Epoch 4/100\n",
            "375/375 [==============================] - 2s 4ms/step - loss: 2.2765 - accuracy: 0.1394 - val_loss: 2.3290 - val_accuracy: 0.1029\n",
            "Epoch 5/100\n",
            "375/375 [==============================] - 2s 4ms/step - loss: 2.2568 - accuracy: 0.1550 - val_loss: 2.3408 - val_accuracy: 0.1008\n",
            "Epoch 6/100\n",
            "375/375 [==============================] - 2s 4ms/step - loss: 2.2357 - accuracy: 0.1700 - val_loss: 2.3495 - val_accuracy: 0.1043\n",
            "Epoch 7/100\n",
            "375/375 [==============================] - 2s 4ms/step - loss: 2.2098 - accuracy: 0.1880 - val_loss: 2.3657 - val_accuracy: 0.1034\n",
            "Epoch 8/100\n",
            "375/375 [==============================] - 2s 4ms/step - loss: 2.1817 - accuracy: 0.2028 - val_loss: 2.3778 - val_accuracy: 0.1089\n",
            "Epoch 9/100\n",
            "375/375 [==============================] - 2s 4ms/step - loss: 2.1520 - accuracy: 0.2176 - val_loss: 2.4134 - val_accuracy: 0.1077\n",
            "Epoch 10/100\n",
            "375/375 [==============================] - 2s 4ms/step - loss: 2.1196 - accuracy: 0.2336 - val_loss: 2.4222 - val_accuracy: 0.1039\n",
            "Epoch 11/100\n",
            "375/375 [==============================] - 2s 4ms/step - loss: 2.0860 - accuracy: 0.2468 - val_loss: 2.4547 - val_accuracy: 0.1012\n",
            "Epoch 12/100\n",
            "375/375 [==============================] - 2s 4ms/step - loss: 2.0510 - accuracy: 0.2668 - val_loss: 2.4825 - val_accuracy: 0.1047\n",
            "Epoch 13/100\n",
            "375/375 [==============================] - 2s 4ms/step - loss: 2.0155 - accuracy: 0.2817 - val_loss: 2.4994 - val_accuracy: 0.1043\n",
            "Epoch 14/100\n",
            "375/375 [==============================] - 2s 4ms/step - loss: 1.9809 - accuracy: 0.2961 - val_loss: 2.5242 - val_accuracy: 0.1023\n",
            "Epoch 15/100\n",
            "375/375 [==============================] - 2s 4ms/step - loss: 1.9453 - accuracy: 0.3141 - val_loss: 2.5526 - val_accuracy: 0.1040\n",
            "Epoch 16/100\n",
            "375/375 [==============================] - 2s 5ms/step - loss: 1.9096 - accuracy: 0.3253 - val_loss: 2.5890 - val_accuracy: 0.1018\n",
            "Epoch 17/100\n",
            "375/375 [==============================] - 2s 4ms/step - loss: 1.8749 - accuracy: 0.3405 - val_loss: 2.6115 - val_accuracy: 0.1021\n",
            "Epoch 18/100\n",
            "375/375 [==============================] - 2s 4ms/step - loss: 1.8404 - accuracy: 0.3563 - val_loss: 2.6611 - val_accuracy: 0.1037\n",
            "Epoch 19/100\n",
            "375/375 [==============================] - 2s 4ms/step - loss: 1.8058 - accuracy: 0.3689 - val_loss: 2.6969 - val_accuracy: 0.1007\n",
            "Epoch 20/100\n",
            "375/375 [==============================] - 2s 4ms/step - loss: 1.7730 - accuracy: 0.3835 - val_loss: 2.7350 - val_accuracy: 0.1055\n",
            "Epoch 21/100\n",
            "375/375 [==============================] - 2s 4ms/step - loss: 1.7403 - accuracy: 0.3948 - val_loss: 2.7656 - val_accuracy: 0.1023\n",
            "Epoch 22/100\n",
            "375/375 [==============================] - 2s 4ms/step - loss: 1.7084 - accuracy: 0.4076 - val_loss: 2.8130 - val_accuracy: 0.1043\n",
            "Epoch 23/100\n",
            "375/375 [==============================] - 2s 4ms/step - loss: 1.6752 - accuracy: 0.4191 - val_loss: 2.8446 - val_accuracy: 0.1052\n",
            "Epoch 24/100\n",
            "375/375 [==============================] - 2s 4ms/step - loss: 1.6445 - accuracy: 0.4311 - val_loss: 2.9039 - val_accuracy: 0.1047\n",
            "Epoch 25/100\n",
            "375/375 [==============================] - 2s 4ms/step - loss: 1.6134 - accuracy: 0.4446 - val_loss: 2.9447 - val_accuracy: 0.1025\n",
            "Epoch 26/100\n",
            "375/375 [==============================] - 2s 4ms/step - loss: 1.5863 - accuracy: 0.4556 - val_loss: 2.9971 - val_accuracy: 0.1064\n",
            "Epoch 27/100\n",
            "375/375 [==============================] - 2s 4ms/step - loss: 1.5547 - accuracy: 0.4644 - val_loss: 3.0363 - val_accuracy: 0.1007\n",
            "Epoch 28/100\n",
            "375/375 [==============================] - 2s 4ms/step - loss: 1.5277 - accuracy: 0.4763 - val_loss: 3.0829 - val_accuracy: 0.1027\n",
            "Epoch 29/100\n",
            "375/375 [==============================] - 2s 4ms/step - loss: 1.5016 - accuracy: 0.4851 - val_loss: 3.1004 - val_accuracy: 0.1032\n",
            "Epoch 30/100\n",
            "375/375 [==============================] - 2s 4ms/step - loss: 1.4735 - accuracy: 0.4953 - val_loss: 3.1615 - val_accuracy: 0.1023\n",
            "Epoch 31/100\n",
            "375/375 [==============================] - 2s 4ms/step - loss: 1.4471 - accuracy: 0.5048 - val_loss: 3.2150 - val_accuracy: 0.1031\n",
            "Epoch 32/100\n",
            "375/375 [==============================] - 2s 4ms/step - loss: 1.4214 - accuracy: 0.5160 - val_loss: 3.2537 - val_accuracy: 0.1043\n",
            "Epoch 33/100\n",
            "375/375 [==============================] - 2s 4ms/step - loss: 1.3960 - accuracy: 0.5271 - val_loss: 3.2921 - val_accuracy: 0.1043\n",
            "Epoch 34/100\n",
            "375/375 [==============================] - 2s 5ms/step - loss: 1.3717 - accuracy: 0.5326 - val_loss: 3.3718 - val_accuracy: 0.1079\n",
            "Epoch 35/100\n",
            "375/375 [==============================] - 2s 4ms/step - loss: 1.3465 - accuracy: 0.5398 - val_loss: 3.3851 - val_accuracy: 0.1042\n",
            "Epoch 36/100\n",
            "375/375 [==============================] - 2s 4ms/step - loss: 1.3232 - accuracy: 0.5486 - val_loss: 3.4280 - val_accuracy: 0.1060\n",
            "Epoch 37/100\n",
            "375/375 [==============================] - 2s 4ms/step - loss: 1.3000 - accuracy: 0.5577 - val_loss: 3.5187 - val_accuracy: 0.1023\n",
            "Epoch 38/100\n",
            "375/375 [==============================] - 2s 4ms/step - loss: 1.2803 - accuracy: 0.5674 - val_loss: 3.5677 - val_accuracy: 0.1035\n",
            "Epoch 39/100\n",
            "375/375 [==============================] - 2s 4ms/step - loss: 1.2549 - accuracy: 0.5771 - val_loss: 3.5933 - val_accuracy: 0.1026\n",
            "Epoch 40/100\n",
            "375/375 [==============================] - 2s 4ms/step - loss: 1.2348 - accuracy: 0.5830 - val_loss: 3.6622 - val_accuracy: 0.1061\n",
            "Epoch 41/100\n",
            "375/375 [==============================] - 2s 4ms/step - loss: 1.2138 - accuracy: 0.5891 - val_loss: 3.7148 - val_accuracy: 0.1020\n",
            "Epoch 42/100\n",
            "375/375 [==============================] - 2s 4ms/step - loss: 1.1914 - accuracy: 0.5983 - val_loss: 3.7466 - val_accuracy: 0.1078\n",
            "Epoch 43/100\n",
            "375/375 [==============================] - 2s 4ms/step - loss: 1.1717 - accuracy: 0.6028 - val_loss: 3.8155 - val_accuracy: 0.1016\n",
            "Epoch 44/100\n",
            "375/375 [==============================] - 2s 4ms/step - loss: 1.1527 - accuracy: 0.6120 - val_loss: 3.8833 - val_accuracy: 0.1011\n",
            "Epoch 45/100\n",
            "375/375 [==============================] - 2s 4ms/step - loss: 1.1326 - accuracy: 0.6212 - val_loss: 3.9035 - val_accuracy: 0.1041\n",
            "Epoch 46/100\n",
            "375/375 [==============================] - 2s 4ms/step - loss: 1.1121 - accuracy: 0.6266 - val_loss: 3.9828 - val_accuracy: 0.1066\n",
            "Epoch 47/100\n",
            "375/375 [==============================] - 2s 4ms/step - loss: 1.0946 - accuracy: 0.6341 - val_loss: 4.0320 - val_accuracy: 0.1044\n",
            "Epoch 48/100\n",
            "375/375 [==============================] - 2s 4ms/step - loss: 1.0746 - accuracy: 0.6403 - val_loss: 4.0895 - val_accuracy: 0.1024\n",
            "Epoch 49/100\n",
            "375/375 [==============================] - 2s 4ms/step - loss: 1.0556 - accuracy: 0.6490 - val_loss: 4.1595 - val_accuracy: 0.1042\n",
            "Epoch 50/100\n",
            "375/375 [==============================] - 2s 4ms/step - loss: 1.0418 - accuracy: 0.6517 - val_loss: 4.1945 - val_accuracy: 0.1080\n",
            "Epoch 51/100\n",
            "375/375 [==============================] - 2s 4ms/step - loss: 1.0218 - accuracy: 0.6591 - val_loss: 4.2681 - val_accuracy: 0.0996\n",
            "Epoch 52/100\n",
            "375/375 [==============================] - 2s 4ms/step - loss: 1.0041 - accuracy: 0.6669 - val_loss: 4.3201 - val_accuracy: 0.1043\n",
            "Epoch 53/100\n",
            "375/375 [==============================] - 2s 4ms/step - loss: 0.9901 - accuracy: 0.6694 - val_loss: 4.3597 - val_accuracy: 0.1016\n",
            "Epoch 54/100\n",
            "375/375 [==============================] - 2s 4ms/step - loss: 0.9727 - accuracy: 0.6758 - val_loss: 4.4598 - val_accuracy: 0.1043\n",
            "Epoch 55/100\n",
            "375/375 [==============================] - 2s 4ms/step - loss: 0.9568 - accuracy: 0.6821 - val_loss: 4.4856 - val_accuracy: 0.1018\n",
            "Epoch 56/100\n",
            "375/375 [==============================] - 2s 4ms/step - loss: 0.9420 - accuracy: 0.6868 - val_loss: 4.5249 - val_accuracy: 0.1047\n",
            "Epoch 57/100\n",
            "375/375 [==============================] - 2s 5ms/step - loss: 0.9256 - accuracy: 0.6921 - val_loss: 4.6176 - val_accuracy: 0.1042\n",
            "Epoch 58/100\n",
            "375/375 [==============================] - 2s 4ms/step - loss: 0.9095 - accuracy: 0.6979 - val_loss: 4.6915 - val_accuracy: 0.1042\n",
            "Epoch 59/100\n",
            "375/375 [==============================] - 2s 4ms/step - loss: 0.8946 - accuracy: 0.7028 - val_loss: 4.7535 - val_accuracy: 0.1035\n",
            "Epoch 60/100\n",
            "375/375 [==============================] - 2s 4ms/step - loss: 0.8820 - accuracy: 0.7078 - val_loss: 4.8223 - val_accuracy: 0.1043\n",
            "Epoch 61/100\n",
            "375/375 [==============================] - 2s 4ms/step - loss: 0.8683 - accuracy: 0.7130 - val_loss: 4.8426 - val_accuracy: 0.1053\n",
            "Epoch 62/100\n",
            "375/375 [==============================] - 2s 4ms/step - loss: 0.8527 - accuracy: 0.7180 - val_loss: 4.9508 - val_accuracy: 0.1024\n",
            "Epoch 63/100\n",
            "375/375 [==============================] - 2s 4ms/step - loss: 0.8407 - accuracy: 0.7209 - val_loss: 5.0079 - val_accuracy: 0.1025\n",
            "Epoch 64/100\n",
            "375/375 [==============================] - 2s 5ms/step - loss: 0.8265 - accuracy: 0.7279 - val_loss: 5.0225 - val_accuracy: 0.1044\n",
            "Epoch 65/100\n",
            "375/375 [==============================] - 2s 5ms/step - loss: 0.8134 - accuracy: 0.7324 - val_loss: 5.0839 - val_accuracy: 0.1064\n",
            "Epoch 66/100\n",
            "375/375 [==============================] - 2s 4ms/step - loss: 0.7983 - accuracy: 0.7374 - val_loss: 5.1605 - val_accuracy: 0.1017\n",
            "Epoch 67/100\n",
            "375/375 [==============================] - 2s 4ms/step - loss: 0.7878 - accuracy: 0.7404 - val_loss: 5.2324 - val_accuracy: 0.1019\n",
            "Epoch 68/100\n",
            "375/375 [==============================] - 2s 4ms/step - loss: 0.7733 - accuracy: 0.7475 - val_loss: 5.3132 - val_accuracy: 0.1042\n",
            "Epoch 69/100\n",
            "375/375 [==============================] - 2s 5ms/step - loss: 0.7642 - accuracy: 0.7511 - val_loss: 5.3348 - val_accuracy: 0.1019\n",
            "Epoch 70/100\n",
            "375/375 [==============================] - 2s 4ms/step - loss: 0.7513 - accuracy: 0.7538 - val_loss: 5.4262 - val_accuracy: 0.1002\n",
            "Epoch 71/100\n",
            "375/375 [==============================] - 2s 4ms/step - loss: 0.7390 - accuracy: 0.7588 - val_loss: 5.5138 - val_accuracy: 0.1031\n",
            "Epoch 72/100\n",
            "375/375 [==============================] - 2s 4ms/step - loss: 0.7253 - accuracy: 0.7628 - val_loss: 5.6127 - val_accuracy: 0.1060\n",
            "Epoch 73/100\n",
            "375/375 [==============================] - 2s 4ms/step - loss: 0.7148 - accuracy: 0.7667 - val_loss: 5.6298 - val_accuracy: 0.1025\n",
            "Epoch 74/100\n",
            "375/375 [==============================] - 2s 4ms/step - loss: 0.7057 - accuracy: 0.7693 - val_loss: 5.6965 - val_accuracy: 0.1055\n",
            "Epoch 75/100\n",
            "375/375 [==============================] - 2s 4ms/step - loss: 0.6929 - accuracy: 0.7741 - val_loss: 5.7769 - val_accuracy: 0.1011\n",
            "Epoch 76/100\n",
            "375/375 [==============================] - 2s 4ms/step - loss: 0.6833 - accuracy: 0.7774 - val_loss: 5.8475 - val_accuracy: 0.1025\n",
            "Epoch 77/100\n",
            "375/375 [==============================] - 2s 4ms/step - loss: 0.6729 - accuracy: 0.7840 - val_loss: 5.8879 - val_accuracy: 0.1009\n",
            "Epoch 78/100\n",
            "375/375 [==============================] - 2s 5ms/step - loss: 0.6615 - accuracy: 0.7852 - val_loss: 5.9818 - val_accuracy: 0.1002\n",
            "Epoch 79/100\n",
            "375/375 [==============================] - 2s 4ms/step - loss: 0.6521 - accuracy: 0.7876 - val_loss: 6.0181 - val_accuracy: 0.1019\n",
            "Epoch 80/100\n",
            "375/375 [==============================] - 2s 4ms/step - loss: 0.6412 - accuracy: 0.7929 - val_loss: 6.0647 - val_accuracy: 0.1023\n",
            "Epoch 81/100\n",
            "375/375 [==============================] - 2s 5ms/step - loss: 0.6320 - accuracy: 0.7961 - val_loss: 6.1521 - val_accuracy: 0.1031\n",
            "Epoch 82/100\n",
            "375/375 [==============================] - 2s 4ms/step - loss: 0.6216 - accuracy: 0.7969 - val_loss: 6.2275 - val_accuracy: 0.1033\n",
            "Epoch 83/100\n",
            "375/375 [==============================] - 2s 5ms/step - loss: 0.6116 - accuracy: 0.8006 - val_loss: 6.2922 - val_accuracy: 0.1001\n",
            "Epoch 84/100\n",
            "375/375 [==============================] - 2s 5ms/step - loss: 0.6034 - accuracy: 0.8037 - val_loss: 6.3516 - val_accuracy: 0.1058\n",
            "Epoch 85/100\n",
            "375/375 [==============================] - 2s 4ms/step - loss: 0.5941 - accuracy: 0.8087 - val_loss: 6.4364 - val_accuracy: 0.1037\n",
            "Epoch 86/100\n",
            "375/375 [==============================] - 2s 5ms/step - loss: 0.5848 - accuracy: 0.8104 - val_loss: 6.4651 - val_accuracy: 0.1015\n",
            "Epoch 87/100\n",
            "375/375 [==============================] - 2s 4ms/step - loss: 0.5759 - accuracy: 0.8140 - val_loss: 6.5540 - val_accuracy: 0.1003\n",
            "Epoch 88/100\n",
            "375/375 [==============================] - 2s 4ms/step - loss: 0.5687 - accuracy: 0.8159 - val_loss: 6.6281 - val_accuracy: 0.1004\n",
            "Epoch 89/100\n",
            "375/375 [==============================] - 2s 5ms/step - loss: 0.5586 - accuracy: 0.8206 - val_loss: 6.6730 - val_accuracy: 0.1000\n",
            "Epoch 90/100\n",
            "375/375 [==============================] - 2s 4ms/step - loss: 0.5506 - accuracy: 0.8237 - val_loss: 6.7238 - val_accuracy: 0.1038\n",
            "Epoch 91/100\n",
            "375/375 [==============================] - 2s 5ms/step - loss: 0.5422 - accuracy: 0.8266 - val_loss: 6.8216 - val_accuracy: 0.1029\n",
            "Epoch 92/100\n",
            "375/375 [==============================] - 2s 4ms/step - loss: 0.5339 - accuracy: 0.8274 - val_loss: 6.8977 - val_accuracy: 0.1023\n",
            "Epoch 93/100\n",
            "375/375 [==============================] - 2s 5ms/step - loss: 0.5277 - accuracy: 0.8299 - val_loss: 6.9716 - val_accuracy: 0.1001\n",
            "Epoch 94/100\n",
            "375/375 [==============================] - 2s 4ms/step - loss: 0.5192 - accuracy: 0.8314 - val_loss: 7.0252 - val_accuracy: 0.1023\n",
            "Epoch 95/100\n",
            "375/375 [==============================] - 2s 4ms/step - loss: 0.5089 - accuracy: 0.8367 - val_loss: 7.1176 - val_accuracy: 0.1014\n",
            "Epoch 96/100\n",
            "375/375 [==============================] - 2s 5ms/step - loss: 0.5044 - accuracy: 0.8379 - val_loss: 7.1569 - val_accuracy: 0.0991\n",
            "Epoch 97/100\n",
            "375/375 [==============================] - 2s 4ms/step - loss: 0.4956 - accuracy: 0.8418 - val_loss: 7.2658 - val_accuracy: 0.1003\n",
            "Epoch 98/100\n",
            "375/375 [==============================] - 2s 4ms/step - loss: 0.4879 - accuracy: 0.8425 - val_loss: 7.3323 - val_accuracy: 0.1018\n",
            "Epoch 99/100\n",
            "375/375 [==============================] - 2s 4ms/step - loss: 0.4844 - accuracy: 0.8449 - val_loss: 7.4350 - val_accuracy: 0.1012\n",
            "Epoch 100/100\n",
            "375/375 [==============================] - 2s 4ms/step - loss: 0.4762 - accuracy: 0.8466 - val_loss: 7.4304 - val_accuracy: 0.1032\n"
          ]
        },
        {
          "output_type": "execute_result",
          "data": {
            "text/plain": [
              "<keras.callbacks.History at 0x7f78c2f7ef50>"
            ]
          },
          "metadata": {},
          "execution_count": 6
        }
      ],
      "source": [
        "(train_images, train_labels), _ = mnist.load_data()\n",
        "train_images = train_images.reshape((60000, 28 * 28))\n",
        "train_images = train_images.astype(\"float32\") / 255\n",
        "\n",
        "random_train_labels = train_labels[:]\n",
        "np.random.shuffle(random_train_labels)\n",
        "\n",
        "model = keras.Sequential([\n",
        "    layers.Dense(512, activation=\"relu\"),\n",
        "    layers.Dense(10, activation=\"softmax\")\n",
        "])\n",
        "model.compile(optimizer=\"rmsprop\",\n",
        "              loss=\"sparse_categorical_crossentropy\",\n",
        "              metrics=[\"accuracy\"])\n",
        "model.fit(train_images, random_train_labels,\n",
        "          epochs=100,\n",
        "          batch_size=128,\n",
        "          validation_split=0.2)"
      ]
    },
    {
      "cell_type": "code",
      "source": [
        "#accuracy 는 계속 오르지만 val_accuracy 는 10%"
      ],
      "metadata": {
        "id": "G4vp6JkfcisH"
      },
      "execution_count": null,
      "outputs": []
    },
    {
      "cell_type": "markdown",
      "metadata": {
        "id": "Uk6Du43zwvhp"
      },
      "source": [
        "#### The manifold hypothesis"
      ]
    },
    {
      "cell_type": "markdown",
      "metadata": {
        "id": "Hpt7gru5wvhq"
      },
      "source": [
        "#### Interpolation as a source of generalization"
      ]
    },
    {
      "cell_type": "markdown",
      "metadata": {
        "id": "JkaL9ZC-wvhq"
      },
      "source": [
        "#### Why deep learning works"
      ]
    },
    {
      "cell_type": "markdown",
      "metadata": {
        "id": "ZgGiikB6wvhr"
      },
      "source": [
        "#### Training data is paramount"
      ]
    },
    {
      "cell_type": "markdown",
      "metadata": {
        "id": "X0477RQ-wvhr"
      },
      "source": [
        "## Evaluating machine-learning models"
      ]
    },
    {
      "cell_type": "markdown",
      "metadata": {
        "id": "Gn3Q8o7Jwvhr"
      },
      "source": [
        "### Training, validation, and test sets"
      ]
    },
    {
      "cell_type": "markdown",
      "metadata": {
        "id": "tuNn8LXIwvhr"
      },
      "source": [
        "#### Simple hold-out validation"
      ]
    },
    {
      "cell_type": "markdown",
      "metadata": {
        "id": "R0vOzfJIwvhs"
      },
      "source": [
        "#### K-fold validation"
      ]
    },
    {
      "cell_type": "markdown",
      "metadata": {
        "id": "Ah_ykP5cwvhs"
      },
      "source": [
        "#### Iterated K-fold validation with shuffling"
      ]
    },
    {
      "cell_type": "markdown",
      "metadata": {
        "id": "XqC9-022wvhs"
      },
      "source": [
        "### Beating a common-sense baseline"
      ]
    },
    {
      "cell_type": "markdown",
      "metadata": {
        "id": "bVIAa0Enwvht"
      },
      "source": [
        "### Things to keep in mind about model evaluation"
      ]
    },
    {
      "cell_type": "markdown",
      "metadata": {
        "id": "4WZRNBmewvht"
      },
      "source": [
        "## Improving model fit"
      ]
    },
    {
      "cell_type": "markdown",
      "metadata": {
        "id": "Z7rnTr0Gwvhu"
      },
      "source": [
        "### Tuning key gradient descent parameters"
      ]
    },
    {
      "cell_type": "markdown",
      "metadata": {
        "id": "zoUbLJv7wvhu"
      },
      "source": [
        "**Training a MNIST model with an incorrectly high learning rate**"
      ]
    },
    {
      "cell_type": "code",
      "execution_count": null,
      "metadata": {
        "id": "MIezcImOwvhu",
        "colab": {
          "base_uri": "https://localhost:8080/"
        },
        "outputId": "7d3828e0-dd46-4af1-a195-4bb45697ba12"
      },
      "outputs": [
        {
          "output_type": "stream",
          "name": "stdout",
          "text": [
            "Epoch 1/10\n",
            "375/375 [==============================] - 2s 5ms/step - loss: 663.9348 - accuracy: 0.3297 - val_loss: 2.1212 - val_accuracy: 0.2295\n",
            "Epoch 2/10\n",
            "375/375 [==============================] - 2s 4ms/step - loss: 3.4124 - accuracy: 0.2218 - val_loss: 21.5156 - val_accuracy: 0.2783\n",
            "Epoch 3/10\n",
            "375/375 [==============================] - 2s 4ms/step - loss: 2.7346 - accuracy: 0.2398 - val_loss: 2.4331 - val_accuracy: 0.2339\n",
            "Epoch 4/10\n",
            "375/375 [==============================] - 2s 4ms/step - loss: 3.2224 - accuracy: 0.2323 - val_loss: 2.5607 - val_accuracy: 0.2190\n",
            "Epoch 5/10\n",
            "375/375 [==============================] - 2s 4ms/step - loss: 2.5881 - accuracy: 0.2366 - val_loss: 2.4008 - val_accuracy: 0.2297\n",
            "Epoch 6/10\n",
            "375/375 [==============================] - 2s 5ms/step - loss: 2.4826 - accuracy: 0.2368 - val_loss: 2.6300 - val_accuracy: 0.2517\n",
            "Epoch 7/10\n",
            "375/375 [==============================] - 2s 4ms/step - loss: 2.6125 - accuracy: 0.2466 - val_loss: 2.1896 - val_accuracy: 0.2361\n",
            "Epoch 8/10\n",
            "375/375 [==============================] - 2s 4ms/step - loss: 2.6025 - accuracy: 0.2656 - val_loss: 2.0992 - val_accuracy: 0.2745\n",
            "Epoch 9/10\n",
            "375/375 [==============================] - 2s 4ms/step - loss: 2.5053 - accuracy: 0.2603 - val_loss: 3.2070 - val_accuracy: 0.3232\n",
            "Epoch 10/10\n",
            "375/375 [==============================] - 2s 4ms/step - loss: 2.5811 - accuracy: 0.2500 - val_loss: 3.9454 - val_accuracy: 0.2554\n"
          ]
        },
        {
          "output_type": "execute_result",
          "data": {
            "text/plain": [
              "<keras.callbacks.History at 0x7f78c2e01890>"
            ]
          },
          "metadata": {},
          "execution_count": 8
        }
      ],
      "source": [
        "(train_images, train_labels), _ = mnist.load_data()\n",
        "train_images = train_images.reshape((60000, 28 * 28))\n",
        "train_images = train_images.astype(\"float32\") / 255\n",
        "\n",
        "model = keras.Sequential([\n",
        "    layers.Dense(512, activation=\"relu\"),\n",
        "    layers.Dense(10, activation=\"softmax\")\n",
        "])\n",
        "model.compile(optimizer=keras.optimizers.RMSprop(1.), # check gradient descend parameters\n",
        "              loss=\"sparse_categorical_crossentropy\",\n",
        "              metrics=[\"accuracy\"])\n",
        "model.fit(train_images, train_labels,\n",
        "          epochs=10,\n",
        "          batch_size=128,\n",
        "          validation_split=0.2)"
      ]
    },
    {
      "cell_type": "markdown",
      "metadata": {
        "id": "m_CHbLUfwvhu"
      },
      "source": [
        "**The same model with a more appropriate learning rate**"
      ]
    },
    {
      "cell_type": "code",
      "execution_count": null,
      "metadata": {
        "id": "5Edw8v0Mwvhv",
        "colab": {
          "base_uri": "https://localhost:8080/"
        },
        "outputId": "e733d72d-e252-4f16-9209-9ca8ed6a09bd"
      },
      "outputs": [
        {
          "output_type": "stream",
          "name": "stdout",
          "text": [
            "Epoch 1/10\n",
            "375/375 [==============================] - 2s 5ms/step - loss: 0.3592 - accuracy: 0.9116 - val_loss: 0.1299 - val_accuracy: 0.9641\n",
            "Epoch 2/10\n",
            "375/375 [==============================] - 2s 4ms/step - loss: 0.1366 - accuracy: 0.9643 - val_loss: 0.1621 - val_accuracy: 0.9641\n",
            "Epoch 3/10\n",
            "375/375 [==============================] - 2s 4ms/step - loss: 0.1126 - accuracy: 0.9740 - val_loss: 0.1472 - val_accuracy: 0.9693\n",
            "Epoch 4/10\n",
            "375/375 [==============================] - 2s 4ms/step - loss: 0.0995 - accuracy: 0.9778 - val_loss: 0.1983 - val_accuracy: 0.9668\n",
            "Epoch 5/10\n",
            "375/375 [==============================] - 2s 4ms/step - loss: 0.0841 - accuracy: 0.9821 - val_loss: 0.2137 - val_accuracy: 0.9697\n",
            "Epoch 6/10\n",
            "375/375 [==============================] - 2s 4ms/step - loss: 0.0762 - accuracy: 0.9848 - val_loss: 0.1938 - val_accuracy: 0.9737\n",
            "Epoch 7/10\n",
            "375/375 [==============================] - 2s 4ms/step - loss: 0.0665 - accuracy: 0.9864 - val_loss: 0.2531 - val_accuracy: 0.9731\n",
            "Epoch 8/10\n",
            "375/375 [==============================] - 2s 4ms/step - loss: 0.0691 - accuracy: 0.9879 - val_loss: 0.2718 - val_accuracy: 0.9736\n",
            "Epoch 9/10\n",
            "375/375 [==============================] - 2s 4ms/step - loss: 0.0548 - accuracy: 0.9900 - val_loss: 0.3610 - val_accuracy: 0.9682\n",
            "Epoch 10/10\n",
            "375/375 [==============================] - 2s 5ms/step - loss: 0.0579 - accuracy: 0.9903 - val_loss: 0.2960 - val_accuracy: 0.9734\n"
          ]
        },
        {
          "output_type": "execute_result",
          "data": {
            "text/plain": [
              "<keras.callbacks.History at 0x7f78c2c7f610>"
            ]
          },
          "metadata": {},
          "execution_count": 9
        }
      ],
      "source": [
        "model = keras.Sequential([\n",
        "    layers.Dense(512, activation=\"relu\"),\n",
        "    layers.Dense(10, activation=\"softmax\")\n",
        "])\n",
        "model.compile(optimizer=keras.optimizers.RMSprop(1e-2), #appropriate learning rate\n",
        "              loss=\"sparse_categorical_crossentropy\",\n",
        "              metrics=[\"accuracy\"])\n",
        "model.fit(train_images, train_labels,\n",
        "          epochs=10,\n",
        "          batch_size=128,\n",
        "          validation_split=0.2)"
      ]
    },
    {
      "cell_type": "markdown",
      "metadata": {
        "id": "nXBRiYqawvhv"
      },
      "source": [
        "### Leveraging better architecture priors"
      ]
    },
    {
      "cell_type": "markdown",
      "metadata": {
        "id": "ShmI3QNiwvhv"
      },
      "source": [
        "### Increasing model capacity"
      ]
    },
    {
      "cell_type": "markdown",
      "metadata": {
        "id": "BDZhn70nwvhv"
      },
      "source": [
        "**A simple logistic regression on MNIST**"
      ]
    },
    {
      "cell_type": "code",
      "execution_count": null,
      "metadata": {
        "id": "5nrGiFYqwvhw",
        "colab": {
          "base_uri": "https://localhost:8080/"
        },
        "outputId": "5f53e71f-dd65-46bc-c930-9635542d179d"
      },
      "outputs": [
        {
          "output_type": "stream",
          "name": "stdout",
          "text": [
            "Epoch 1/20\n",
            "375/375 [==============================] - 2s 4ms/step - loss: 0.6797 - accuracy: 0.8292 - val_loss: 0.3605 - val_accuracy: 0.9035\n",
            "Epoch 2/20\n",
            "375/375 [==============================] - 1s 3ms/step - loss: 0.3520 - accuracy: 0.9029 - val_loss: 0.3080 - val_accuracy: 0.9143\n",
            "Epoch 3/20\n",
            "375/375 [==============================] - 1s 3ms/step - loss: 0.3156 - accuracy: 0.9117 - val_loss: 0.2913 - val_accuracy: 0.9193\n",
            "Epoch 4/20\n",
            "375/375 [==============================] - 1s 3ms/step - loss: 0.2993 - accuracy: 0.9163 - val_loss: 0.2812 - val_accuracy: 0.9221\n",
            "Epoch 5/20\n",
            "375/375 [==============================] - 1s 3ms/step - loss: 0.2896 - accuracy: 0.9195 - val_loss: 0.2756 - val_accuracy: 0.9251\n",
            "Epoch 6/20\n",
            "375/375 [==============================] - 1s 3ms/step - loss: 0.2831 - accuracy: 0.9204 - val_loss: 0.2735 - val_accuracy: 0.9243\n",
            "Epoch 7/20\n",
            "375/375 [==============================] - 1s 3ms/step - loss: 0.2780 - accuracy: 0.9222 - val_loss: 0.2687 - val_accuracy: 0.9276\n",
            "Epoch 8/20\n",
            "375/375 [==============================] - 1s 3ms/step - loss: 0.2741 - accuracy: 0.9232 - val_loss: 0.2723 - val_accuracy: 0.9250\n",
            "Epoch 9/20\n",
            "375/375 [==============================] - 1s 3ms/step - loss: 0.2712 - accuracy: 0.9242 - val_loss: 0.2661 - val_accuracy: 0.9277\n",
            "Epoch 10/20\n",
            "375/375 [==============================] - 1s 3ms/step - loss: 0.2687 - accuracy: 0.9257 - val_loss: 0.2645 - val_accuracy: 0.9282\n",
            "Epoch 11/20\n",
            "375/375 [==============================] - 1s 3ms/step - loss: 0.2664 - accuracy: 0.9260 - val_loss: 0.2638 - val_accuracy: 0.9292\n",
            "Epoch 12/20\n",
            "375/375 [==============================] - 1s 3ms/step - loss: 0.2646 - accuracy: 0.9264 - val_loss: 0.2614 - val_accuracy: 0.9291\n",
            "Epoch 13/20\n",
            "375/375 [==============================] - 1s 3ms/step - loss: 0.2632 - accuracy: 0.9277 - val_loss: 0.2633 - val_accuracy: 0.9287\n",
            "Epoch 14/20\n",
            "375/375 [==============================] - 1s 3ms/step - loss: 0.2616 - accuracy: 0.9281 - val_loss: 0.2623 - val_accuracy: 0.9284\n",
            "Epoch 15/20\n",
            "375/375 [==============================] - 1s 4ms/step - loss: 0.2604 - accuracy: 0.9286 - val_loss: 0.2612 - val_accuracy: 0.9301\n",
            "Epoch 16/20\n",
            "375/375 [==============================] - 1s 3ms/step - loss: 0.2595 - accuracy: 0.9291 - val_loss: 0.2635 - val_accuracy: 0.9292\n",
            "Epoch 17/20\n",
            "375/375 [==============================] - 1s 3ms/step - loss: 0.2580 - accuracy: 0.9290 - val_loss: 0.2602 - val_accuracy: 0.9308\n",
            "Epoch 18/20\n",
            "375/375 [==============================] - 1s 3ms/step - loss: 0.2576 - accuracy: 0.9292 - val_loss: 0.2624 - val_accuracy: 0.9302\n",
            "Epoch 19/20\n",
            "375/375 [==============================] - 1s 3ms/step - loss: 0.2564 - accuracy: 0.9299 - val_loss: 0.2627 - val_accuracy: 0.9293\n",
            "Epoch 20/20\n",
            "375/375 [==============================] - 1s 3ms/step - loss: 0.2556 - accuracy: 0.9306 - val_loss: 0.2607 - val_accuracy: 0.9309\n"
          ]
        }
      ],
      "source": [
        "model = keras.Sequential([layers.Dense(10, activation=\"softmax\")])\n",
        "model.compile(optimizer=\"rmsprop\",\n",
        "              loss=\"sparse_categorical_crossentropy\",\n",
        "              metrics=[\"accuracy\"])\n",
        "history_small_model = model.fit(\n",
        "    train_images, train_labels,\n",
        "    epochs=20,\n",
        "    batch_size=128,\n",
        "    validation_split=0.2)"
      ]
    },
    {
      "cell_type": "code",
      "execution_count": null,
      "metadata": {
        "id": "yZDx8yyLwvhw",
        "colab": {
          "base_uri": "https://localhost:8080/",
          "height": 313
        },
        "outputId": "a6583e0e-21a9-40af-c58e-dfc4a6944ac9"
      },
      "outputs": [
        {
          "output_type": "execute_result",
          "data": {
            "text/plain": [
              "<matplotlib.legend.Legend at 0x7f78c2ff8910>"
            ]
          },
          "metadata": {},
          "execution_count": 11
        },
        {
          "output_type": "display_data",
          "data": {
            "text/plain": [
              "<Figure size 432x288 with 1 Axes>"
            ],
            "image/png": "[encoded data removed]"
          },
          "metadata": {
            "needs_background": "light"
          }
        }
      ],
      "source": [
        "import matplotlib.pyplot as plt\n",
        "val_loss = history_small_model.history[\"val_loss\"]\n",
        "epochs = range(1, 21)\n",
        "plt.plot(epochs, val_loss, \"b--\",\n",
        "         label=\"Validation loss\")\n",
        "plt.title(\"Effect of insufficient model capacity on validation loss\")\n",
        "plt.xlabel(\"Epochs\")\n",
        "plt.ylabel(\"Loss\")\n",
        "plt.legend()"
      ]
    },
    {
      "cell_type": "code",
      "execution_count": null,
      "metadata": {
        "id": "msBy8QZFwvhw",
        "colab": {
          "base_uri": "https://localhost:8080/"
        },
        "outputId": "aca9ae3e-96aa-40b9-aaac-d02e2fbf5d84"
      },
      "outputs": [
        {
          "output_type": "stream",
          "name": "stdout",
          "text": [
            "Epoch 1/20\n",
            "375/375 [==============================] - 2s 5ms/step - loss: 0.3567 - accuracy: 0.8989 - val_loss: 0.1936 - val_accuracy: 0.9452\n",
            "Epoch 2/20\n",
            "375/375 [==============================] - 2s 4ms/step - loss: 0.1564 - accuracy: 0.9538 - val_loss: 0.1372 - val_accuracy: 0.9593\n",
            "Epoch 3/20\n",
            "375/375 [==============================] - 1s 4ms/step - loss: 0.1095 - accuracy: 0.9676 - val_loss: 0.1134 - val_accuracy: 0.9674\n",
            "Epoch 4/20\n",
            "375/375 [==============================] - 1s 4ms/step - loss: 0.0847 - accuracy: 0.9745 - val_loss: 0.1155 - val_accuracy: 0.9666\n",
            "Epoch 5/20\n",
            "375/375 [==============================] - 2s 4ms/step - loss: 0.0682 - accuracy: 0.9792 - val_loss: 0.0904 - val_accuracy: 0.9726\n",
            "Epoch 6/20\n",
            "375/375 [==============================] - 1s 4ms/step - loss: 0.0561 - accuracy: 0.9830 - val_loss: 0.0922 - val_accuracy: 0.9731\n",
            "Epoch 7/20\n",
            "375/375 [==============================] - 1s 4ms/step - loss: 0.0471 - accuracy: 0.9855 - val_loss: 0.0951 - val_accuracy: 0.9733\n",
            "Epoch 8/20\n",
            "375/375 [==============================] - 2s 4ms/step - loss: 0.0386 - accuracy: 0.9883 - val_loss: 0.0907 - val_accuracy: 0.9741\n",
            "Epoch 9/20\n",
            "375/375 [==============================] - 1s 4ms/step - loss: 0.0327 - accuracy: 0.9899 - val_loss: 0.0929 - val_accuracy: 0.9760\n",
            "Epoch 10/20\n",
            "375/375 [==============================] - 2s 4ms/step - loss: 0.0281 - accuracy: 0.9911 - val_loss: 0.1054 - val_accuracy: 0.9722\n",
            "Epoch 11/20\n",
            "375/375 [==============================] - 1s 4ms/step - loss: 0.0231 - accuracy: 0.9933 - val_loss: 0.1111 - val_accuracy: 0.9728\n",
            "Epoch 12/20\n",
            "375/375 [==============================] - 2s 4ms/step - loss: 0.0203 - accuracy: 0.9937 - val_loss: 0.1063 - val_accuracy: 0.9753\n",
            "Epoch 13/20\n",
            "375/375 [==============================] - 1s 4ms/step - loss: 0.0164 - accuracy: 0.9951 - val_loss: 0.1009 - val_accuracy: 0.9770\n",
            "Epoch 14/20\n",
            "375/375 [==============================] - 2s 4ms/step - loss: 0.0131 - accuracy: 0.9964 - val_loss: 0.1113 - val_accuracy: 0.9743\n",
            "Epoch 15/20\n",
            "375/375 [==============================] - 1s 4ms/step - loss: 0.0122 - accuracy: 0.9962 - val_loss: 0.1121 - val_accuracy: 0.9745\n",
            "Epoch 16/20\n",
            "375/375 [==============================] - 2s 4ms/step - loss: 0.0100 - accuracy: 0.9968 - val_loss: 0.1049 - val_accuracy: 0.9768\n",
            "Epoch 17/20\n",
            "375/375 [==============================] - 1s 4ms/step - loss: 0.0080 - accuracy: 0.9976 - val_loss: 0.1171 - val_accuracy: 0.9760\n",
            "Epoch 18/20\n",
            "375/375 [==============================] - 2s 4ms/step - loss: 0.0074 - accuracy: 0.9976 - val_loss: 0.1272 - val_accuracy: 0.9771\n",
            "Epoch 19/20\n",
            "375/375 [==============================] - 2s 4ms/step - loss: 0.0063 - accuracy: 0.9982 - val_loss: 0.1365 - val_accuracy: 0.9760\n",
            "Epoch 20/20\n",
            "375/375 [==============================] - 2s 4ms/step - loss: 0.0055 - accuracy: 0.9984 - val_loss: 0.1342 - val_accuracy: 0.9751\n"
          ]
        }
      ],
      "source": [
        "model = keras.Sequential([\n",
        "    layers.Dense(96, activation=\"relu\"),\n",
        "    layers.Dense(96, activation=\"relu\"),\n",
        "    layers.Dense(10, activation=\"softmax\"),\n",
        "])\n",
        "model.compile(optimizer=\"rmsprop\",\n",
        "              loss=\"sparse_categorical_crossentropy\",\n",
        "              metrics=[\"accuracy\"])\n",
        "history_large_model = model.fit(\n",
        "    train_images, train_labels,\n",
        "    epochs=20,\n",
        "    batch_size=128,\n",
        "    validation_split=0.2)"
      ]
    },
    {
      "cell_type": "code",
      "source": [
        "import matplotlib.pyplot as plt\n",
        "val_loss = history_large_model.history[\"val_loss\"]\n",
        "epochs = range(1, 21)\n",
        "plt.plot(epochs, val_loss, \"b--\",\n",
        "         label=\"Validation loss\")\n",
        "plt.title(\"Effect of large model capacity on validation loss\")\n",
        "plt.xlabel(\"Epochs\")\n",
        "plt.ylabel(\"Loss\")\n",
        "plt.legend()"
      ],
      "metadata": {
        "id": "hfc8kxWkn2DW",
        "colab": {
          "base_uri": "https://localhost:8080/",
          "height": 313
        },
        "outputId": "503de964-12bf-4cbb-99df-dca56b945999"
      },
      "execution_count": null,
      "outputs": [
        {
          "output_type": "execute_result",
          "data": {
            "text/plain": [
              "<matplotlib.legend.Legend at 0x7f78c2977350>"
            ]
          },
          "metadata": {},
          "execution_count": 13
        },
        {
          "output_type": "display_data",
          "data": {
            "text/plain": [
              "<Figure size 432x288 with 1 Axes>"
            ],
            "image/png": "[encoded data removed]"
          },
          "metadata": {
            "needs_background": "light"
          }
        }
      ]
    },
    {
      "cell_type": "markdown",
      "metadata": {
        "id": "ukggTgr6wvhw"
      },
      "source": [
        "## Improving generalization"
      ]
    },
    {
      "cell_type": "markdown",
      "metadata": {
        "id": "3stmTLUjwvh1"
      },
      "source": [
        "### Dataset curation"
      ]
    },
    {
      "cell_type": "markdown",
      "metadata": {
        "id": "rxm2CnDvwvh2"
      },
      "source": [
        "### Feature engineering"
      ]
    },
    {
      "cell_type": "markdown",
      "metadata": {
        "id": "C0bSulT8wvh2"
      },
      "source": [
        "### Using early stopping"
      ]
    },
    {
      "cell_type": "markdown",
      "metadata": {
        "id": "2Pb85BD9wvh2"
      },
      "source": [
        "### Regularizing your model"
      ]
    },
    {
      "cell_type": "markdown",
      "metadata": {
        "id": "sA-XOwsrwvh3"
      },
      "source": [
        "#### Reducing the network's size"
      ]
    },
    {
      "cell_type": "markdown",
      "metadata": {
        "id": "BhiLLpJEwvh3"
      },
      "source": [
        "**Original model**"
      ]
    },
    {
      "cell_type": "code",
      "execution_count": null,
      "metadata": {
        "id": "2rfg2v7Hwvh3",
        "colab": {
          "base_uri": "https://localhost:8080/"
        },
        "outputId": "8642e346-d0f4-42b9-d65e-9e6fd67d5f43"
      },
      "outputs": [
        {
          "output_type": "stream",
          "name": "stdout",
          "text": [
            "Downloading data from https://storage.googleapis.com/tensorflow/tf-keras-datasets/imdb.npz\n",
            "17465344/17464789 [==============================] - 0s 0us/step\n",
            "17473536/17464789 [==============================] - 0s 0us/step\n",
            "Epoch 1/20\n",
            "30/30 [==============================] - 3s 50ms/step - loss: 0.4980 - accuracy: 0.7851 - val_loss: 0.3610 - val_accuracy: 0.8761\n",
            "Epoch 2/20\n",
            "30/30 [==============================] - 1s 36ms/step - loss: 0.2869 - accuracy: 0.9037 - val_loss: 0.2916 - val_accuracy: 0.8911\n",
            "Epoch 3/20\n",
            "30/30 [==============================] - 1s 21ms/step - loss: 0.2090 - accuracy: 0.9323 - val_loss: 0.2876 - val_accuracy: 0.8852\n",
            "Epoch 4/20\n",
            "30/30 [==============================] - 1s 21ms/step - loss: 0.1658 - accuracy: 0.9456 - val_loss: 0.2742 - val_accuracy: 0.8908\n",
            "Epoch 5/20\n",
            "30/30 [==============================] - 1s 24ms/step - loss: 0.1329 - accuracy: 0.9569 - val_loss: 0.2894 - val_accuracy: 0.8861\n",
            "Epoch 6/20\n",
            "30/30 [==============================] - 1s 24ms/step - loss: 0.1079 - accuracy: 0.9669 - val_loss: 0.3049 - val_accuracy: 0.8851\n",
            "Epoch 7/20\n",
            "30/30 [==============================] - 1s 21ms/step - loss: 0.0921 - accuracy: 0.9725 - val_loss: 0.3231 - val_accuracy: 0.8832\n",
            "Epoch 8/20\n",
            "30/30 [==============================] - 1s 21ms/step - loss: 0.0741 - accuracy: 0.9790 - val_loss: 0.3424 - val_accuracy: 0.8831\n",
            "Epoch 9/20\n",
            "30/30 [==============================] - 1s 20ms/step - loss: 0.0613 - accuracy: 0.9843 - val_loss: 0.3913 - val_accuracy: 0.8746\n",
            "Epoch 10/20\n",
            "30/30 [==============================] - 1s 24ms/step - loss: 0.0516 - accuracy: 0.9872 - val_loss: 0.3947 - val_accuracy: 0.8772\n",
            "Epoch 11/20\n",
            "30/30 [==============================] - 1s 21ms/step - loss: 0.0420 - accuracy: 0.9899 - val_loss: 0.4273 - val_accuracy: 0.8763\n",
            "Epoch 12/20\n",
            "30/30 [==============================] - 1s 21ms/step - loss: 0.0321 - accuracy: 0.9934 - val_loss: 0.4545 - val_accuracy: 0.8732\n",
            "Epoch 13/20\n",
            "30/30 [==============================] - 1s 20ms/step - loss: 0.0263 - accuracy: 0.9946 - val_loss: 0.4855 - val_accuracy: 0.8728\n",
            "Epoch 14/20\n",
            "30/30 [==============================] - 1s 24ms/step - loss: 0.0198 - accuracy: 0.9967 - val_loss: 0.5488 - val_accuracy: 0.8687\n",
            "Epoch 15/20\n",
            "30/30 [==============================] - 1s 21ms/step - loss: 0.0180 - accuracy: 0.9966 - val_loss: 0.5535 - val_accuracy: 0.8699\n",
            "Epoch 16/20\n",
            "30/30 [==============================] - 1s 21ms/step - loss: 0.0161 - accuracy: 0.9969 - val_loss: 0.5835 - val_accuracy: 0.8697\n",
            "Epoch 17/20\n",
            "30/30 [==============================] - 1s 21ms/step - loss: 0.0078 - accuracy: 0.9993 - val_loss: 0.6216 - val_accuracy: 0.8678\n",
            "Epoch 18/20\n",
            "30/30 [==============================] - 1s 24ms/step - loss: 0.0101 - accuracy: 0.9981 - val_loss: 0.6591 - val_accuracy: 0.8669\n",
            "Epoch 19/20\n",
            "30/30 [==============================] - 1s 21ms/step - loss: 0.0103 - accuracy: 0.9979 - val_loss: 0.6967 - val_accuracy: 0.8658\n",
            "Epoch 20/20\n",
            "30/30 [==============================] - 1s 24ms/step - loss: 0.0034 - accuracy: 0.9998 - val_loss: 0.7201 - val_accuracy: 0.8651\n"
          ]
        }
      ],
      "source": [
        "from tensorflow.keras.datasets import imdb\n",
        "(train_data, train_labels), _ = imdb.load_data(num_words=10000)\n",
        "\n",
        "def vectorize_sequences(sequences, dimension=10000):\n",
        "    results = np.zeros((len(sequences), dimension))\n",
        "    for i, sequence in enumerate(sequences):\n",
        "        results[i, sequence] = 1.\n",
        "    return results\n",
        "train_data = vectorize_sequences(train_data)\n",
        "\n",
        "model = keras.Sequential([\n",
        "    layers.Dense(16, activation=\"relu\"),\n",
        "    layers.Dense(16, activation=\"relu\"),\n",
        "    layers.Dense(1, activation=\"sigmoid\")\n",
        "])\n",
        "model.compile(optimizer=\"rmsprop\",\n",
        "              loss=\"binary_crossentropy\",\n",
        "              metrics=[\"accuracy\"])\n",
        "history_original = model.fit(train_data, train_labels,\n",
        "                             epochs=20, batch_size=512, validation_split=0.4)"
      ]
    },
    {
      "cell_type": "markdown",
      "metadata": {
        "id": "4GsX3otrwvh3"
      },
      "source": [
        "**Version of the model with lower capacity**"
      ]
    },
    {
      "cell_type": "code",
      "execution_count": null,
      "metadata": {
        "id": "0s40uKTUwvh4",
        "colab": {
          "base_uri": "https://localhost:8080/"
        },
        "outputId": "1a629a8c-a25c-4a24-89a3-369672051a9e"
      },
      "outputs": [
        {
          "output_type": "stream",
          "name": "stdout",
          "text": [
            "Epoch 1/20\n",
            "30/30 [==============================] - 2s 41ms/step - loss: 0.6263 - accuracy: 0.6177 - val_loss: 0.5764 - val_accuracy: 0.7558\n",
            "Epoch 2/20\n",
            "30/30 [==============================] - 1s 21ms/step - loss: 0.5397 - accuracy: 0.7811 - val_loss: 0.5280 - val_accuracy: 0.7648\n",
            "Epoch 3/20\n",
            "30/30 [==============================] - 1s 21ms/step - loss: 0.4891 - accuracy: 0.8434 - val_loss: 0.4943 - val_accuracy: 0.8302\n",
            "Epoch 4/20\n",
            "30/30 [==============================] - 1s 22ms/step - loss: 0.4516 - accuracy: 0.8815 - val_loss: 0.4709 - val_accuracy: 0.8634\n",
            "Epoch 5/20\n",
            "30/30 [==============================] - 1s 25ms/step - loss: 0.4207 - accuracy: 0.9064 - val_loss: 0.4545 - val_accuracy: 0.8600\n",
            "Epoch 6/20\n",
            "30/30 [==============================] - 1s 22ms/step - loss: 0.3941 - accuracy: 0.9243 - val_loss: 0.4434 - val_accuracy: 0.8616\n",
            "Epoch 7/20\n",
            "30/30 [==============================] - 1s 21ms/step - loss: 0.3698 - accuracy: 0.9367 - val_loss: 0.4334 - val_accuracy: 0.8643\n",
            "Epoch 8/20\n",
            "30/30 [==============================] - 1s 25ms/step - loss: 0.3475 - accuracy: 0.9479 - val_loss: 0.4223 - val_accuracy: 0.8737\n",
            "Epoch 9/20\n",
            "30/30 [==============================] - 1s 21ms/step - loss: 0.3266 - accuracy: 0.9564 - val_loss: 0.4454 - val_accuracy: 0.8490\n",
            "Epoch 10/20\n",
            "30/30 [==============================] - 1s 21ms/step - loss: 0.3066 - accuracy: 0.9637 - val_loss: 0.4249 - val_accuracy: 0.8649\n",
            "Epoch 11/20\n",
            "30/30 [==============================] - 1s 25ms/step - loss: 0.2861 - accuracy: 0.9692 - val_loss: 0.4202 - val_accuracy: 0.8668\n",
            "Epoch 12/20\n",
            "30/30 [==============================] - 1s 21ms/step - loss: 0.2663 - accuracy: 0.9729 - val_loss: 0.4051 - val_accuracy: 0.8725\n",
            "Epoch 13/20\n",
            "30/30 [==============================] - 1s 21ms/step - loss: 0.2455 - accuracy: 0.9763 - val_loss: 0.3824 - val_accuracy: 0.8805\n",
            "Epoch 14/20\n",
            "30/30 [==============================] - 1s 20ms/step - loss: 0.2252 - accuracy: 0.9796 - val_loss: 0.3891 - val_accuracy: 0.8773\n",
            "Epoch 15/20\n",
            "30/30 [==============================] - 1s 22ms/step - loss: 0.2033 - accuracy: 0.9813 - val_loss: 0.4356 - val_accuracy: 0.8596\n",
            "Epoch 16/20\n",
            "30/30 [==============================] - 1s 21ms/step - loss: 0.1826 - accuracy: 0.9833 - val_loss: 0.4275 - val_accuracy: 0.8618\n",
            "Epoch 17/20\n",
            "30/30 [==============================] - 1s 21ms/step - loss: 0.1613 - accuracy: 0.9849 - val_loss: 0.3926 - val_accuracy: 0.8731\n",
            "Epoch 18/20\n",
            "30/30 [==============================] - 1s 21ms/step - loss: 0.1414 - accuracy: 0.9854 - val_loss: 0.4052 - val_accuracy: 0.8710\n",
            "Epoch 19/20\n",
            "30/30 [==============================] - 1s 22ms/step - loss: 0.1209 - accuracy: 0.9868 - val_loss: 0.3548 - val_accuracy: 0.8780\n",
            "Epoch 20/20\n",
            "30/30 [==============================] - 1s 25ms/step - loss: 0.0985 - accuracy: 0.9879 - val_loss: 0.3625 - val_accuracy: 0.8766\n"
          ]
        }
      ],
      "source": [
        "model = keras.Sequential([\n",
        "    layers.Dense(4, activation=\"relu\"),\n",
        "    layers.Dense(4, activation=\"relu\"),\n",
        "    layers.Dense(1, activation=\"sigmoid\")\n",
        "])\n",
        "model.compile(optimizer=\"rmsprop\",\n",
        "              loss=\"binary_crossentropy\",\n",
        "              metrics=[\"accuracy\"])\n",
        "history_smaller_model = model.fit(\n",
        "    train_data, train_labels,\n",
        "    epochs=20, batch_size=512, validation_split=0.4)"
      ]
    },
    {
      "cell_type": "code",
      "source": [
        "import matplotlib.pyplot as plt\n",
        "val_loss = history_original.history[\"val_loss\"]\n",
        "val_loss2 = history_smaller_model.history[\"val_loss\"]\n",
        "epochs = range(1, 21)\n",
        "plt.plot(epochs, val_loss, \"b--\",\n",
        "         label=\"Validation loss of original model\")\n",
        "plt.plot(epochs, val_loss2, \"b--\",\n",
        "         label=\"Validation loss of smaller model\")\n",
        "plt.title(\"Effect of smaller model capacity on validation loss\")\n",
        "plt.xlabel(\"Epochs\")\n",
        "plt.ylabel(\"Loss\")\n",
        "plt.legend()"
      ],
      "metadata": {
        "colab": {
          "base_uri": "https://localhost:8080/",
          "height": 313
        },
        "id": "fBrAzQvQoQWY",
        "outputId": "a2fc994e-62e5-4be4-aa23-3fd4057eccc1"
      },
      "execution_count": null,
      "outputs": [
        {
          "output_type": "execute_result",
          "data": {
            "text/plain": [
              "<matplotlib.legend.Legend at 0x7f78b5d52ed0>"
            ]
          },
          "metadata": {},
          "execution_count": 16
        },
        {
          "output_type": "display_data",
          "data": {
            "text/plain": [
              "<Figure size 432x288 with 1 Axes>"
            ],
            "image/png": "[encoded data removed]"
          },
          "metadata": {
            "needs_background": "light"
          }
        }
      ]
    },
    {
      "cell_type": "markdown",
      "metadata": {
        "id": "oY13xoFIwvh4"
      },
      "source": [
        "**Version of the model with higher capacity**"
      ]
    },
    {
      "cell_type": "code",
      "execution_count": null,
      "metadata": {
        "id": "4fFQcZtGwvh4",
        "colab": {
          "base_uri": "https://localhost:8080/"
        },
        "outputId": "f8189e03-6d96-482d-ef10-bb75f4b7a71b"
      },
      "outputs": [
        {
          "output_type": "stream",
          "name": "stdout",
          "text": [
            "Epoch 1/20\n",
            "30/30 [==============================] - 2s 48ms/step - loss: 0.5284 - accuracy: 0.7560 - val_loss: 0.3418 - val_accuracy: 0.8661\n",
            "Epoch 2/20\n",
            "30/30 [==============================] - 1s 31ms/step - loss: 0.2464 - accuracy: 0.9025 - val_loss: 0.2678 - val_accuracy: 0.8907\n",
            "Epoch 3/20\n",
            "30/30 [==============================] - 1s 30ms/step - loss: 0.1320 - accuracy: 0.9503 - val_loss: 0.5614 - val_accuracy: 0.8306\n",
            "Epoch 4/20\n",
            "30/30 [==============================] - 1s 29ms/step - loss: 0.0658 - accuracy: 0.9768 - val_loss: 0.4235 - val_accuracy: 0.8851\n",
            "Epoch 5/20\n",
            "30/30 [==============================] - 1s 32ms/step - loss: 0.0959 - accuracy: 0.9787 - val_loss: 0.4217 - val_accuracy: 0.8874\n",
            "Epoch 6/20\n",
            "30/30 [==============================] - 1s 31ms/step - loss: 0.0034 - accuracy: 0.9995 - val_loss: 0.5455 - val_accuracy: 0.8861\n",
            "Epoch 7/20\n",
            "30/30 [==============================] - 1s 30ms/step - loss: 5.5289e-04 - accuracy: 0.9999 - val_loss: 0.6843 - val_accuracy: 0.8848\n",
            "Epoch 8/20\n",
            "30/30 [==============================] - 1s 32ms/step - loss: 6.0103e-05 - accuracy: 1.0000 - val_loss: 0.8102 - val_accuracy: 0.8847\n",
            "Epoch 9/20\n",
            "30/30 [==============================] - 1s 29ms/step - loss: 1.0130e-05 - accuracy: 1.0000 - val_loss: 0.9296 - val_accuracy: 0.8832\n",
            "Epoch 10/20\n",
            "30/30 [==============================] - 1s 29ms/step - loss: 2.3115e-06 - accuracy: 1.0000 - val_loss: 1.0334 - val_accuracy: 0.8840\n",
            "Epoch 11/20\n",
            "30/30 [==============================] - 1s 29ms/step - loss: 6.4678e-07 - accuracy: 1.0000 - val_loss: 1.1119 - val_accuracy: 0.8838\n",
            "Epoch 12/20\n",
            "30/30 [==============================] - 1s 30ms/step - loss: 2.0219e-07 - accuracy: 1.0000 - val_loss: 1.1840 - val_accuracy: 0.8845\n",
            "Epoch 13/20\n",
            "30/30 [==============================] - 1s 30ms/step - loss: 7.6220e-08 - accuracy: 1.0000 - val_loss: 1.2444 - val_accuracy: 0.8850\n",
            "Epoch 14/20\n",
            "30/30 [==============================] - 1s 30ms/step - loss: 3.7955e-08 - accuracy: 1.0000 - val_loss: 1.2830 - val_accuracy: 0.8846\n",
            "Epoch 15/20\n",
            "30/30 [==============================] - 1s 31ms/step - loss: 2.3676e-08 - accuracy: 1.0000 - val_loss: 1.3115 - val_accuracy: 0.8844\n",
            "Epoch 16/20\n",
            "30/30 [==============================] - 1s 31ms/step - loss: 1.6924e-08 - accuracy: 1.0000 - val_loss: 1.3344 - val_accuracy: 0.8845\n",
            "Epoch 17/20\n",
            "30/30 [==============================] - 1s 31ms/step - loss: 1.3110e-08 - accuracy: 1.0000 - val_loss: 1.3492 - val_accuracy: 0.8843\n",
            "Epoch 18/20\n",
            "30/30 [==============================] - 1s 30ms/step - loss: 1.0737e-08 - accuracy: 1.0000 - val_loss: 1.3590 - val_accuracy: 0.8843\n",
            "Epoch 19/20\n",
            "30/30 [==============================] - 1s 30ms/step - loss: 9.1060e-09 - accuracy: 1.0000 - val_loss: 1.3710 - val_accuracy: 0.8844\n",
            "Epoch 20/20\n",
            "30/30 [==============================] - 1s 29ms/step - loss: 7.9106e-09 - accuracy: 1.0000 - val_loss: 1.3805 - val_accuracy: 0.8842\n"
          ]
        }
      ],
      "source": [
        "model = keras.Sequential([\n",
        "    layers.Dense(512, activation=\"relu\"),\n",
        "    layers.Dense(512, activation=\"relu\"),\n",
        "    layers.Dense(1, activation=\"sigmoid\")\n",
        "])\n",
        "model.compile(optimizer=\"rmsprop\",\n",
        "              loss=\"binary_crossentropy\",\n",
        "              metrics=[\"accuracy\"])\n",
        "history_larger_model = model.fit(\n",
        "    train_data, train_labels,\n",
        "    epochs=20, batch_size=512, validation_split=0.4)"
      ]
    },
    {
      "cell_type": "code",
      "source": [
        "import matplotlib.pyplot as plt\n",
        "val_loss = history_original.history[\"val_loss\"]\n",
        "val_loss2 = history_larger_model.history[\"val_loss\"]\n",
        "epochs = range(1, 21)\n",
        "plt.plot(epochs, val_loss, \"b--\",\n",
        "         label=\"Validation loss of original model\")\n",
        "plt.plot(epochs, val_loss2, \"b--\",\n",
        "         label=\"Validation loss of larger model\")\n",
        "plt.title(\"Effect of larger model capacity on validation loss\")\n",
        "plt.xlabel(\"Epochs\")\n",
        "plt.ylabel(\"Loss\")\n",
        "plt.legend()"
      ],
      "metadata": {
        "id": "XKWUD0KTpFcF",
        "colab": {
          "base_uri": "https://localhost:8080/",
          "height": 313
        },
        "outputId": "02836d00-f870-4f2d-9afc-79d877e3e838"
      },
      "execution_count": null,
      "outputs": [
        {
          "output_type": "execute_result",
          "data": {
            "text/plain": [
              "<matplotlib.legend.Legend at 0x7f78b8043650>"
            ]
          },
          "metadata": {},
          "execution_count": 18
        },
        {
          "output_type": "display_data",
          "data": {
            "text/plain": [
              "<Figure size 432x288 with 1 Axes>"
            ],
            "image/png": "[encoded data removed]"
          },
          "metadata": {
            "needs_background": "light"
          }
        }
      ]
    },
    {
      "cell_type": "markdown",
      "metadata": {
        "id": "1lMgVm8Bwvh4"
      },
      "source": [
        "#### Adding weight regularization"
      ]
    },
    {
      "cell_type": "markdown",
      "metadata": {
        "id": "Wsm4yfmYwvh4"
      },
      "source": [
        "**Adding L2 weight regularization to the model**"
      ]
    },
    {
      "cell_type": "code",
      "execution_count": null,
      "metadata": {
        "id": "QbKXl-8kwvh5",
        "colab": {
          "base_uri": "https://localhost:8080/"
        },
        "outputId": "a3dbef06-0202-4cea-d581-3aacfb27108c"
      },
      "outputs": [
        {
          "output_type": "stream",
          "name": "stdout",
          "text": [
            "Epoch 1/20\n",
            "30/30 [==============================] - 2s 36ms/step - loss: 0.6414 - accuracy: 0.7518 - val_loss: 0.5124 - val_accuracy: 0.8656\n",
            "Epoch 2/20\n",
            "30/30 [==============================] - 1s 21ms/step - loss: 0.4345 - accuracy: 0.8899 - val_loss: 0.4158 - val_accuracy: 0.8765\n",
            "Epoch 3/20\n",
            "30/30 [==============================] - 1s 20ms/step - loss: 0.3524 - accuracy: 0.9081 - val_loss: 0.3720 - val_accuracy: 0.8877\n",
            "Epoch 4/20\n",
            "30/30 [==============================] - 1s 22ms/step - loss: 0.3125 - accuracy: 0.9193 - val_loss: 0.3744 - val_accuracy: 0.8815\n",
            "Epoch 5/20\n",
            "30/30 [==============================] - 1s 21ms/step - loss: 0.2874 - accuracy: 0.9316 - val_loss: 0.3716 - val_accuracy: 0.8812\n",
            "Epoch 6/20\n",
            "30/30 [==============================] - 1s 25ms/step - loss: 0.2722 - accuracy: 0.9362 - val_loss: 0.3699 - val_accuracy: 0.8805\n",
            "Epoch 7/20\n",
            "30/30 [==============================] - 1s 22ms/step - loss: 0.2591 - accuracy: 0.9370 - val_loss: 0.3631 - val_accuracy: 0.8842\n",
            "Epoch 8/20\n",
            "30/30 [==============================] - 1s 22ms/step - loss: 0.2519 - accuracy: 0.9421 - val_loss: 0.3672 - val_accuracy: 0.8846\n",
            "Epoch 9/20\n",
            "30/30 [==============================] - 1s 22ms/step - loss: 0.2426 - accuracy: 0.9458 - val_loss: 0.3930 - val_accuracy: 0.8729\n",
            "Epoch 10/20\n",
            "30/30 [==============================] - 1s 21ms/step - loss: 0.2401 - accuracy: 0.9457 - val_loss: 0.3894 - val_accuracy: 0.8753\n",
            "Epoch 11/20\n",
            "30/30 [==============================] - 1s 21ms/step - loss: 0.2331 - accuracy: 0.9471 - val_loss: 0.3794 - val_accuracy: 0.8802\n",
            "Epoch 12/20\n",
            "30/30 [==============================] - 1s 21ms/step - loss: 0.2262 - accuracy: 0.9514 - val_loss: 0.3840 - val_accuracy: 0.8783\n",
            "Epoch 13/20\n",
            "30/30 [==============================] - 1s 21ms/step - loss: 0.2231 - accuracy: 0.9509 - val_loss: 0.3879 - val_accuracy: 0.8774\n",
            "Epoch 14/20\n",
            "30/30 [==============================] - 1s 21ms/step - loss: 0.2200 - accuracy: 0.9542 - val_loss: 0.3948 - val_accuracy: 0.8751\n",
            "Epoch 15/20\n",
            "30/30 [==============================] - 1s 21ms/step - loss: 0.2218 - accuracy: 0.9529 - val_loss: 0.3977 - val_accuracy: 0.8766\n",
            "Epoch 16/20\n",
            "30/30 [==============================] - 1s 21ms/step - loss: 0.2166 - accuracy: 0.9545 - val_loss: 0.3981 - val_accuracy: 0.8771\n",
            "Epoch 17/20\n",
            "30/30 [==============================] - 1s 21ms/step - loss: 0.2076 - accuracy: 0.9582 - val_loss: 0.4077 - val_accuracy: 0.8738\n",
            "Epoch 18/20\n",
            "30/30 [==============================] - 1s 21ms/step - loss: 0.2087 - accuracy: 0.9577 - val_loss: 0.4286 - val_accuracy: 0.8730\n",
            "Epoch 19/20\n",
            "30/30 [==============================] - 1s 25ms/step - loss: 0.2026 - accuracy: 0.9607 - val_loss: 0.4376 - val_accuracy: 0.8709\n",
            "Epoch 20/20\n",
            "30/30 [==============================] - 1s 21ms/step - loss: 0.2114 - accuracy: 0.9543 - val_loss: 0.4194 - val_accuracy: 0.8743\n"
          ]
        }
      ],
      "source": [
        "from tensorflow.keras import regularizers\n",
        "model = keras.Sequential([\n",
        "    layers.Dense(16,\n",
        "                 kernel_regularizer=regularizers.l2(0.002),\n",
        "                 activation=\"relu\"),\n",
        "    layers.Dense(16,\n",
        "                 kernel_regularizer=regularizers.l2(0.002),\n",
        "                 activation=\"relu\"),\n",
        "    layers.Dense(1, activation=\"sigmoid\")\n",
        "])\n",
        "model.compile(optimizer=\"rmsprop\",\n",
        "              loss=\"binary_crossentropy\",\n",
        "              metrics=[\"accuracy\"])\n",
        "history_l2_reg = model.fit(\n",
        "    train_data, train_labels,\n",
        "    epochs=20, batch_size=512, validation_split=0.4)"
      ]
    },
    {
      "cell_type": "code",
      "source": [
        "import matplotlib.pyplot as plt\n",
        "val_loss = history_original.history[\"val_loss\"]\n",
        "val_loss2 = history_l2_reg.history[\"val_loss\"]\n",
        "epochs = range(1, 21)\n",
        "plt.plot(epochs, val_loss, \"b--\",\n",
        "         label=\"Validation loss of original model\")\n",
        "plt.plot(epochs, val_loss2, \"b--\",\n",
        "         label=\"Validation loss of original model with l2 regularization\")\n",
        "plt.title(\"Effect of l2 regularization on validation loss\")\n",
        "plt.xlabel(\"Epochs\")\n",
        "plt.ylabel(\"Loss\")\n",
        "plt.legend()"
      ],
      "metadata": {
        "id": "au5_KD2MpoVl",
        "colab": {
          "base_uri": "https://localhost:8080/",
          "height": 313
        },
        "outputId": "4f1565f6-06c0-4826-b7c3-978c5697abce"
      },
      "execution_count": null,
      "outputs": [
        {
          "output_type": "execute_result",
          "data": {
            "text/plain": [
              "<matplotlib.legend.Legend at 0x7f78bdac0190>"
            ]
          },
          "metadata": {},
          "execution_count": 21
        },
        {
          "output_type": "display_data",
          "data": {
            "text/plain": [
              "<Figure size 432x288 with 1 Axes>"
            ],
            "image/png": "[encoded data removed]"
          },
          "metadata": {
            "needs_background": "light"
          }
        }
      ]
    },
    {
      "cell_type": "markdown",
      "metadata": {
        "id": "Ro_n_4Zawvh5"
      },
      "source": [
        "**Different weight regularizers available in Keras**"
      ]
    },
    {
      "cell_type": "code",
      "execution_count": null,
      "metadata": {
        "id": "g4Qiaj3dwvh5",
        "colab": {
          "base_uri": "https://localhost:8080/"
        },
        "outputId": "af6cbc37-ead1-4322-9067-d35f9ae45ecb"
      },
      "outputs": [
        {
          "output_type": "execute_result",
          "data": {
            "text/plain": [
              "<keras.regularizers.L1L2 at 0x7f78b9164090>"
            ]
          },
          "metadata": {},
          "execution_count": 22
        }
      ],
      "source": [
        "from tensorflow.keras import regularizers\n",
        "regularizers.l1(0.001)\n",
        "regularizers.l1_l2(l1=0.001, l2=0.001)"
      ]
    },
    {
      "cell_type": "markdown",
      "metadata": {
        "id": "gbnPMDpkwvh5"
      },
      "source": [
        "#### Adding dropout"
      ]
    },
    {
      "cell_type": "markdown",
      "metadata": {
        "id": "O-Lh09UNwvh6"
      },
      "source": [
        "**Adding dropout to the IMDB model**"
      ]
    },
    {
      "cell_type": "code",
      "execution_count": null,
      "metadata": {
        "id": "-lqKRRoWwvh7",
        "colab": {
          "base_uri": "https://localhost:8080/"
        },
        "outputId": "0458ffe9-d8fc-4fb4-fe17-f89aaa30e0c3"
      },
      "outputs": [
        {
          "output_type": "stream",
          "name": "stdout",
          "text": [
            "Epoch 1/20\n",
            "30/30 [==============================] - 2s 35ms/step - loss: 0.6277 - accuracy: 0.6491 - val_loss: 0.5221 - val_accuracy: 0.8207\n",
            "Epoch 2/20\n",
            "30/30 [==============================] - 1s 21ms/step - loss: 0.5131 - accuracy: 0.7765 - val_loss: 0.4195 - val_accuracy: 0.8700\n",
            "Epoch 3/20\n",
            "30/30 [==============================] - 1s 21ms/step - loss: 0.4328 - accuracy: 0.8332 - val_loss: 0.3549 - val_accuracy: 0.8838\n",
            "Epoch 4/20\n",
            "30/30 [==============================] - 1s 21ms/step - loss: 0.3674 - accuracy: 0.8690 - val_loss: 0.3263 - val_accuracy: 0.8790\n",
            "Epoch 5/20\n",
            "30/30 [==============================] - 1s 21ms/step - loss: 0.3195 - accuracy: 0.8913 - val_loss: 0.2927 - val_accuracy: 0.8903\n",
            "Epoch 6/20\n",
            "30/30 [==============================] - 1s 20ms/step - loss: 0.2860 - accuracy: 0.9032 - val_loss: 0.2878 - val_accuracy: 0.8916\n",
            "Epoch 7/20\n",
            "30/30 [==============================] - 1s 21ms/step - loss: 0.2448 - accuracy: 0.9203 - val_loss: 0.2954 - val_accuracy: 0.8916\n",
            "Epoch 8/20\n",
            "30/30 [==============================] - 1s 21ms/step - loss: 0.2188 - accuracy: 0.9305 - val_loss: 0.2891 - val_accuracy: 0.8848\n",
            "Epoch 9/20\n",
            "30/30 [==============================] - 1s 21ms/step - loss: 0.1974 - accuracy: 0.9393 - val_loss: 0.3086 - val_accuracy: 0.8901\n",
            "Epoch 10/20\n",
            "30/30 [==============================] - 1s 21ms/step - loss: 0.1769 - accuracy: 0.9443 - val_loss: 0.3201 - val_accuracy: 0.8885\n",
            "Epoch 11/20\n",
            "30/30 [==============================] - 1s 24ms/step - loss: 0.1613 - accuracy: 0.9473 - val_loss: 0.3362 - val_accuracy: 0.8870\n",
            "Epoch 12/20\n",
            "30/30 [==============================] - 1s 24ms/step - loss: 0.1438 - accuracy: 0.9561 - val_loss: 0.3672 - val_accuracy: 0.8871\n",
            "Epoch 13/20\n",
            "30/30 [==============================] - 1s 21ms/step - loss: 0.1312 - accuracy: 0.9581 - val_loss: 0.3754 - val_accuracy: 0.8832\n",
            "Epoch 14/20\n",
            "30/30 [==============================] - 1s 21ms/step - loss: 0.1224 - accuracy: 0.9611 - val_loss: 0.4085 - val_accuracy: 0.8831\n",
            "Epoch 15/20\n",
            "30/30 [==============================] - 1s 25ms/step - loss: 0.1110 - accuracy: 0.9630 - val_loss: 0.4258 - val_accuracy: 0.8843\n",
            "Epoch 16/20\n",
            "30/30 [==============================] - 1s 21ms/step - loss: 0.1039 - accuracy: 0.9666 - val_loss: 0.4577 - val_accuracy: 0.8848\n",
            "Epoch 17/20\n",
            "30/30 [==============================] - 1s 21ms/step - loss: 0.1004 - accuracy: 0.9682 - val_loss: 0.5160 - val_accuracy: 0.8828\n",
            "Epoch 18/20\n",
            "30/30 [==============================] - 1s 22ms/step - loss: 0.0936 - accuracy: 0.9718 - val_loss: 0.5103 - val_accuracy: 0.8829\n",
            "Epoch 19/20\n",
            "30/30 [==============================] - 1s 25ms/step - loss: 0.0871 - accuracy: 0.9731 - val_loss: 0.5316 - val_accuracy: 0.8820\n",
            "Epoch 20/20\n",
            "30/30 [==============================] - 1s 21ms/step - loss: 0.0862 - accuracy: 0.9719 - val_loss: 0.5648 - val_accuracy: 0.8819\n"
          ]
        }
      ],
      "source": [
        "model = keras.Sequential([\n",
        "    layers.Dense(16, activation=\"relu\"),\n",
        "    layers.Dropout(0.5),\n",
        "    layers.Dense(16, activation=\"relu\"),\n",
        "    layers.Dropout(0.5),\n",
        "    layers.Dense(1, activation=\"sigmoid\")\n",
        "])\n",
        "model.compile(optimizer=\"rmsprop\",\n",
        "              loss=\"binary_crossentropy\",\n",
        "              metrics=[\"accuracy\"])\n",
        "history_dropout = model.fit(\n",
        "    train_data, train_labels,\n",
        "    epochs=20, batch_size=512, validation_split=0.4)"
      ]
    },
    {
      "cell_type": "code",
      "source": [
        "import matplotlib.pyplot as plt\n",
        "val_loss = history_original.history[\"val_loss\"]\n",
        "val_loss2 = history_dropout.history[\"val_loss\"]\n",
        "epochs = range(1, 21)\n",
        "plt.plot(epochs, val_loss, \"b--\",\n",
        "         label=\"Validation loss of original model\")\n",
        "plt.plot(epochs, val_loss2, \"b--\",\n",
        "         label=\"Validation loss of original model with dropout regularization\")\n",
        "plt.title(\"Effect of dropout regularization on validation loss\")\n",
        "plt.xlabel(\"Epochs\")\n",
        "plt.ylabel(\"Loss\")\n",
        "plt.legend()"
      ],
      "metadata": {
        "id": "LXJA9E2JqGBx",
        "colab": {
          "base_uri": "https://localhost:8080/",
          "height": 313
        },
        "outputId": "92a8b0c1-0938-40a9-c9ba-217070a5b255"
      },
      "execution_count": null,
      "outputs": [
        {
          "output_type": "execute_result",
          "data": {
            "text/plain": [
              "<matplotlib.legend.Legend at 0x7f78b7e6fe10>"
            ]
          },
          "metadata": {},
          "execution_count": 24
        },
        {
          "output_type": "display_data",
          "data": {
            "text/plain": [
              "<Figure size 432x288 with 1 Axes>"
            ],
            "image/png": "[encoded data removed]"
          },
          "metadata": {
            "needs_background": "light"
          }
        }
      ]
    },
    {
      "cell_type": "markdown",
      "metadata": {
        "id": "CTGoIqxPwvh7"
      },
      "source": [
        "## Summary"
      ]
    }
  ],
  "metadata": {
    "colab": {
      "collapsed_sections": [],
      "name": "chapter05_fundamentals-of-ml.i의 사본",
      "provenance": []
    },
    "kernelspec": {
      "display_name": "Python 3",
      "language": "python",
      "name": "python3"
    },
    "language_info": {
      "codemirror_mode": {
        "name": "ipython",
        "version": 3
      },
      "file_extension": ".py",
      "mimetype": "text/x-python",
      "name": "python",
      "nbconvert_exporter": "python",
      "pygments_lexer": "ipython3",
      "version": "3.7.0"
    },
    "accelerator": "GPU"
  },
  "nbformat": 4,
  "nbformat_minor": 0
}