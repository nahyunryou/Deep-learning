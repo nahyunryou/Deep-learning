{
  "cells": [
    {
      "cell_type": "markdown",
      "metadata": {
        "id": "OOx43mktwvhI"
      },
      "source": [
        "This is a companion notebook for the book [Deep Learning with Python, Second Edition](https://www.manning.com/books/deep-learning-with-python-second-edition?a_aid=keras&a_bid=76564dff). For readability, it only contains runnable code blocks and section titles, and omits everything else in the book: text paragraphs, figures, and pseudocode.\n",
        "\n",
        "**If you want to be able to follow what's going on, I recommend reading the notebook side by side with your copy of the book.**\n",
        "\n",
        "This notebook was generated for TensorFlow 2.6."
      ]
    },
    {
      "cell_type": "markdown",
      "metadata": {
        "id": "bR3RU3dewvhS"
      },
      "source": [
        "# Fundamentals of machine learning"
      ]
    },
    {
      "cell_type": "markdown",
      "metadata": {
        "id": "8_B_4OhIwvhT"
      },
      "source": [
        "## Generalization: The goal of machine learning"
      ]
    },
    {
      "cell_type": "markdown",
      "metadata": {
        "id": "MxOMOJu5wvhU"
      },
      "source": [
        "### Underfitting and overfitting"
      ]
    },
    {
      "cell_type": "markdown",
      "metadata": {
        "id": "HM3U_VRxwvhV"
      },
      "source": [
        "#### Noisy training data"
      ]
    },
    {
      "cell_type": "markdown",
      "metadata": {
        "id": "HbMl8r6dwvhX"
      },
      "source": [
        "#### Ambiguous features"
      ]
    },
    {
      "cell_type": "markdown",
      "metadata": {
        "id": "QrEd4oemwvhZ"
      },
      "source": [
        "#### Rare features and spurious correlations"
      ]
    },
    {
      "cell_type": "markdown",
      "metadata": {
        "id": "40Z0GyL2wvhc"
      },
      "source": [
        "**Adding white-noise channels or all-zeros channels to MNIST**"
      ]
    },
    {
      "cell_type": "code",
      "execution_count": null,
      "metadata": {
        "id": "8B_CegUvwvhf",
        "colab": {
          "base_uri": "https://localhost:8080/"
        },
        "outputId": "b932c170-c82b-4fe3-d1f1-a24a2c08e43e"
      },
      "outputs": [
        {
          "output_type": "stream",
          "name": "stdout",
          "text": [
            "Downloading data from https://storage.googleapis.com/tensorflow/tf-keras-datasets/mnist.npz\n",
            "11493376/11490434 [==============================] - 0s 0us/step\n",
            "11501568/11490434 [==============================] - 0s 0us/step\n"
          ]
        }
      ],
      "source": [
        "from tensorflow.keras.datasets import mnist\n",
        "import numpy as np\n",
        "\n",
        "(train_images, train_labels), _ = mnist.load_data()\n",
        "train_images = train_images.reshape((60000, 28 * 28))\n",
        "train_images = train_images.astype(\"float32\") / 255\n",
        "\n",
        "train_images_with_noise_channels = np.concatenate(\n",
        "    [train_images, np.random.random((len(train_images), 784))], axis=1) #random noise added to data\n",
        "\n",
        "train_images_with_zeros_channels = np.concatenate(\n",
        "    [train_images, np.zeros((len(train_images), 784))], axis=1)"
      ]
    },
    {
      "cell_type": "markdown",
      "metadata": {
        "id": "bbAaaGg3wvhj"
      },
      "source": [
        "**Training the same model on MNIST data with noise channels or all-zero channels**"
      ]
    },
    {
      "cell_type": "code",
      "execution_count": null,
      "metadata": {
        "id": "BI6NUuobwvhk",
        "colab": {
          "base_uri": "https://localhost:8080/"
        },
        "outputId": "51bd26c3-d8d4-45cb-bbfa-47b0a81ed917"
      },
      "outputs": [
        {
          "output_type": "stream",
          "name": "stdout",
          "text": [
            "Epoch 1/10\n",
            "375/375 [==============================] - 7s 7ms/step - loss: 0.6353 - accuracy: 0.8067 - val_loss: 0.3930 - val_accuracy: 0.8636\n",
            "Epoch 2/10\n",
            "375/375 [==============================] - 2s 5ms/step - loss: 0.2483 - accuracy: 0.9222 - val_loss: 0.1735 - val_accuracy: 0.9501\n",
            "Epoch 3/10\n",
            "375/375 [==============================] - 2s 5ms/step - loss: 0.1614 - accuracy: 0.9499 - val_loss: 0.1502 - val_accuracy: 0.9536\n",
            "Epoch 4/10\n",
            "375/375 [==============================] - 2s 5ms/step - loss: 0.1147 - accuracy: 0.9639 - val_loss: 0.1332 - val_accuracy: 0.9620\n",
            "Epoch 5/10\n",
            "375/375 [==============================] - 2s 5ms/step - loss: 0.0840 - accuracy: 0.9734 - val_loss: 0.1228 - val_accuracy: 0.9636\n",
            "Epoch 6/10\n",
            "375/375 [==============================] - 2s 5ms/step - loss: 0.0619 - accuracy: 0.9798 - val_loss: 0.1200 - val_accuracy: 0.9681\n",
            "Epoch 7/10\n",
            "375/375 [==============================] - 2s 6ms/step - loss: 0.0456 - accuracy: 0.9856 - val_loss: 0.1137 - val_accuracy: 0.9692\n",
            "Epoch 8/10\n",
            "375/375 [==============================] - 2s 5ms/step - loss: 0.0348 - accuracy: 0.9884 - val_loss: 0.1903 - val_accuracy: 0.9498\n",
            "Epoch 9/10\n",
            "375/375 [==============================] - 2s 5ms/step - loss: 0.0259 - accuracy: 0.9913 - val_loss: 0.1429 - val_accuracy: 0.9665\n",
            "Epoch 10/10\n",
            "375/375 [==============================] - 2s 5ms/step - loss: 0.0207 - accuracy: 0.9934 - val_loss: 0.1516 - val_accuracy: 0.9659\n",
            "Epoch 1/10\n",
            "375/375 [==============================] - 3s 6ms/step - loss: 0.2899 - accuracy: 0.9162 - val_loss: 0.1454 - val_accuracy: 0.9578\n",
            "Epoch 2/10\n",
            "375/375 [==============================] - 2s 5ms/step - loss: 0.1185 - accuracy: 0.9642 - val_loss: 0.1115 - val_accuracy: 0.9663\n",
            "Epoch 3/10\n",
            "375/375 [==============================] - 2s 5ms/step - loss: 0.0783 - accuracy: 0.9763 - val_loss: 0.0979 - val_accuracy: 0.9717\n",
            "Epoch 4/10\n",
            "375/375 [==============================] - 2s 5ms/step - loss: 0.0564 - accuracy: 0.9831 - val_loss: 0.0835 - val_accuracy: 0.9757\n",
            "Epoch 5/10\n",
            "375/375 [==============================] - 2s 5ms/step - loss: 0.0427 - accuracy: 0.9875 - val_loss: 0.0770 - val_accuracy: 0.9776\n",
            "Epoch 6/10\n",
            "375/375 [==============================] - 2s 5ms/step - loss: 0.0319 - accuracy: 0.9905 - val_loss: 0.0890 - val_accuracy: 0.9767\n",
            "Epoch 7/10\n",
            "375/375 [==============================] - 2s 5ms/step - loss: 0.0244 - accuracy: 0.9931 - val_loss: 0.0888 - val_accuracy: 0.9752\n",
            "Epoch 8/10\n",
            "375/375 [==============================] - 2s 5ms/step - loss: 0.0177 - accuracy: 0.9952 - val_loss: 0.0871 - val_accuracy: 0.9767\n",
            "Epoch 9/10\n",
            "375/375 [==============================] - 2s 5ms/step - loss: 0.0141 - accuracy: 0.9958 - val_loss: 0.0802 - val_accuracy: 0.9801\n",
            "Epoch 10/10\n",
            "375/375 [==============================] - 2s 5ms/step - loss: 0.0102 - accuracy: 0.9972 - val_loss: 0.0931 - val_accuracy: 0.9782\n"
          ]
        }
      ],
      "source": [
        "from tensorflow import keras\n",
        "from tensorflow.keras import layers\n",
        "\n",
        "def get_model():\n",
        "    model = keras.Sequential([\n",
        "        layers.Dense(512, activation=\"relu\"),\n",
        "        layers.Dense(10, activation=\"softmax\")\n",
        "    ])\n",
        "    model.compile(optimizer=\"rmsprop\",\n",
        "                  loss=\"sparse_categorical_crossentropy\",\n",
        "                  metrics=[\"accuracy\"])\n",
        "    return model\n",
        "\n",
        "model = get_model()\n",
        "history_noise = model.fit( #noisy data set\n",
        "    train_images_with_noise_channels, train_labels,\n",
        "    epochs=10,\n",
        "    batch_size=128,\n",
        "    validation_split=0.2)\n",
        "\n",
        "model = get_model()\n",
        "history_zeros = model.fit(\n",
        "    train_images_with_zeros_channels, train_labels,\n",
        "    epochs=10,\n",
        "    batch_size=128,\n",
        "    validation_split=0.2)\n",
        "# It's common to do feature selection before training"
      ]
    },
    {
      "cell_type": "code",
      "source": [
        "model = get_model()\n",
        "history1 = model.fit(\n",
        "    train_images_with_zeros_channels, train_labels,\n",
        "    epochs=10,\n",
        "    batch_size=128,\n",
        "    validation_split=0.2)"
      ],
      "metadata": {
        "colab": {
          "base_uri": "https://localhost:8080/"
        },
        "id": "8vAGXqWAbVdX",
        "outputId": "82f301a7-ca22-441b-8d96-fdbec406fb48"
      },
      "execution_count": null,
      "outputs": [
        {
          "output_type": "stream",
          "name": "stdout",
          "text": [
            "Epoch 1/10\n",
            "375/375 [==============================] - 3s 6ms/step - loss: 0.2879 - accuracy: 0.9168 - val_loss: 0.1609 - val_accuracy: 0.9551\n",
            "Epoch 2/10\n",
            "375/375 [==============================] - 2s 5ms/step - loss: 0.1178 - accuracy: 0.9650 - val_loss: 0.1132 - val_accuracy: 0.9678\n",
            "Epoch 3/10\n",
            "375/375 [==============================] - 2s 5ms/step - loss: 0.0764 - accuracy: 0.9774 - val_loss: 0.1033 - val_accuracy: 0.9689\n",
            "Epoch 4/10\n",
            "375/375 [==============================] - 2s 5ms/step - loss: 0.0548 - accuracy: 0.9841 - val_loss: 0.0824 - val_accuracy: 0.9758\n",
            "Epoch 5/10\n",
            "375/375 [==============================] - 2s 5ms/step - loss: 0.0411 - accuracy: 0.9877 - val_loss: 0.0797 - val_accuracy: 0.9784\n",
            "Epoch 6/10\n",
            "375/375 [==============================] - 2s 5ms/step - loss: 0.0308 - accuracy: 0.9909 - val_loss: 0.0848 - val_accuracy: 0.9758\n",
            "Epoch 7/10\n",
            "375/375 [==============================] - 2s 5ms/step - loss: 0.0237 - accuracy: 0.9927 - val_loss: 0.0795 - val_accuracy: 0.9775\n",
            "Epoch 8/10\n",
            "375/375 [==============================] - 2s 5ms/step - loss: 0.0178 - accuracy: 0.9947 - val_loss: 0.0766 - val_accuracy: 0.9802\n",
            "Epoch 9/10\n",
            "375/375 [==============================] - 2s 5ms/step - loss: 0.0140 - accuracy: 0.9959 - val_loss: 0.0857 - val_accuracy: 0.9796\n",
            "Epoch 10/10\n",
            "375/375 [==============================] - 2s 5ms/step - loss: 0.0101 - accuracy: 0.9972 - val_loss: 0.0831 - val_accuracy: 0.9798\n"
          ]
        }
      ]
    },
    {
      "cell_type": "markdown",
      "metadata": {
        "id": "nYitwDmhwvhm"
      },
      "source": [
        "**Plotting a validation accuracy comparison**"
      ]
    },
    {
      "cell_type": "code",
      "execution_count": null,
      "metadata": {
        "id": "xsrplCEcwvhm",
        "colab": {
          "base_uri": "https://localhost:8080/",
          "height": 313
        },
        "outputId": "6715ec9a-bc7f-4857-f787-a73dbd59d174"
      },
      "outputs": [
        {
          "output_type": "execute_result",
          "data": {
            "text/plain": [
              "<matplotlib.legend.Legend at 0x7f0c94db0850>"
            ]
          },
          "metadata": {},
          "execution_count": 4
        },
        {
          "output_type": "display_data",
          "data": {
            "text/plain": [
              "<Figure size 432x288 with 1 Axes>"
            ],
            "image/png": "[encoded data removed]"
          },
          "metadata": {
            "needs_background": "light"
          }
        }
      ],
      "source": [
        "import matplotlib.pyplot as plt\n",
        "val_acc_noise = history_noise.history[\"val_accuracy\"]\n",
        "val_acc_zeros = history_zeros.history[\"val_accuracy\"]\n",
        "epochs = range(1, 11)\n",
        "plt.plot(epochs, val_acc_noise, \"b-\",\n",
        "         label=\"Validation accuracy with noise channels\")\n",
        "plt.plot(epochs, val_acc_zeros, \"b--\",\n",
        "         label=\"Validation accuracy with zeros channels\")\n",
        "plt.title(\"Effect of noise channels on validation accuracy\")\n",
        "plt.xlabel(\"Epochs\")\n",
        "plt.ylabel(\"Accuracy\")\n",
        "plt.legend()"
      ]
    },
    {
      "cell_type": "code",
      "source": [
        "import matplotlib.pyplot as plt\n",
        "val_acc = history1.history[\"val_accuracy\"]\n",
        "val_acc_zeros = history_zeros.history[\"val_accuracy\"]\n",
        "epochs = range(1, 11)\n",
        "plt.plot(epochs, val_acc, \"b-\",\n",
        "         label=\"Validation accuracy with original data\")\n",
        "plt.plot(epochs, val_acc_zeros, \"b--\",\n",
        "         label=\"Validation accuracy with zeros channels\")\n",
        "plt.title(\"Effect of noise channels on validation accuracy\")\n",
        "plt.xlabel(\"Epochs\")\n",
        "plt.ylabel(\"Accuracy\")\n",
        "plt.legend()"
      ],
      "metadata": {
        "colab": {
          "base_uri": "https://localhost:8080/",
          "height": 313
        },
        "id": "cOrRngdXblbL",
        "outputId": "a34d2852-c5de-4797-924d-3ee3c7006bd9"
      },
      "execution_count": null,
      "outputs": [
        {
          "output_type": "execute_result",
          "data": {
            "text/plain": [
              "<matplotlib.legend.Legend at 0x7f0c94ea2dd0>"
            ]
          },
          "metadata": {},
          "execution_count": 5
        },
        {
          "output_type": "display_data",
          "data": {
            "text/plain": [
              "<Figure size 432x288 with 1 Axes>"
            ],
            "image/png": "[encoded data removed]"
          },
          "metadata": {
            "needs_background": "light"
          }
        }
      ]
    },
    {
      "cell_type": "markdown",
      "metadata": {
        "id": "lnNi9Jo2wvhn"
      },
      "source": [
        "### The nature of generalization in deep learning"
      ]
    },
    {
      "cell_type": "markdown",
      "metadata": {
        "id": "N33sTXkvwvhn"
      },
      "source": [
        "**Fitting a MNIST model with randomly shuffled labels**"
      ]
    },
    {
      "cell_type": "code",
      "execution_count": null,
      "metadata": {
        "id": "Dzagu3pcwvho",
        "colab": {
          "base_uri": "https://localhost:8080/"
        },
        "outputId": "b6d94d08-7509-4770-b257-b83a3eb1c8b7"
      },
      "outputs": [
        {
          "output_type": "stream",
          "name": "stdout",
          "text": [
            "Epoch 1/100\n",
            "375/375 [==============================] - 2s 5ms/step - loss: 2.3167 - accuracy: 0.1028 - val_loss: 2.3094 - val_accuracy: 0.1028\n",
            "Epoch 2/100\n",
            "375/375 [==============================] - 2s 4ms/step - loss: 2.2991 - accuracy: 0.1181 - val_loss: 2.3147 - val_accuracy: 0.1018\n",
            "Epoch 3/100\n",
            "375/375 [==============================] - 2s 5ms/step - loss: 2.2903 - accuracy: 0.1293 - val_loss: 2.3132 - val_accuracy: 0.1015\n",
            "Epoch 4/100\n",
            "375/375 [==============================] - 2s 6ms/step - loss: 2.2766 - accuracy: 0.1423 - val_loss: 2.3298 - val_accuracy: 0.1016\n",
            "Epoch 5/100\n",
            "375/375 [==============================] - 2s 5ms/step - loss: 2.2607 - accuracy: 0.1530 - val_loss: 2.3445 - val_accuracy: 0.1019\n",
            "Epoch 6/100\n",
            "375/375 [==============================] - 2s 4ms/step - loss: 2.2397 - accuracy: 0.1671 - val_loss: 2.3497 - val_accuracy: 0.1006\n",
            "Epoch 7/100\n",
            "375/375 [==============================] - 2s 4ms/step - loss: 2.2177 - accuracy: 0.1827 - val_loss: 2.3662 - val_accuracy: 0.1034\n",
            "Epoch 8/100\n",
            "375/375 [==============================] - 2s 4ms/step - loss: 2.1913 - accuracy: 0.1978 - val_loss: 2.3897 - val_accuracy: 0.0982\n",
            "Epoch 9/100\n",
            "375/375 [==============================] - 2s 5ms/step - loss: 2.1628 - accuracy: 0.2141 - val_loss: 2.4056 - val_accuracy: 0.0988\n",
            "Epoch 10/100\n",
            "375/375 [==============================] - 2s 4ms/step - loss: 2.1333 - accuracy: 0.2299 - val_loss: 2.4429 - val_accuracy: 0.1013\n",
            "Epoch 11/100\n",
            "375/375 [==============================] - 2s 4ms/step - loss: 2.1031 - accuracy: 0.2428 - val_loss: 2.4543 - val_accuracy: 0.1011\n",
            "Epoch 12/100\n",
            "375/375 [==============================] - 2s 5ms/step - loss: 2.0701 - accuracy: 0.2599 - val_loss: 2.4699 - val_accuracy: 0.1020\n",
            "Epoch 13/100\n",
            "375/375 [==============================] - 2s 5ms/step - loss: 2.0363 - accuracy: 0.2751 - val_loss: 2.4966 - val_accuracy: 0.1004\n",
            "Epoch 14/100\n",
            "375/375 [==============================] - 2s 5ms/step - loss: 2.0023 - accuracy: 0.2884 - val_loss: 2.5258 - val_accuracy: 0.0988\n",
            "Epoch 15/100\n",
            "375/375 [==============================] - 2s 4ms/step - loss: 1.9703 - accuracy: 0.3026 - val_loss: 2.5514 - val_accuracy: 0.1023\n",
            "Epoch 16/100\n",
            "375/375 [==============================] - 2s 5ms/step - loss: 1.9359 - accuracy: 0.3154 - val_loss: 2.5963 - val_accuracy: 0.1026\n",
            "Epoch 17/100\n",
            "375/375 [==============================] - 2s 4ms/step - loss: 1.9043 - accuracy: 0.3320 - val_loss: 2.6317 - val_accuracy: 0.0970\n",
            "Epoch 18/100\n",
            "375/375 [==============================] - 2s 4ms/step - loss: 1.8699 - accuracy: 0.3439 - val_loss: 2.6554 - val_accuracy: 0.1029\n",
            "Epoch 19/100\n",
            "375/375 [==============================] - 2s 5ms/step - loss: 1.8364 - accuracy: 0.3559 - val_loss: 2.6931 - val_accuracy: 0.0991\n",
            "Epoch 20/100\n",
            "375/375 [==============================] - 2s 4ms/step - loss: 1.8042 - accuracy: 0.3710 - val_loss: 2.7153 - val_accuracy: 0.0957\n",
            "Epoch 21/100\n",
            "375/375 [==============================] - 2s 5ms/step - loss: 1.7729 - accuracy: 0.3817 - val_loss: 2.7582 - val_accuracy: 0.1002\n",
            "Epoch 22/100\n",
            "375/375 [==============================] - 2s 5ms/step - loss: 1.7413 - accuracy: 0.3937 - val_loss: 2.7843 - val_accuracy: 0.0983\n",
            "Epoch 23/100\n",
            "375/375 [==============================] - 2s 5ms/step - loss: 1.7116 - accuracy: 0.4045 - val_loss: 2.8248 - val_accuracy: 0.0997\n",
            "Epoch 24/100\n",
            "375/375 [==============================] - 2s 5ms/step - loss: 1.6821 - accuracy: 0.4166 - val_loss: 2.8818 - val_accuracy: 0.1009\n",
            "Epoch 25/100\n",
            "375/375 [==============================] - 2s 5ms/step - loss: 1.6517 - accuracy: 0.4263 - val_loss: 2.8919 - val_accuracy: 0.1013\n",
            "Epoch 26/100\n",
            "375/375 [==============================] - 2s 4ms/step - loss: 1.6247 - accuracy: 0.4392 - val_loss: 2.9595 - val_accuracy: 0.0984\n",
            "Epoch 27/100\n",
            "375/375 [==============================] - 2s 5ms/step - loss: 1.5955 - accuracy: 0.4485 - val_loss: 2.9900 - val_accuracy: 0.1011\n",
            "Epoch 28/100\n",
            "375/375 [==============================] - 2s 4ms/step - loss: 1.5670 - accuracy: 0.4601 - val_loss: 3.0398 - val_accuracy: 0.1014\n",
            "Epoch 29/100\n",
            "375/375 [==============================] - 2s 4ms/step - loss: 1.5404 - accuracy: 0.4702 - val_loss: 3.1004 - val_accuracy: 0.0989\n",
            "Epoch 30/100\n",
            "375/375 [==============================] - 2s 5ms/step - loss: 1.5142 - accuracy: 0.4799 - val_loss: 3.1166 - val_accuracy: 0.1002\n",
            "Epoch 31/100\n",
            "375/375 [==============================] - 2s 5ms/step - loss: 1.4886 - accuracy: 0.4894 - val_loss: 3.1923 - val_accuracy: 0.0983\n",
            "Epoch 32/100\n",
            "375/375 [==============================] - 2s 5ms/step - loss: 1.4642 - accuracy: 0.4990 - val_loss: 3.2214 - val_accuracy: 0.0983\n",
            "Epoch 33/100\n",
            "375/375 [==============================] - 2s 5ms/step - loss: 1.4394 - accuracy: 0.5072 - val_loss: 3.2705 - val_accuracy: 0.1000\n",
            "Epoch 34/100\n",
            "375/375 [==============================] - 2s 5ms/step - loss: 1.4167 - accuracy: 0.5155 - val_loss: 3.3195 - val_accuracy: 0.1009\n",
            "Epoch 35/100\n",
            "375/375 [==============================] - 2s 4ms/step - loss: 1.3938 - accuracy: 0.5235 - val_loss: 3.3306 - val_accuracy: 0.0985\n",
            "Epoch 36/100\n",
            "375/375 [==============================] - 2s 5ms/step - loss: 1.3677 - accuracy: 0.5336 - val_loss: 3.4185 - val_accuracy: 0.1010\n",
            "Epoch 37/100\n",
            "375/375 [==============================] - 2s 5ms/step - loss: 1.3457 - accuracy: 0.5421 - val_loss: 3.4648 - val_accuracy: 0.0969\n",
            "Epoch 38/100\n",
            "375/375 [==============================] - 2s 5ms/step - loss: 1.3248 - accuracy: 0.5490 - val_loss: 3.5008 - val_accuracy: 0.0995\n",
            "Epoch 39/100\n",
            "375/375 [==============================] - 2s 5ms/step - loss: 1.3028 - accuracy: 0.5563 - val_loss: 3.5598 - val_accuracy: 0.0977\n",
            "Epoch 40/100\n",
            "375/375 [==============================] - 2s 5ms/step - loss: 1.2834 - accuracy: 0.5644 - val_loss: 3.6072 - val_accuracy: 0.0978\n",
            "Epoch 41/100\n",
            "375/375 [==============================] - 2s 4ms/step - loss: 1.2628 - accuracy: 0.5701 - val_loss: 3.6573 - val_accuracy: 0.0988\n",
            "Epoch 42/100\n",
            "375/375 [==============================] - 2s 5ms/step - loss: 1.2431 - accuracy: 0.5805 - val_loss: 3.7179 - val_accuracy: 0.0975\n",
            "Epoch 43/100\n",
            "375/375 [==============================] - 2s 5ms/step - loss: 1.2201 - accuracy: 0.5859 - val_loss: 3.7231 - val_accuracy: 0.0959\n",
            "Epoch 44/100\n",
            "375/375 [==============================] - 2s 4ms/step - loss: 1.2047 - accuracy: 0.5939 - val_loss: 3.8129 - val_accuracy: 0.1018\n",
            "Epoch 45/100\n",
            "375/375 [==============================] - 2s 5ms/step - loss: 1.1832 - accuracy: 0.6001 - val_loss: 3.8612 - val_accuracy: 0.0961\n",
            "Epoch 46/100\n",
            "375/375 [==============================] - 2s 5ms/step - loss: 1.1658 - accuracy: 0.6077 - val_loss: 3.9248 - val_accuracy: 0.1010\n",
            "Epoch 47/100\n",
            "375/375 [==============================] - 2s 5ms/step - loss: 1.1478 - accuracy: 0.6120 - val_loss: 3.9955 - val_accuracy: 0.1000\n",
            "Epoch 48/100\n",
            "375/375 [==============================] - 2s 5ms/step - loss: 1.1287 - accuracy: 0.6186 - val_loss: 4.0440 - val_accuracy: 0.0997\n",
            "Epoch 49/100\n",
            "375/375 [==============================] - 2s 4ms/step - loss: 1.1134 - accuracy: 0.6245 - val_loss: 4.0802 - val_accuracy: 0.1002\n",
            "Epoch 50/100\n",
            "375/375 [==============================] - 2s 5ms/step - loss: 1.0954 - accuracy: 0.6317 - val_loss: 4.1046 - val_accuracy: 0.0964\n",
            "Epoch 51/100\n",
            "375/375 [==============================] - 2s 5ms/step - loss: 1.0815 - accuracy: 0.6364 - val_loss: 4.1752 - val_accuracy: 0.0995\n",
            "Epoch 52/100\n",
            "375/375 [==============================] - 2s 5ms/step - loss: 1.0614 - accuracy: 0.6426 - val_loss: 4.2450 - val_accuracy: 0.0978\n",
            "Epoch 53/100\n",
            "375/375 [==============================] - 2s 5ms/step - loss: 1.0460 - accuracy: 0.6499 - val_loss: 4.3074 - val_accuracy: 0.0985\n",
            "Epoch 54/100\n",
            "375/375 [==============================] - 2s 4ms/step - loss: 1.0306 - accuracy: 0.6541 - val_loss: 4.3701 - val_accuracy: 0.0964\n",
            "Epoch 55/100\n",
            "375/375 [==============================] - 2s 6ms/step - loss: 1.0149 - accuracy: 0.6590 - val_loss: 4.4297 - val_accuracy: 0.0987\n",
            "Epoch 56/100\n",
            "375/375 [==============================] - 3s 7ms/step - loss: 1.0015 - accuracy: 0.6654 - val_loss: 4.4507 - val_accuracy: 0.0989\n",
            "Epoch 57/100\n",
            "375/375 [==============================] - 3s 7ms/step - loss: 0.9864 - accuracy: 0.6675 - val_loss: 4.5402 - val_accuracy: 0.0984\n",
            "Epoch 58/100\n",
            "375/375 [==============================] - 3s 7ms/step - loss: 0.9710 - accuracy: 0.6759 - val_loss: 4.5741 - val_accuracy: 0.0990\n",
            "Epoch 59/100\n",
            "375/375 [==============================] - 3s 8ms/step - loss: 0.9576 - accuracy: 0.6820 - val_loss: 4.6473 - val_accuracy: 0.0978\n",
            "Epoch 60/100\n",
            "375/375 [==============================] - 2s 6ms/step - loss: 0.9416 - accuracy: 0.6867 - val_loss: 4.6959 - val_accuracy: 0.0955\n",
            "Epoch 61/100\n",
            "375/375 [==============================] - 2s 5ms/step - loss: 0.9293 - accuracy: 0.6901 - val_loss: 4.8165 - val_accuracy: 0.0998\n",
            "Epoch 62/100\n",
            "375/375 [==============================] - 2s 5ms/step - loss: 0.9159 - accuracy: 0.6944 - val_loss: 4.8317 - val_accuracy: 0.0965\n",
            "Epoch 63/100\n",
            "375/375 [==============================] - 2s 5ms/step - loss: 0.8993 - accuracy: 0.7031 - val_loss: 4.8877 - val_accuracy: 0.0996\n",
            "Epoch 64/100\n",
            "375/375 [==============================] - 2s 4ms/step - loss: 0.8891 - accuracy: 0.7047 - val_loss: 4.9515 - val_accuracy: 0.1017\n",
            "Epoch 65/100\n",
            "375/375 [==============================] - 2s 4ms/step - loss: 0.8763 - accuracy: 0.7090 - val_loss: 4.9802 - val_accuracy: 0.1018\n",
            "Epoch 66/100\n",
            "375/375 [==============================] - 2s 5ms/step - loss: 0.8625 - accuracy: 0.7137 - val_loss: 5.0385 - val_accuracy: 0.0963\n",
            "Epoch 67/100\n",
            "375/375 [==============================] - 2s 5ms/step - loss: 0.8498 - accuracy: 0.7192 - val_loss: 5.1379 - val_accuracy: 0.0981\n",
            "Epoch 68/100\n",
            "375/375 [==============================] - 2s 5ms/step - loss: 0.8382 - accuracy: 0.7208 - val_loss: 5.1578 - val_accuracy: 0.0987\n",
            "Epoch 69/100\n",
            "375/375 [==============================] - 2s 5ms/step - loss: 0.8266 - accuracy: 0.7270 - val_loss: 5.2501 - val_accuracy: 0.1014\n",
            "Epoch 70/100\n",
            "375/375 [==============================] - 2s 5ms/step - loss: 0.8135 - accuracy: 0.7310 - val_loss: 5.2630 - val_accuracy: 0.1019\n",
            "Epoch 71/100\n",
            "375/375 [==============================] - 2s 5ms/step - loss: 0.8027 - accuracy: 0.7352 - val_loss: 5.3425 - val_accuracy: 0.1006\n",
            "Epoch 72/100\n",
            "375/375 [==============================] - 2s 4ms/step - loss: 0.7909 - accuracy: 0.7391 - val_loss: 5.3958 - val_accuracy: 0.1022\n",
            "Epoch 73/100\n",
            "375/375 [==============================] - 2s 4ms/step - loss: 0.7782 - accuracy: 0.7445 - val_loss: 5.4549 - val_accuracy: 0.0968\n",
            "Epoch 74/100\n",
            "375/375 [==============================] - 2s 4ms/step - loss: 0.7673 - accuracy: 0.7466 - val_loss: 5.5647 - val_accuracy: 0.0988\n",
            "Epoch 75/100\n",
            "375/375 [==============================] - 2s 4ms/step - loss: 0.7578 - accuracy: 0.7525 - val_loss: 5.5747 - val_accuracy: 0.1007\n",
            "Epoch 76/100\n",
            "375/375 [==============================] - 2s 4ms/step - loss: 0.7466 - accuracy: 0.7544 - val_loss: 5.7006 - val_accuracy: 0.0983\n",
            "Epoch 77/100\n",
            "375/375 [==============================] - 2s 5ms/step - loss: 0.7365 - accuracy: 0.7589 - val_loss: 5.6985 - val_accuracy: 0.1002\n",
            "Epoch 78/100\n",
            "375/375 [==============================] - 2s 5ms/step - loss: 0.7256 - accuracy: 0.7608 - val_loss: 5.8034 - val_accuracy: 0.0975\n",
            "Epoch 79/100\n",
            "375/375 [==============================] - 2s 5ms/step - loss: 0.7172 - accuracy: 0.7660 - val_loss: 5.8619 - val_accuracy: 0.0979\n",
            "Epoch 80/100\n",
            "375/375 [==============================] - 2s 4ms/step - loss: 0.7058 - accuracy: 0.7683 - val_loss: 5.9357 - val_accuracy: 0.0988\n",
            "Epoch 81/100\n",
            "375/375 [==============================] - 2s 5ms/step - loss: 0.6958 - accuracy: 0.7728 - val_loss: 5.9710 - val_accuracy: 0.0964\n",
            "Epoch 82/100\n",
            "375/375 [==============================] - 2s 5ms/step - loss: 0.6876 - accuracy: 0.7744 - val_loss: 6.0744 - val_accuracy: 0.1004\n",
            "Epoch 83/100\n",
            "375/375 [==============================] - 2s 4ms/step - loss: 0.6794 - accuracy: 0.7773 - val_loss: 6.0945 - val_accuracy: 0.0939\n",
            "Epoch 84/100\n",
            "375/375 [==============================] - 2s 4ms/step - loss: 0.6689 - accuracy: 0.7808 - val_loss: 6.1414 - val_accuracy: 0.0972\n",
            "Epoch 85/100\n",
            "375/375 [==============================] - 2s 4ms/step - loss: 0.6574 - accuracy: 0.7848 - val_loss: 6.2270 - val_accuracy: 0.0962\n",
            "Epoch 86/100\n",
            "375/375 [==============================] - 2s 5ms/step - loss: 0.6494 - accuracy: 0.7875 - val_loss: 6.2874 - val_accuracy: 0.1002\n",
            "Epoch 87/100\n",
            "375/375 [==============================] - 2s 4ms/step - loss: 0.6399 - accuracy: 0.7910 - val_loss: 6.3381 - val_accuracy: 0.0985\n",
            "Epoch 88/100\n",
            "375/375 [==============================] - 2s 4ms/step - loss: 0.6318 - accuracy: 0.7942 - val_loss: 6.4489 - val_accuracy: 0.1013\n",
            "Epoch 89/100\n",
            "375/375 [==============================] - 2s 5ms/step - loss: 0.6230 - accuracy: 0.7971 - val_loss: 6.4536 - val_accuracy: 0.0985\n",
            "Epoch 90/100\n",
            "375/375 [==============================] - 2s 4ms/step - loss: 0.6146 - accuracy: 0.7989 - val_loss: 6.5152 - val_accuracy: 0.1002\n",
            "Epoch 91/100\n",
            "375/375 [==============================] - 2s 5ms/step - loss: 0.6068 - accuracy: 0.8030 - val_loss: 6.6098 - val_accuracy: 0.0960\n",
            "Epoch 92/100\n",
            "375/375 [==============================] - 2s 5ms/step - loss: 0.5999 - accuracy: 0.8057 - val_loss: 6.6961 - val_accuracy: 0.0956\n",
            "Epoch 93/100\n",
            "375/375 [==============================] - 2s 4ms/step - loss: 0.5914 - accuracy: 0.8052 - val_loss: 6.7445 - val_accuracy: 0.0993\n",
            "Epoch 94/100\n",
            "375/375 [==============================] - 2s 4ms/step - loss: 0.5827 - accuracy: 0.8105 - val_loss: 6.8275 - val_accuracy: 0.0932\n",
            "Epoch 95/100\n",
            "375/375 [==============================] - 2s 5ms/step - loss: 0.5727 - accuracy: 0.8138 - val_loss: 6.9143 - val_accuracy: 0.0980\n",
            "Epoch 96/100\n",
            "375/375 [==============================] - 2s 5ms/step - loss: 0.5674 - accuracy: 0.8153 - val_loss: 6.9586 - val_accuracy: 0.0966\n",
            "Epoch 97/100\n",
            "375/375 [==============================] - 2s 4ms/step - loss: 0.5596 - accuracy: 0.8188 - val_loss: 6.9946 - val_accuracy: 0.0979\n",
            "Epoch 98/100\n",
            "375/375 [==============================] - 2s 5ms/step - loss: 0.5507 - accuracy: 0.8201 - val_loss: 7.1122 - val_accuracy: 0.1000\n",
            "Epoch 99/100\n",
            "375/375 [==============================] - 2s 5ms/step - loss: 0.5453 - accuracy: 0.8233 - val_loss: 7.1372 - val_accuracy: 0.1007\n",
            "Epoch 100/100\n",
            "375/375 [==============================] - 2s 4ms/step - loss: 0.5390 - accuracy: 0.8247 - val_loss: 7.1968 - val_accuracy: 0.0993\n"
          ]
        },
        {
          "output_type": "execute_result",
          "data": {
            "text/plain": [
              "<keras.callbacks.History at 0x7f0c94defb90>"
            ]
          },
          "metadata": {},
          "execution_count": 6
        }
      ],
      "source": [
        "(train_images, train_labels), _ = mnist.load_data()\n",
        "train_images = train_images.reshape((60000, 28 * 28))\n",
        "train_images = train_images.astype(\"float32\") / 255\n",
        "\n",
        "random_train_labels = train_labels[:]\n",
        "np.random.shuffle(random_train_labels)\n",
        "\n",
        "model = keras.Sequential([\n",
        "    layers.Dense(512, activation=\"relu\"),\n",
        "    layers.Dense(10, activation=\"softmax\")\n",
        "])\n",
        "model.compile(optimizer=\"rmsprop\",\n",
        "              loss=\"sparse_categorical_crossentropy\",\n",
        "              metrics=[\"accuracy\"])\n",
        "model.fit(train_images, random_train_labels,\n",
        "          epochs=100,\n",
        "          batch_size=128,\n",
        "          validation_split=0.2)"
      ]
    },
    {
      "cell_type": "code",
      "source": [
        "#accuracy 는 계속 오르지만 val_accuracy 는 10%"
      ],
      "metadata": {
        "id": "G4vp6JkfcisH"
      },
      "execution_count": null,
      "outputs": []
    },
    {
      "cell_type": "markdown",
      "metadata": {
        "id": "Uk6Du43zwvhp"
      },
      "source": [
        "#### The manifold hypothesis"
      ]
    },
    {
      "cell_type": "markdown",
      "metadata": {
        "id": "Hpt7gru5wvhq"
      },
      "source": [
        "#### Interpolation as a source of generalization"
      ]
    },
    {
      "cell_type": "markdown",
      "metadata": {
        "id": "JkaL9ZC-wvhq"
      },
      "source": [
        "#### Why deep learning works"
      ]
    },
    {
      "cell_type": "markdown",
      "metadata": {
        "id": "ZgGiikB6wvhr"
      },
      "source": [
        "#### Training data is paramount"
      ]
    },
    {
      "cell_type": "markdown",
      "metadata": {
        "id": "X0477RQ-wvhr"
      },
      "source": [
        "## Evaluating machine-learning models"
      ]
    },
    {
      "cell_type": "markdown",
      "metadata": {
        "id": "Gn3Q8o7Jwvhr"
      },
      "source": [
        "### Training, validation, and test sets"
      ]
    },
    {
      "cell_type": "markdown",
      "metadata": {
        "id": "tuNn8LXIwvhr"
      },
      "source": [
        "#### Simple hold-out validation"
      ]
    },
    {
      "cell_type": "markdown",
      "metadata": {
        "id": "R0vOzfJIwvhs"
      },
      "source": [
        "#### K-fold validation"
      ]
    },
    {
      "cell_type": "markdown",
      "metadata": {
        "id": "Ah_ykP5cwvhs"
      },
      "source": [
        "#### Iterated K-fold validation with shuffling"
      ]
    },
    {
      "cell_type": "markdown",
      "metadata": {
        "id": "XqC9-022wvhs"
      },
      "source": [
        "### Beating a common-sense baseline"
      ]
    },
    {
      "cell_type": "markdown",
      "metadata": {
        "id": "bVIAa0Enwvht"
      },
      "source": [
        "### Things to keep in mind about model evaluation"
      ]
    },
    {
      "cell_type": "markdown",
      "metadata": {
        "id": "4WZRNBmewvht"
      },
      "source": [
        "## Improving model fit"
      ]
    },
    {
      "cell_type": "markdown",
      "metadata": {
        "id": "Z7rnTr0Gwvhu"
      },
      "source": [
        "### Tuning key gradient descent parameters"
      ]
    },
    {
      "cell_type": "markdown",
      "metadata": {
        "id": "zoUbLJv7wvhu"
      },
      "source": [
        "**Training a MNIST model with an incorrectly high learning rate**"
      ]
    },
    {
      "cell_type": "code",
      "execution_count": null,
      "metadata": {
        "id": "MIezcImOwvhu",
        "colab": {
          "base_uri": "https://localhost:8080/"
        },
        "outputId": "c076099d-f802-4d9a-9701-8d72c2e6b257"
      },
      "outputs": [
        {
          "output_type": "stream",
          "name": "stdout",
          "text": [
            "Epoch 1/10\n",
            "375/375 [==============================] - 2s 5ms/step - loss: 871.1930 - accuracy: 0.3580 - val_loss: 2.2660 - val_accuracy: 0.2496\n",
            "Epoch 2/10\n",
            "375/375 [==============================] - 2s 5ms/step - loss: 5.6861 - accuracy: 0.2543 - val_loss: 9.2140 - val_accuracy: 0.2734\n",
            "Epoch 3/10\n",
            "375/375 [==============================] - 2s 5ms/step - loss: 4.3018 - accuracy: 0.2523 - val_loss: 3.0623 - val_accuracy: 0.2133\n",
            "Epoch 4/10\n",
            "375/375 [==============================] - 2s 5ms/step - loss: 2.7485 - accuracy: 0.2301 - val_loss: 2.0918 - val_accuracy: 0.2550\n",
            "Epoch 5/10\n",
            "375/375 [==============================] - 2s 4ms/step - loss: 2.8873 - accuracy: 0.2368 - val_loss: 2.0762 - val_accuracy: 0.2042\n",
            "Epoch 6/10\n",
            "375/375 [==============================] - 2s 5ms/step - loss: 3.0268 - accuracy: 0.2245 - val_loss: 2.3112 - val_accuracy: 0.2465\n",
            "Epoch 7/10\n",
            "375/375 [==============================] - 2s 5ms/step - loss: 2.6369 - accuracy: 0.2539 - val_loss: 2.2312 - val_accuracy: 0.2285\n",
            "Epoch 8/10\n",
            "375/375 [==============================] - 2s 4ms/step - loss: 2.4831 - accuracy: 0.2512 - val_loss: 2.3872 - val_accuracy: 0.2428\n",
            "Epoch 9/10\n",
            "375/375 [==============================] - 2s 4ms/step - loss: 2.3850 - accuracy: 0.2375 - val_loss: 2.2212 - val_accuracy: 0.2114\n",
            "Epoch 10/10\n",
            "375/375 [==============================] - 2s 5ms/step - loss: 2.8670 - accuracy: 0.2538 - val_loss: 2.0598 - val_accuracy: 0.2401\n"
          ]
        },
        {
          "output_type": "execute_result",
          "data": {
            "text/plain": [
              "<keras.callbacks.History at 0x7f0c90a63b90>"
            ]
          },
          "metadata": {},
          "execution_count": 8
        }
      ],
      "source": [
        "(train_images, train_labels), _ = mnist.load_data()\n",
        "train_images = train_images.reshape((60000, 28 * 28))\n",
        "train_images = train_images.astype(\"float32\") / 255\n",
        "\n",
        "model = keras.Sequential([\n",
        "    layers.Dense(512, activation=\"relu\"),\n",
        "    layers.Dense(10, activation=\"softmax\")\n",
        "])\n",
        "model.compile(optimizer=keras.optimizers.RMSprop(1.), # check gradient descend parameters\n",
        "              loss=\"sparse_categorical_crossentropy\",\n",
        "              metrics=[\"accuracy\"])\n",
        "model.fit(train_images, train_labels,\n",
        "          epochs=10,\n",
        "          batch_size=128,\n",
        "          validation_split=0.2)"
      ]
    },
    {
      "cell_type": "markdown",
      "metadata": {
        "id": "m_CHbLUfwvhu"
      },
      "source": [
        "**The same model with a more appropriate learning rate**"
      ]
    },
    {
      "cell_type": "code",
      "execution_count": null,
      "metadata": {
        "id": "5Edw8v0Mwvhv",
        "colab": {
          "base_uri": "https://localhost:8080/"
        },
        "outputId": "20e04800-b6f8-42a8-f1ba-34c9efdf7f8a"
      },
      "outputs": [
        {
          "output_type": "stream",
          "name": "stdout",
          "text": [
            "Epoch 1/10\n",
            "375/375 [==============================] - 2s 5ms/step - loss: 0.3620 - accuracy: 0.9101 - val_loss: 0.1569 - val_accuracy: 0.9578\n",
            "Epoch 2/10\n",
            "375/375 [==============================] - 2s 5ms/step - loss: 0.1406 - accuracy: 0.9634 - val_loss: 0.1707 - val_accuracy: 0.9654\n",
            "Epoch 3/10\n",
            "375/375 [==============================] - 2s 4ms/step - loss: 0.1228 - accuracy: 0.9720 - val_loss: 0.1505 - val_accuracy: 0.9683\n",
            "Epoch 4/10\n",
            "375/375 [==============================] - 2s 5ms/step - loss: 0.1074 - accuracy: 0.9776 - val_loss: 0.1559 - val_accuracy: 0.9717\n",
            "Epoch 5/10\n",
            "375/375 [==============================] - 2s 5ms/step - loss: 0.0880 - accuracy: 0.9820 - val_loss: 0.2293 - val_accuracy: 0.9707\n",
            "Epoch 6/10\n",
            "375/375 [==============================] - 2s 5ms/step - loss: 0.0841 - accuracy: 0.9841 - val_loss: 0.2012 - val_accuracy: 0.9753\n",
            "Epoch 7/10\n",
            "375/375 [==============================] - 2s 5ms/step - loss: 0.0727 - accuracy: 0.9862 - val_loss: 0.2391 - val_accuracy: 0.9739\n",
            "Epoch 8/10\n",
            "375/375 [==============================] - 2s 4ms/step - loss: 0.0714 - accuracy: 0.9873 - val_loss: 0.2730 - val_accuracy: 0.9755\n",
            "Epoch 9/10\n",
            "375/375 [==============================] - 2s 4ms/step - loss: 0.0595 - accuracy: 0.9895 - val_loss: 0.2663 - val_accuracy: 0.9762\n",
            "Epoch 10/10\n",
            "375/375 [==============================] - 2s 4ms/step - loss: 0.0559 - accuracy: 0.9906 - val_loss: 0.2848 - val_accuracy: 0.9744\n"
          ]
        },
        {
          "output_type": "execute_result",
          "data": {
            "text/plain": [
              "<keras.callbacks.History at 0x7f0c908d3090>"
            ]
          },
          "metadata": {},
          "execution_count": 9
        }
      ],
      "source": [
        "model = keras.Sequential([\n",
        "    layers.Dense(512, activation=\"relu\"),\n",
        "    layers.Dense(10, activation=\"softmax\")\n",
        "])\n",
        "model.compile(optimizer=keras.optimizers.RMSprop(1e-2), #appropriate learning rate\n",
        "              loss=\"sparse_categorical_crossentropy\",\n",
        "              metrics=[\"accuracy\"])\n",
        "model.fit(train_images, train_labels,\n",
        "          epochs=10,\n",
        "          batch_size=128,\n",
        "          validation_split=0.2)"
      ]
    },
    {
      "cell_type": "markdown",
      "metadata": {
        "id": "nXBRiYqawvhv"
      },
      "source": [
        "### Leveraging better architecture priors"
      ]
    },
    {
      "cell_type": "markdown",
      "metadata": {
        "id": "ShmI3QNiwvhv"
      },
      "source": [
        "### Increasing model capacity"
      ]
    },
    {
      "cell_type": "markdown",
      "metadata": {
        "id": "BDZhn70nwvhv"
      },
      "source": [
        "**A simple logistic regression on MNIST**"
      ]
    },
    {
      "cell_type": "code",
      "execution_count": null,
      "metadata": {
        "id": "5nrGiFYqwvhw",
        "colab": {
          "base_uri": "https://localhost:8080/"
        },
        "outputId": "bfbe8222-e819-47cf-95b1-cb03e84b74df"
      },
      "outputs": [
        {
          "output_type": "stream",
          "name": "stdout",
          "text": [
            "Epoch 1/20\n",
            "375/375 [==============================] - 2s 4ms/step - loss: 0.6612 - accuracy: 0.8382 - val_loss: 0.3583 - val_accuracy: 0.9016\n",
            "Epoch 2/20\n",
            "375/375 [==============================] - 1s 3ms/step - loss: 0.3510 - accuracy: 0.9034 - val_loss: 0.3071 - val_accuracy: 0.9153\n",
            "Epoch 3/20\n",
            "375/375 [==============================] - 1s 3ms/step - loss: 0.3157 - accuracy: 0.9121 - val_loss: 0.2898 - val_accuracy: 0.9210\n",
            "Epoch 4/20\n",
            "375/375 [==============================] - 1s 4ms/step - loss: 0.2994 - accuracy: 0.9161 - val_loss: 0.2799 - val_accuracy: 0.9223\n",
            "Epoch 5/20\n",
            "375/375 [==============================] - 1s 4ms/step - loss: 0.2897 - accuracy: 0.9188 - val_loss: 0.2777 - val_accuracy: 0.9233\n",
            "Epoch 6/20\n",
            "375/375 [==============================] - 1s 3ms/step - loss: 0.2831 - accuracy: 0.9210 - val_loss: 0.2714 - val_accuracy: 0.9257\n",
            "Epoch 7/20\n",
            "375/375 [==============================] - 1s 3ms/step - loss: 0.2783 - accuracy: 0.9225 - val_loss: 0.2703 - val_accuracy: 0.9255\n",
            "Epoch 8/20\n",
            "375/375 [==============================] - 1s 4ms/step - loss: 0.2746 - accuracy: 0.9235 - val_loss: 0.2680 - val_accuracy: 0.9258\n",
            "Epoch 9/20\n",
            "375/375 [==============================] - 1s 3ms/step - loss: 0.2717 - accuracy: 0.9241 - val_loss: 0.2662 - val_accuracy: 0.9269\n",
            "Epoch 10/20\n",
            "375/375 [==============================] - 1s 3ms/step - loss: 0.2686 - accuracy: 0.9250 - val_loss: 0.2657 - val_accuracy: 0.9277\n",
            "Epoch 11/20\n",
            "375/375 [==============================] - 1s 3ms/step - loss: 0.2667 - accuracy: 0.9262 - val_loss: 0.2652 - val_accuracy: 0.9272\n",
            "Epoch 12/20\n",
            "375/375 [==============================] - 1s 3ms/step - loss: 0.2650 - accuracy: 0.9270 - val_loss: 0.2624 - val_accuracy: 0.9281\n",
            "Epoch 13/20\n",
            "375/375 [==============================] - 1s 3ms/step - loss: 0.2634 - accuracy: 0.9274 - val_loss: 0.2627 - val_accuracy: 0.9296\n",
            "Epoch 14/20\n",
            "375/375 [==============================] - 1s 3ms/step - loss: 0.2617 - accuracy: 0.9274 - val_loss: 0.2613 - val_accuracy: 0.9298\n",
            "Epoch 15/20\n",
            "375/375 [==============================] - 1s 4ms/step - loss: 0.2604 - accuracy: 0.9284 - val_loss: 0.2606 - val_accuracy: 0.9304\n",
            "Epoch 16/20\n",
            "375/375 [==============================] - 1s 4ms/step - loss: 0.2594 - accuracy: 0.9292 - val_loss: 0.2605 - val_accuracy: 0.9302\n",
            "Epoch 17/20\n",
            "375/375 [==============================] - 1s 3ms/step - loss: 0.2583 - accuracy: 0.9288 - val_loss: 0.2604 - val_accuracy: 0.9305\n",
            "Epoch 18/20\n",
            "375/375 [==============================] - 1s 4ms/step - loss: 0.2573 - accuracy: 0.9301 - val_loss: 0.2613 - val_accuracy: 0.9306\n",
            "Epoch 19/20\n",
            "375/375 [==============================] - 1s 4ms/step - loss: 0.2564 - accuracy: 0.9302 - val_loss: 0.2637 - val_accuracy: 0.9293\n",
            "Epoch 20/20\n",
            "375/375 [==============================] - 1s 4ms/step - loss: 0.2555 - accuracy: 0.9303 - val_loss: 0.2598 - val_accuracy: 0.9316\n"
          ]
        }
      ],
      "source": [
        "model = keras.Sequential([layers.Dense(10, activation=\"softmax\")])\n",
        "model.compile(optimizer=\"rmsprop\",\n",
        "              loss=\"sparse_categorical_crossentropy\",\n",
        "              metrics=[\"accuracy\"])\n",
        "history_small_model = model.fit(\n",
        "    train_images, train_labels,\n",
        "    epochs=20,\n",
        "    batch_size=128,\n",
        "    validation_split=0.2)"
      ]
    },
    {
      "cell_type": "code",
      "execution_count": null,
      "metadata": {
        "id": "yZDx8yyLwvhw",
        "colab": {
          "base_uri": "https://localhost:8080/",
          "height": 313
        },
        "outputId": "d5a4e353-deb5-419f-fb8b-592089001b54"
      },
      "outputs": [
        {
          "output_type": "execute_result",
          "data": {
            "text/plain": [
              "<matplotlib.legend.Legend at 0x7f0d004102d0>"
            ]
          },
          "metadata": {},
          "execution_count": 11
        },
        {
          "output_type": "display_data",
          "data": {
            "text/plain": [
              "<Figure size 432x288 with 1 Axes>"
            ],
            "image/png": "[encoded data removed]"
          },
          "metadata": {
            "needs_background": "light"
          }
        }
      ],
      "source": [
        "import matplotlib.pyplot as plt\n",
        "val_loss = history_small_model.history[\"val_loss\"]\n",
        "epochs = range(1, 21)\n",
        "plt.plot(epochs, val_loss, \"b--\",\n",
        "         label=\"Validation loss\")\n",
        "plt.title(\"Effect of insufficient model capacity on validation loss\")\n",
        "plt.xlabel(\"Epochs\")\n",
        "plt.ylabel(\"Loss\")\n",
        "plt.legend()"
      ]
    },
    {
      "cell_type": "code",
      "execution_count": null,
      "metadata": {
        "id": "msBy8QZFwvhw",
        "colab": {
          "base_uri": "https://localhost:8080/"
        },
        "outputId": "dc22dcaa-e003-40d2-e436-f62df92c7dde"
      },
      "outputs": [
        {
          "output_type": "stream",
          "name": "stdout",
          "text": [
            "Epoch 1/20\n",
            "375/375 [==============================] - 2s 5ms/step - loss: 0.3561 - accuracy: 0.8986 - val_loss: 0.1874 - val_accuracy: 0.9458\n",
            "Epoch 2/20\n",
            "375/375 [==============================] - 2s 4ms/step - loss: 0.1606 - accuracy: 0.9521 - val_loss: 0.1367 - val_accuracy: 0.9597\n",
            "Epoch 3/20\n",
            "375/375 [==============================] - 2s 4ms/step - loss: 0.1134 - accuracy: 0.9664 - val_loss: 0.1132 - val_accuracy: 0.9668\n",
            "Epoch 4/20\n",
            "375/375 [==============================] - 2s 4ms/step - loss: 0.0877 - accuracy: 0.9733 - val_loss: 0.1060 - val_accuracy: 0.9695\n",
            "Epoch 5/20\n",
            "375/375 [==============================] - 2s 4ms/step - loss: 0.0707 - accuracy: 0.9793 - val_loss: 0.0962 - val_accuracy: 0.9728\n",
            "Epoch 6/20\n",
            "375/375 [==============================] - 2s 4ms/step - loss: 0.0591 - accuracy: 0.9815 - val_loss: 0.0925 - val_accuracy: 0.9742\n",
            "Epoch 7/20\n",
            "375/375 [==============================] - 2s 4ms/step - loss: 0.0490 - accuracy: 0.9850 - val_loss: 0.1019 - val_accuracy: 0.9709\n",
            "Epoch 8/20\n",
            "375/375 [==============================] - 2s 4ms/step - loss: 0.0416 - accuracy: 0.9870 - val_loss: 0.0937 - val_accuracy: 0.9733\n",
            "Epoch 9/20\n",
            "375/375 [==============================] - 2s 4ms/step - loss: 0.0343 - accuracy: 0.9894 - val_loss: 0.0980 - val_accuracy: 0.9733\n",
            "Epoch 10/20\n",
            "375/375 [==============================] - 2s 4ms/step - loss: 0.0295 - accuracy: 0.9909 - val_loss: 0.1113 - val_accuracy: 0.9707\n",
            "Epoch 11/20\n",
            "375/375 [==============================] - 2s 4ms/step - loss: 0.0251 - accuracy: 0.9922 - val_loss: 0.1048 - val_accuracy: 0.9741\n",
            "Epoch 12/20\n",
            "375/375 [==============================] - 2s 4ms/step - loss: 0.0210 - accuracy: 0.9935 - val_loss: 0.0988 - val_accuracy: 0.9768\n",
            "Epoch 13/20\n",
            "375/375 [==============================] - 2s 4ms/step - loss: 0.0184 - accuracy: 0.9942 - val_loss: 0.1165 - val_accuracy: 0.9741\n",
            "Epoch 14/20\n",
            "375/375 [==============================] - 2s 4ms/step - loss: 0.0153 - accuracy: 0.9955 - val_loss: 0.1096 - val_accuracy: 0.9742\n",
            "Epoch 15/20\n",
            "375/375 [==============================] - 2s 4ms/step - loss: 0.0127 - accuracy: 0.9959 - val_loss: 0.1189 - val_accuracy: 0.9758\n",
            "Epoch 16/20\n",
            "375/375 [==============================] - 2s 4ms/step - loss: 0.0113 - accuracy: 0.9965 - val_loss: 0.1207 - val_accuracy: 0.9733\n",
            "Epoch 17/20\n",
            "375/375 [==============================] - 2s 4ms/step - loss: 0.0096 - accuracy: 0.9974 - val_loss: 0.1199 - val_accuracy: 0.9763\n",
            "Epoch 18/20\n",
            "375/375 [==============================] - 2s 4ms/step - loss: 0.0079 - accuracy: 0.9976 - val_loss: 0.1319 - val_accuracy: 0.9752\n",
            "Epoch 19/20\n",
            "375/375 [==============================] - 2s 4ms/step - loss: 0.0069 - accuracy: 0.9976 - val_loss: 0.1312 - val_accuracy: 0.9761\n",
            "Epoch 20/20\n",
            "375/375 [==============================] - 2s 4ms/step - loss: 0.0066 - accuracy: 0.9980 - val_loss: 0.1471 - val_accuracy: 0.9728\n"
          ]
        }
      ],
      "source": [
        "model = keras.Sequential([\n",
        "    layers.Dense(96, activation=\"relu\"),\n",
        "    layers.Dense(96, activation=\"relu\"),\n",
        "    layers.Dense(10, activation=\"softmax\"),\n",
        "])\n",
        "model.compile(optimizer=\"rmsprop\",\n",
        "              loss=\"sparse_categorical_crossentropy\",\n",
        "              metrics=[\"accuracy\"])\n",
        "history_large_model = model.fit(\n",
        "    train_images, train_labels,\n",
        "    epochs=20,\n",
        "    batch_size=128,\n",
        "    validation_split=0.2)"
      ]
    },
    {
      "cell_type": "code",
      "source": [
        "import matplotlib.pyplot as plt\n",
        "val_loss = history_large_model.history[\"val_loss\"]\n",
        "epochs = range(1, 21)\n",
        "plt.plot(epochs, val_loss, \"b--\",\n",
        "         label=\"Validation loss\")\n",
        "plt.title(\"Effect of large model capacity on validation loss\")\n",
        "plt.xlabel(\"Epochs\")\n",
        "plt.ylabel(\"Loss\")\n",
        "plt.legend()"
      ],
      "metadata": {
        "id": "hfc8kxWkn2DW",
        "colab": {
          "base_uri": "https://localhost:8080/",
          "height": 313
        },
        "outputId": "40432e2b-8800-4fb8-a92a-f803d2d4edba"
      },
      "execution_count": null,
      "outputs": [
        {
          "output_type": "execute_result",
          "data": {
            "text/plain": [
              "<matplotlib.legend.Legend at 0x7f0c905bcbd0>"
            ]
          },
          "metadata": {},
          "execution_count": 13
        },
        {
          "output_type": "display_data",
          "data": {
            "text/plain": [
              "<Figure size 432x288 with 1 Axes>"
            ],
            "image/png": "[encoded data removed]"
          },
          "metadata": {
            "needs_background": "light"
          }
        }
      ]
    },
    {
      "cell_type": "markdown",
      "metadata": {
        "id": "ukggTgr6wvhw"
      },
      "source": [
        "## Improving generalization"
      ]
    },
    {
      "cell_type": "markdown",
      "metadata": {
        "id": "3stmTLUjwvh1"
      },
      "source": [
        "### Dataset curation"
      ]
    },
    {
      "cell_type": "markdown",
      "metadata": {
        "id": "rxm2CnDvwvh2"
      },
      "source": [
        "### Feature engineering"
      ]
    },
    {
      "cell_type": "markdown",
      "metadata": {
        "id": "C0bSulT8wvh2"
      },
      "source": [
        "### Using early stopping"
      ]
    },
    {
      "cell_type": "markdown",
      "metadata": {
        "id": "2Pb85BD9wvh2"
      },
      "source": [
        "### Regularizing your model"
      ]
    },
    {
      "cell_type": "markdown",
      "metadata": {
        "id": "sA-XOwsrwvh3"
      },
      "source": [
        "#### Reducing the network's size"
      ]
    },
    {
      "cell_type": "markdown",
      "metadata": {
        "id": "BhiLLpJEwvh3"
      },
      "source": [
        "**Original model**"
      ]
    },
    {
      "cell_type": "code",
      "execution_count": null,
      "metadata": {
        "id": "2rfg2v7Hwvh3",
        "colab": {
          "base_uri": "https://localhost:8080/"
        },
        "outputId": "aa1fd1df-ad9f-4738-99b5-9bee5e1cb6ca"
      },
      "outputs": [
        {
          "output_type": "stream",
          "name": "stdout",
          "text": [
            "Downloading data from https://storage.googleapis.com/tensorflow/tf-keras-datasets/imdb.npz\n",
            "17465344/17464789 [==============================] - 0s 0us/step\n",
            "17473536/17464789 [==============================] - 0s 0us/step\n",
            "Epoch 1/20\n",
            "30/30 [==============================] - 3s 41ms/step - loss: 0.5159 - accuracy: 0.7832 - val_loss: 0.3860 - val_accuracy: 0.8782\n",
            "Epoch 2/20\n",
            "30/30 [==============================] - 1s 25ms/step - loss: 0.3096 - accuracy: 0.9055 - val_loss: 0.3053 - val_accuracy: 0.8911\n",
            "Epoch 3/20\n",
            "30/30 [==============================] - 1s 25ms/step - loss: 0.2250 - accuracy: 0.9287 - val_loss: 0.2801 - val_accuracy: 0.8906\n",
            "Epoch 4/20\n",
            "30/30 [==============================] - 1s 21ms/step - loss: 0.1753 - accuracy: 0.9437 - val_loss: 0.2793 - val_accuracy: 0.8891\n",
            "Epoch 5/20\n",
            "30/30 [==============================] - 1s 21ms/step - loss: 0.1439 - accuracy: 0.9549 - val_loss: 0.2808 - val_accuracy: 0.8894\n",
            "Epoch 6/20\n",
            "30/30 [==============================] - 1s 25ms/step - loss: 0.1190 - accuracy: 0.9637 - val_loss: 0.2926 - val_accuracy: 0.8870\n",
            "Epoch 7/20\n",
            "30/30 [==============================] - 1s 20ms/step - loss: 0.1020 - accuracy: 0.9707 - val_loss: 0.3065 - val_accuracy: 0.8849\n",
            "Epoch 8/20\n",
            "30/30 [==============================] - 1s 22ms/step - loss: 0.0829 - accuracy: 0.9774 - val_loss: 0.3289 - val_accuracy: 0.8824\n",
            "Epoch 9/20\n",
            "30/30 [==============================] - 1s 21ms/step - loss: 0.0705 - accuracy: 0.9807 - val_loss: 0.3496 - val_accuracy: 0.8816\n",
            "Epoch 10/20\n",
            "30/30 [==============================] - 1s 25ms/step - loss: 0.0590 - accuracy: 0.9855 - val_loss: 0.3731 - val_accuracy: 0.8794\n",
            "Epoch 11/20\n",
            "30/30 [==============================] - 1s 21ms/step - loss: 0.0495 - accuracy: 0.9887 - val_loss: 0.4048 - val_accuracy: 0.8763\n",
            "Epoch 12/20\n",
            "30/30 [==============================] - 1s 20ms/step - loss: 0.0404 - accuracy: 0.9918 - val_loss: 0.4240 - val_accuracy: 0.8770\n",
            "Epoch 13/20\n",
            "30/30 [==============================] - 1s 24ms/step - loss: 0.0329 - accuracy: 0.9935 - val_loss: 0.4592 - val_accuracy: 0.8748\n",
            "Epoch 14/20\n",
            "30/30 [==============================] - 1s 21ms/step - loss: 0.0289 - accuracy: 0.9940 - val_loss: 0.4936 - val_accuracy: 0.8718\n",
            "Epoch 15/20\n",
            "30/30 [==============================] - 1s 21ms/step - loss: 0.0203 - accuracy: 0.9971 - val_loss: 0.5175 - val_accuracy: 0.8717\n",
            "Epoch 16/20\n",
            "30/30 [==============================] - 1s 20ms/step - loss: 0.0184 - accuracy: 0.9967 - val_loss: 0.5456 - val_accuracy: 0.8723\n",
            "Epoch 17/20\n",
            "30/30 [==============================] - 1s 20ms/step - loss: 0.0154 - accuracy: 0.9969 - val_loss: 0.5778 - val_accuracy: 0.8692\n",
            "Epoch 18/20\n",
            "30/30 [==============================] - 1s 24ms/step - loss: 0.0095 - accuracy: 0.9991 - val_loss: 0.6954 - val_accuracy: 0.8587\n",
            "Epoch 19/20\n",
            "30/30 [==============================] - 1s 21ms/step - loss: 0.0092 - accuracy: 0.9991 - val_loss: 0.6707 - val_accuracy: 0.8645\n",
            "Epoch 20/20\n",
            "30/30 [==============================] - 1s 21ms/step - loss: 0.0099 - accuracy: 0.9980 - val_loss: 0.6869 - val_accuracy: 0.8655\n"
          ]
        }
      ],
      "source": [
        "from tensorflow.keras.datasets import imdb\n",
        "(train_data, train_labels), _ = imdb.load_data(num_words=10000)\n",
        "\n",
        "def vectorize_sequences(sequences, dimension=10000):\n",
        "    results = np.zeros((len(sequences), dimension))\n",
        "    for i, sequence in enumerate(sequences):\n",
        "        results[i, sequence] = 1.\n",
        "    return results\n",
        "train_data = vectorize_sequences(train_data)\n",
        "\n",
        "model = keras.Sequential([\n",
        "    layers.Dense(16, activation=\"relu\"),\n",
        "    layers.Dense(16, activation=\"relu\"),\n",
        "    layers.Dense(1, activation=\"sigmoid\")\n",
        "])\n",
        "model.compile(optimizer=\"rmsprop\",\n",
        "              loss=\"binary_crossentropy\",\n",
        "              metrics=[\"accuracy\"])\n",
        "history_original = model.fit(train_data, train_labels,\n",
        "                             epochs=20, batch_size=512, validation_split=0.4)"
      ]
    },
    {
      "cell_type": "markdown",
      "metadata": {
        "id": "4GsX3otrwvh3"
      },
      "source": [
        "**Version of the model with lower capacity**"
      ]
    },
    {
      "cell_type": "code",
      "execution_count": null,
      "metadata": {
        "id": "0s40uKTUwvh4",
        "colab": {
          "base_uri": "https://localhost:8080/"
        },
        "outputId": "75e0b90b-7a0f-4122-9591-b38893519091"
      },
      "outputs": [
        {
          "output_type": "stream",
          "name": "stdout",
          "text": [
            "Epoch 1/20\n",
            "30/30 [==============================] - 2s 44ms/step - loss: 0.6215 - accuracy: 0.6465 - val_loss: 0.5727 - val_accuracy: 0.8238\n",
            "Epoch 2/20\n",
            "30/30 [==============================] - 1s 25ms/step - loss: 0.5347 - accuracy: 0.8048 - val_loss: 0.5224 - val_accuracy: 0.8369\n",
            "Epoch 3/20\n",
            "30/30 [==============================] - 1s 20ms/step - loss: 0.4871 - accuracy: 0.8529 - val_loss: 0.4934 - val_accuracy: 0.8520\n",
            "Epoch 4/20\n",
            "30/30 [==============================] - 1s 21ms/step - loss: 0.4529 - accuracy: 0.8829 - val_loss: 0.4740 - val_accuracy: 0.8657\n",
            "Epoch 5/20\n",
            "30/30 [==============================] - 1s 21ms/step - loss: 0.4265 - accuracy: 0.9073 - val_loss: 0.4741 - val_accuracy: 0.8280\n",
            "Epoch 6/20\n",
            "30/30 [==============================] - 1s 21ms/step - loss: 0.4047 - accuracy: 0.9215 - val_loss: 0.4542 - val_accuracy: 0.8616\n",
            "Epoch 7/20\n",
            "30/30 [==============================] - 1s 21ms/step - loss: 0.3861 - accuracy: 0.9341 - val_loss: 0.4532 - val_accuracy: 0.8563\n",
            "Epoch 8/20\n",
            "30/30 [==============================] - 1s 25ms/step - loss: 0.3697 - accuracy: 0.9440 - val_loss: 0.4435 - val_accuracy: 0.8713\n",
            "Epoch 9/20\n",
            "30/30 [==============================] - 1s 21ms/step - loss: 0.3543 - accuracy: 0.9539 - val_loss: 0.4387 - val_accuracy: 0.8748\n",
            "Epoch 10/20\n",
            "30/30 [==============================] - 1s 22ms/step - loss: 0.3408 - accuracy: 0.9603 - val_loss: 0.4453 - val_accuracy: 0.8669\n",
            "Epoch 11/20\n",
            "30/30 [==============================] - 1s 21ms/step - loss: 0.3284 - accuracy: 0.9652 - val_loss: 0.4341 - val_accuracy: 0.8769\n",
            "Epoch 12/20\n",
            "30/30 [==============================] - 1s 20ms/step - loss: 0.3163 - accuracy: 0.9701 - val_loss: 0.4446 - val_accuracy: 0.8707\n",
            "Epoch 13/20\n",
            "30/30 [==============================] - 1s 21ms/step - loss: 0.3059 - accuracy: 0.9734 - val_loss: 0.4606 - val_accuracy: 0.8644\n",
            "Epoch 14/20\n",
            "30/30 [==============================] - 1s 25ms/step - loss: 0.2954 - accuracy: 0.9753 - val_loss: 0.4638 - val_accuracy: 0.8643\n",
            "Epoch 15/20\n",
            "30/30 [==============================] - 1s 21ms/step - loss: 0.2862 - accuracy: 0.9785 - val_loss: 0.4817 - val_accuracy: 0.8604\n",
            "Epoch 16/20\n",
            "30/30 [==============================] - 1s 25ms/step - loss: 0.2773 - accuracy: 0.9799 - val_loss: 0.4676 - val_accuracy: 0.8667\n",
            "Epoch 17/20\n",
            "30/30 [==============================] - 1s 21ms/step - loss: 0.2684 - accuracy: 0.9807 - val_loss: 0.4970 - val_accuracy: 0.8594\n",
            "Epoch 18/20\n",
            "30/30 [==============================] - 1s 21ms/step - loss: 0.2608 - accuracy: 0.9835 - val_loss: 0.5195 - val_accuracy: 0.8538\n",
            "Epoch 19/20\n",
            "30/30 [==============================] - 1s 25ms/step - loss: 0.2526 - accuracy: 0.9844 - val_loss: 0.4689 - val_accuracy: 0.8690\n",
            "Epoch 20/20\n",
            "30/30 [==============================] - 1s 21ms/step - loss: 0.2455 - accuracy: 0.9860 - val_loss: 0.4876 - val_accuracy: 0.8671\n"
          ]
        }
      ],
      "source": [
        "model = keras.Sequential([\n",
        "    layers.Dense(4, activation=\"relu\"),\n",
        "    layers.Dense(4, activation=\"relu\"),\n",
        "    layers.Dense(1, activation=\"sigmoid\")\n",
        "])\n",
        "model.compile(optimizer=\"rmsprop\",\n",
        "              loss=\"binary_crossentropy\",\n",
        "              metrics=[\"accuracy\"])\n",
        "history_smaller_model = model.fit(\n",
        "    train_data, train_labels,\n",
        "    epochs=20, batch_size=512, validation_split=0.4)"
      ]
    },
    {
      "cell_type": "code",
      "source": [
        "import matplotlib.pyplot as plt\n",
        "val_loss = history_original.history[\"val_loss\"]\n",
        "val_loss2 = history_smaller_model.history[\"val_loss\"]\n",
        "epochs = range(1, 21)\n",
        "plt.plot(epochs, val_loss, \"b-\",\n",
        "         label=\"Validation loss of original model\")\n",
        "plt.plot(epochs, val_loss2, \"b--\",\n",
        "         label=\"Validation loss of smaller model\")\n",
        "plt.title(\"Effect of smaller model capacity on validation loss\")\n",
        "plt.xlabel(\"Epochs\")\n",
        "plt.ylabel(\"Loss\")\n",
        "plt.legend()"
      ],
      "metadata": {
        "colab": {
          "base_uri": "https://localhost:8080/",
          "height": 313
        },
        "id": "fBrAzQvQoQWY",
        "outputId": "6b0fd132-55a1-47f1-a8b2-067a0f1f9166"
      },
      "execution_count": null,
      "outputs": [
        {
          "output_type": "execute_result",
          "data": {
            "text/plain": [
              "<matplotlib.legend.Legend at 0x7f0c853d4210>"
            ]
          },
          "metadata": {},
          "execution_count": 16
        },
        {
          "output_type": "display_data",
          "data": {
            "text/plain": [
              "<Figure size 432x288 with 1 Axes>"
            ],
            "image/png": "[encoded data removed]"
          },
          "metadata": {
            "needs_background": "light"
          }
        }
      ]
    },
    {
      "cell_type": "markdown",
      "metadata": {
        "id": "oY13xoFIwvh4"
      },
      "source": [
        "**Version of the model with higher capacity**"
      ]
    },
    {
      "cell_type": "code",
      "execution_count": null,
      "metadata": {
        "id": "4fFQcZtGwvh4",
        "colab": {
          "base_uri": "https://localhost:8080/"
        },
        "outputId": "a7dba0c6-0c75-400b-a2f3-326b8c684332"
      },
      "outputs": [
        {
          "output_type": "stream",
          "name": "stdout",
          "text": [
            "Epoch 1/20\n",
            "30/30 [==============================] - 2s 47ms/step - loss: 0.5405 - accuracy: 0.7631 - val_loss: 0.3963 - val_accuracy: 0.8277\n",
            "Epoch 2/20\n",
            "30/30 [==============================] - 1s 31ms/step - loss: 0.2593 - accuracy: 0.8991 - val_loss: 0.3105 - val_accuracy: 0.8684\n",
            "Epoch 3/20\n",
            "30/30 [==============================] - 1s 29ms/step - loss: 0.1697 - accuracy: 0.9369 - val_loss: 0.2753 - val_accuracy: 0.8908\n",
            "Epoch 4/20\n",
            "30/30 [==============================] - 1s 31ms/step - loss: 0.0738 - accuracy: 0.9755 - val_loss: 0.3736 - val_accuracy: 0.8903\n",
            "Epoch 5/20\n",
            "30/30 [==============================] - 1s 31ms/step - loss: 0.1189 - accuracy: 0.9769 - val_loss: 0.3647 - val_accuracy: 0.8867\n",
            "Epoch 6/20\n",
            "30/30 [==============================] - 1s 29ms/step - loss: 0.0053 - accuracy: 0.9993 - val_loss: 0.5068 - val_accuracy: 0.8870\n",
            "Epoch 7/20\n",
            "30/30 [==============================] - 1s 29ms/step - loss: 7.7828e-04 - accuracy: 0.9999 - val_loss: 0.6326 - val_accuracy: 0.8850\n",
            "Epoch 8/20\n",
            "30/30 [==============================] - 1s 31ms/step - loss: 1.0949e-04 - accuracy: 1.0000 - val_loss: 0.9009 - val_accuracy: 0.8754\n",
            "Epoch 9/20\n",
            "30/30 [==============================] - 1s 29ms/step - loss: 2.5315e-05 - accuracy: 1.0000 - val_loss: 0.8964 - val_accuracy: 0.8856\n",
            "Epoch 10/20\n",
            "30/30 [==============================] - 1s 28ms/step - loss: 4.1517e-06 - accuracy: 1.0000 - val_loss: 1.0265 - val_accuracy: 0.8842\n",
            "Epoch 11/20\n",
            "30/30 [==============================] - 1s 28ms/step - loss: 1.1395e-06 - accuracy: 1.0000 - val_loss: 1.0973 - val_accuracy: 0.8841\n",
            "Epoch 12/20\n",
            "30/30 [==============================] - 1s 28ms/step - loss: 3.1073e-07 - accuracy: 1.0000 - val_loss: 1.1698 - val_accuracy: 0.8845\n",
            "Epoch 13/20\n",
            "30/30 [==============================] - 1s 28ms/step - loss: 1.0708e-07 - accuracy: 1.0000 - val_loss: 1.2341 - val_accuracy: 0.8849\n",
            "Epoch 14/20\n",
            "30/30 [==============================] - 1s 27ms/step - loss: 4.7936e-08 - accuracy: 1.0000 - val_loss: 1.2821 - val_accuracy: 0.8846\n",
            "Epoch 15/20\n",
            "30/30 [==============================] - 1s 28ms/step - loss: 2.7655e-08 - accuracy: 1.0000 - val_loss: 1.3150 - val_accuracy: 0.8850\n",
            "Epoch 16/20\n",
            "30/30 [==============================] - 1s 28ms/step - loss: 1.8683e-08 - accuracy: 1.0000 - val_loss: 1.3363 - val_accuracy: 0.8848\n",
            "Epoch 17/20\n",
            "30/30 [==============================] - 1s 28ms/step - loss: 1.4047e-08 - accuracy: 1.0000 - val_loss: 1.3539 - val_accuracy: 0.8848\n",
            "Epoch 18/20\n",
            "30/30 [==============================] - 1s 30ms/step - loss: 1.1272e-08 - accuracy: 1.0000 - val_loss: 1.3668 - val_accuracy: 0.8847\n",
            "Epoch 19/20\n",
            "30/30 [==============================] - 1s 30ms/step - loss: 9.4499e-09 - accuracy: 1.0000 - val_loss: 1.3776 - val_accuracy: 0.8848\n",
            "Epoch 20/20\n",
            "30/30 [==============================] - 1s 29ms/step - loss: 8.1438e-09 - accuracy: 1.0000 - val_loss: 1.3882 - val_accuracy: 0.8848\n"
          ]
        }
      ],
      "source": [
        "model = keras.Sequential([\n",
        "    layers.Dense(512, activation=\"relu\"),\n",
        "    layers.Dense(512, activation=\"relu\"),\n",
        "    layers.Dense(1, activation=\"sigmoid\")\n",
        "])\n",
        "model.compile(optimizer=\"rmsprop\",\n",
        "              loss=\"binary_crossentropy\",\n",
        "              metrics=[\"accuracy\"])\n",
        "history_larger_model = model.fit(\n",
        "    train_data, train_labels,\n",
        "    epochs=20, batch_size=512, validation_split=0.4)"
      ]
    },
    {
      "cell_type": "code",
      "source": [
        "import matplotlib.pyplot as plt\n",
        "val_loss = history_original.history[\"val_loss\"]\n",
        "val_loss2 = history_larger_model.history[\"val_loss\"]\n",
        "epochs = range(1, 21)\n",
        "plt.plot(epochs, val_loss, \"b-\",\n",
        "         label=\"Validation loss of original model\")\n",
        "plt.plot(epochs, val_loss2, \"b--\",\n",
        "         label=\"Validation loss of larger model\")\n",
        "plt.title(\"Effect of larger model capacity on validation loss\")\n",
        "plt.xlabel(\"Epochs\")\n",
        "plt.ylabel(\"Loss\")\n",
        "plt.legend()"
      ],
      "metadata": {
        "id": "XKWUD0KTpFcF",
        "colab": {
          "base_uri": "https://localhost:8080/"
        },
        "outputId": "ae649487-17af-4c02-98e0-875e9ae4ad04"
      },
      "execution_count": null,
      "outputs": [
        {
          "output_type": "execute_result",
          "data": {
            "text/plain": [
              "<matplotlib.legend.Legend at 0x7f0c851052d0>"
            ]
          },
          "metadata": {},
          "execution_count": 18
        },
        {
          "output_type": "display_data",
          "data": {
            "text/plain": [
              "<Figure size 432x288 with 1 Axes>"
            ],
            "image/png": "[encoded data removed]"
          },
          "metadata": {
            "needs_background": "light"
          }
        }
      ]
    },
    {
      "cell_type": "markdown",
      "metadata": {
        "id": "1lMgVm8Bwvh4"
      },
      "source": [
        "#### Adding weight regularization"
      ]
    },
    {
      "cell_type": "markdown",
      "metadata": {
        "id": "Wsm4yfmYwvh4"
      },
      "source": [
        "**Adding L2 weight regularization to the model**"
      ]
    },
    {
      "cell_type": "code",
      "execution_count": null,
      "metadata": {
        "id": "QbKXl-8kwvh5",
        "colab": {
          "base_uri": "https://localhost:8080/"
        },
        "outputId": "b7b5ebb9-10b7-4ea1-81a4-b8fef83c0881"
      },
      "outputs": [
        {
          "output_type": "stream",
          "name": "stdout",
          "text": [
            "Epoch 1/20\n",
            "30/30 [==============================] - 2s 35ms/step - loss: 0.5997 - accuracy: 0.7879 - val_loss: 0.4695 - val_accuracy: 0.8789\n",
            "Epoch 2/20\n",
            "30/30 [==============================] - 1s 21ms/step - loss: 0.4046 - accuracy: 0.8972 - val_loss: 0.3909 - val_accuracy: 0.8854\n",
            "Epoch 3/20\n",
            "30/30 [==============================] - 1s 24ms/step - loss: 0.3386 - accuracy: 0.9135 - val_loss: 0.3733 - val_accuracy: 0.8829\n",
            "Epoch 4/20\n",
            "30/30 [==============================] - 1s 20ms/step - loss: 0.2990 - accuracy: 0.9255 - val_loss: 0.3542 - val_accuracy: 0.8899\n",
            "Epoch 5/20\n",
            "30/30 [==============================] - 1s 21ms/step - loss: 0.2820 - accuracy: 0.9299 - val_loss: 0.3961 - val_accuracy: 0.8682\n",
            "Epoch 6/20\n",
            "30/30 [==============================] - 1s 22ms/step - loss: 0.2652 - accuracy: 0.9374 - val_loss: 0.3559 - val_accuracy: 0.8859\n",
            "Epoch 7/20\n",
            "30/30 [==============================] - 1s 25ms/step - loss: 0.2568 - accuracy: 0.9390 - val_loss: 0.3652 - val_accuracy: 0.8828\n",
            "Epoch 8/20\n",
            "30/30 [==============================] - 1s 24ms/step - loss: 0.2462 - accuracy: 0.9438 - val_loss: 0.3657 - val_accuracy: 0.8821\n",
            "Epoch 9/20\n",
            "30/30 [==============================] - 1s 22ms/step - loss: 0.2404 - accuracy: 0.9442 - val_loss: 0.3659 - val_accuracy: 0.8822\n",
            "Epoch 10/20\n",
            "30/30 [==============================] - 1s 21ms/step - loss: 0.2340 - accuracy: 0.9473 - val_loss: 0.3702 - val_accuracy: 0.8826\n",
            "Epoch 11/20\n",
            "30/30 [==============================] - 1s 25ms/step - loss: 0.2264 - accuracy: 0.9512 - val_loss: 0.3734 - val_accuracy: 0.8801\n",
            "Epoch 12/20\n",
            "30/30 [==============================] - 1s 22ms/step - loss: 0.2215 - accuracy: 0.9514 - val_loss: 0.3845 - val_accuracy: 0.8788\n",
            "Epoch 13/20\n",
            "30/30 [==============================] - 1s 25ms/step - loss: 0.2224 - accuracy: 0.9483 - val_loss: 0.3810 - val_accuracy: 0.8796\n",
            "Epoch 14/20\n",
            "30/30 [==============================] - 1s 21ms/step - loss: 0.2185 - accuracy: 0.9513 - val_loss: 0.3945 - val_accuracy: 0.8776\n",
            "Epoch 15/20\n",
            "30/30 [==============================] - 1s 22ms/step - loss: 0.2044 - accuracy: 0.9609 - val_loss: 0.3906 - val_accuracy: 0.8791\n",
            "Epoch 16/20\n",
            "30/30 [==============================] - 1s 21ms/step - loss: 0.2125 - accuracy: 0.9541 - val_loss: 0.4030 - val_accuracy: 0.8747\n",
            "Epoch 17/20\n",
            "30/30 [==============================] - 1s 21ms/step - loss: 0.2051 - accuracy: 0.9585 - val_loss: 0.4005 - val_accuracy: 0.8777\n",
            "Epoch 18/20\n",
            "30/30 [==============================] - 1s 21ms/step - loss: 0.2055 - accuracy: 0.9566 - val_loss: 0.4121 - val_accuracy: 0.8757\n",
            "Epoch 19/20\n",
            "30/30 [==============================] - 1s 21ms/step - loss: 0.1983 - accuracy: 0.9621 - val_loss: 0.4616 - val_accuracy: 0.8628\n",
            "Epoch 20/20\n",
            "30/30 [==============================] - 1s 21ms/step - loss: 0.1997 - accuracy: 0.9597 - val_loss: 0.4370 - val_accuracy: 0.8698\n"
          ]
        }
      ],
      "source": [
        "from tensorflow.keras import regularizers\n",
        "model = keras.Sequential([\n",
        "    layers.Dense(16,\n",
        "                 kernel_regularizer=regularizers.l2(0.002),\n",
        "                 activation=\"relu\"),\n",
        "    layers.Dense(16,\n",
        "                 kernel_regularizer=regularizers.l2(0.002),\n",
        "                 activation=\"relu\"),\n",
        "    layers.Dense(1, activation=\"sigmoid\")\n",
        "])\n",
        "model.compile(optimizer=\"rmsprop\",\n",
        "              loss=\"binary_crossentropy\",\n",
        "              metrics=[\"accuracy\"])\n",
        "history_l2_reg = model.fit(\n",
        "    train_data, train_labels,\n",
        "    epochs=20, batch_size=512, validation_split=0.4)"
      ]
    },
    {
      "cell_type": "code",
      "source": [
        "import matplotlib.pyplot as plt\n",
        "val_loss = history_original.history[\"val_loss\"]\n",
        "val_loss2 = history_l2_reg.history[\"val_loss\"]\n",
        "epochs = range(1, 21)\n",
        "plt.plot(epochs, val_loss, \"b-\",\n",
        "         label=\"Validation loss of original model\")\n",
        "plt.plot(epochs, val_loss2, \"b--\",\n",
        "         label=\"Validation loss of original model with l2 regularization\")\n",
        "plt.title(\"Effect of l2 regularization on validation loss\")\n",
        "plt.xlabel(\"Epochs\")\n",
        "plt.ylabel(\"Loss\")\n",
        "plt.legend()"
      ],
      "metadata": {
        "id": "au5_KD2MpoVl",
        "colab": {
          "base_uri": "https://localhost:8080/"
        },
        "outputId": "e0a8c6a3-a25b-414f-c0dc-7493935374c0"
      },
      "execution_count": null,
      "outputs": [
        {
          "output_type": "execute_result",
          "data": {
            "text/plain": [
              "<matplotlib.legend.Legend at 0x7f0c89481e10>"
            ]
          },
          "metadata": {},
          "execution_count": 20
        },
        {
          "output_type": "display_data",
          "data": {
            "text/plain": [
              "<Figure size 432x288 with 1 Axes>"
            ],
            "image/png": "[encoded data removed]"
          },
          "metadata": {
            "needs_background": "light"
          }
        }
      ]
    },
    {
      "cell_type": "markdown",
      "metadata": {
        "id": "Ro_n_4Zawvh5"
      },
      "source": [
        "**Different weight regularizers available in Keras**"
      ]
    },
    {
      "cell_type": "code",
      "execution_count": null,
      "metadata": {
        "id": "g4Qiaj3dwvh5",
        "colab": {
          "base_uri": "https://localhost:8080/"
        },
        "outputId": "1bc14587-f6f4-4a49-e410-e48f95760b08"
      },
      "outputs": [
        {
          "output_type": "execute_result",
          "data": {
            "text/plain": [
              "<keras.regularizers.L1L2 at 0x7f0c84cdd090>"
            ]
          },
          "metadata": {},
          "execution_count": 21
        }
      ],
      "source": [
        "from tensorflow.keras import regularizers\n",
        "regularizers.l1(0.001)\n",
        "regularizers.l1_l2(l1=0.001, l2=0.001)"
      ]
    },
    {
      "cell_type": "markdown",
      "metadata": {
        "id": "gbnPMDpkwvh5"
      },
      "source": [
        "#### Adding dropout"
      ]
    },
    {
      "cell_type": "markdown",
      "metadata": {
        "id": "O-Lh09UNwvh6"
      },
      "source": [
        "**Adding dropout to the IMDB model**"
      ]
    },
    {
      "cell_type": "code",
      "execution_count": null,
      "metadata": {
        "id": "-lqKRRoWwvh7",
        "colab": {
          "base_uri": "https://localhost:8080/"
        },
        "outputId": "e59870fd-6b90-4679-8e68-d32bc5b7637d"
      },
      "outputs": [
        {
          "output_type": "stream",
          "name": "stdout",
          "text": [
            "Epoch 1/20\n",
            "30/30 [==============================] - 2s 34ms/step - loss: 0.6452 - accuracy: 0.6159 - val_loss: 0.5571 - val_accuracy: 0.8011\n",
            "Epoch 2/20\n",
            "30/30 [==============================] - 1s 21ms/step - loss: 0.5314 - accuracy: 0.7530 - val_loss: 0.4450 - val_accuracy: 0.8593\n",
            "Epoch 3/20\n",
            "30/30 [==============================] - 1s 21ms/step - loss: 0.4465 - accuracy: 0.8203 - val_loss: 0.3763 - val_accuracy: 0.8778\n",
            "Epoch 4/20\n",
            "30/30 [==============================] - 1s 20ms/step - loss: 0.3914 - accuracy: 0.8543 - val_loss: 0.3316 - val_accuracy: 0.8776\n",
            "Epoch 5/20\n",
            "30/30 [==============================] - 1s 21ms/step - loss: 0.3408 - accuracy: 0.8824 - val_loss: 0.3041 - val_accuracy: 0.8862\n",
            "Epoch 6/20\n",
            "30/30 [==============================] - 1s 24ms/step - loss: 0.2993 - accuracy: 0.9031 - val_loss: 0.2932 - val_accuracy: 0.8832\n",
            "Epoch 7/20\n",
            "30/30 [==============================] - 1s 24ms/step - loss: 0.2589 - accuracy: 0.9169 - val_loss: 0.2794 - val_accuracy: 0.8867\n",
            "Epoch 8/20\n",
            "30/30 [==============================] - 1s 24ms/step - loss: 0.2287 - accuracy: 0.9307 - val_loss: 0.2871 - val_accuracy: 0.8806\n",
            "Epoch 9/20\n",
            "30/30 [==============================] - 1s 21ms/step - loss: 0.2051 - accuracy: 0.9353 - val_loss: 0.2936 - val_accuracy: 0.8816\n",
            "Epoch 10/20\n",
            "30/30 [==============================] - 1s 21ms/step - loss: 0.1792 - accuracy: 0.9427 - val_loss: 0.3169 - val_accuracy: 0.8875\n",
            "Epoch 11/20\n",
            "30/30 [==============================] - 1s 25ms/step - loss: 0.1646 - accuracy: 0.9513 - val_loss: 0.3363 - val_accuracy: 0.8882\n",
            "Epoch 12/20\n",
            "30/30 [==============================] - 1s 21ms/step - loss: 0.1499 - accuracy: 0.9535 - val_loss: 0.3572 - val_accuracy: 0.8877\n",
            "Epoch 13/20\n",
            "30/30 [==============================] - 1s 25ms/step - loss: 0.1314 - accuracy: 0.9601 - val_loss: 0.3772 - val_accuracy: 0.8802\n",
            "Epoch 14/20\n",
            "30/30 [==============================] - 1s 21ms/step - loss: 0.1190 - accuracy: 0.9629 - val_loss: 0.3965 - val_accuracy: 0.8826\n",
            "Epoch 15/20\n",
            "30/30 [==============================] - 1s 22ms/step - loss: 0.1122 - accuracy: 0.9657 - val_loss: 0.4148 - val_accuracy: 0.8803\n",
            "Epoch 16/20\n",
            "30/30 [==============================] - 1s 21ms/step - loss: 0.1046 - accuracy: 0.9680 - val_loss: 0.4572 - val_accuracy: 0.8812\n",
            "Epoch 17/20\n",
            "30/30 [==============================] - 1s 21ms/step - loss: 0.0924 - accuracy: 0.9721 - val_loss: 0.4858 - val_accuracy: 0.8809\n",
            "Epoch 18/20\n",
            "30/30 [==============================] - 1s 22ms/step - loss: 0.0906 - accuracy: 0.9735 - val_loss: 0.5348 - val_accuracy: 0.8808\n",
            "Epoch 19/20\n",
            "30/30 [==============================] - 1s 22ms/step - loss: 0.0866 - accuracy: 0.9752 - val_loss: 0.5943 - val_accuracy: 0.8771\n",
            "Epoch 20/20\n",
            "30/30 [==============================] - 1s 25ms/step - loss: 0.0803 - accuracy: 0.9757 - val_loss: 0.6121 - val_accuracy: 0.8788\n"
          ]
        }
      ],
      "source": [
        "model = keras.Sequential([\n",
        "    layers.Dense(16, activation=\"relu\"),\n",
        "    layers.Dropout(0.5),\n",
        "    layers.Dense(16, activation=\"relu\"),\n",
        "    layers.Dropout(0.5),\n",
        "    layers.Dense(1, activation=\"sigmoid\")\n",
        "])\n",
        "model.compile(optimizer=\"rmsprop\",\n",
        "              loss=\"binary_crossentropy\",\n",
        "              metrics=[\"accuracy\"])\n",
        "history_dropout = model.fit(\n",
        "    train_data, train_labels,\n",
        "    epochs=20, batch_size=512, validation_split=0.4)"
      ]
    },
    {
      "cell_type": "code",
      "source": [
        "import matplotlib.pyplot as plt\n",
        "val_loss = history_original.history[\"val_loss\"]\n",
        "val_loss2 = history_dropout.history[\"val_loss\"]\n",
        "epochs = range(1, 21)\n",
        "plt.plot(epochs, val_loss, \"b-\",\n",
        "         label=\"Validation loss of original model\")\n",
        "plt.plot(epochs, val_loss2, \"b--\",\n",
        "         label=\"Validation loss of original model with dropout regularization\")\n",
        "plt.title(\"Effect of dropout regularization on validation loss\")\n",
        "plt.xlabel(\"Epochs\")\n",
        "plt.ylabel(\"Loss\")\n",
        "plt.legend()"
      ],
      "metadata": {
        "id": "LXJA9E2JqGBx",
        "colab": {
          "base_uri": "https://localhost:8080/"
        },
        "outputId": "ad6157ca-661a-416d-e224-d7f3313e4d64"
      },
      "execution_count": null,
      "outputs": [
        {
          "output_type": "execute_result",
          "data": {
            "text/plain": [
              "<matplotlib.legend.Legend at 0x7f0c80fbe350>"
            ]
          },
          "metadata": {},
          "execution_count": 23
        },
        {
          "output_type": "display_data",
          "data": {
            "text/plain": [
              "<Figure size 432x288 with 1 Axes>"
            ],
            "image/png": "[encoded data removed]"
          },
          "metadata": {
            "needs_background": "light"
          }
        }
      ]
    },
    {
      "cell_type": "markdown",
      "metadata": {
        "id": "CTGoIqxPwvh7"
      },
      "source": [
        "## Summary"
      ]
    }
  ],
  "metadata": {
    "colab": {
      "collapsed_sections": [],
      "name": "chapter05_fundamentals-of-ml.i의 사본",
      "provenance": []
    },
    "kernelspec": {
      "display_name": "Python 3",
      "language": "python",
      "name": "python3"
    },
    "language_info": {
      "codemirror_mode": {
        "name": "ipython",
        "version": 3
      },
      "file_extension": ".py",
      "mimetype": "text/x-python",
      "name": "python",
      "nbconvert_exporter": "python",
      "pygments_lexer": "ipython3",
      "version": "3.7.0"
    },
    "accelerator": "GPU"
  },
  "nbformat": 4,
  "nbformat_minor": 0
}