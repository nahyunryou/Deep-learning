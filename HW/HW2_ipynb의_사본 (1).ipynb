{
  "nbformat": 4,
  "nbformat_minor": 0,
  "metadata": {
    "colab": {
      "name": "HW2.ipynb의 사본",
      "provenance": [],
      "collapsed_sections": []
    },
    "kernelspec": {
      "name": "python3",
      "display_name": "Python 3"
    },
    "language_info": {
      "name": "python"
    },
    "accelerator": "GPU"
  },
  "cells": [
    {
      "cell_type": "markdown",
      "source": [
        "## HW 2\n",
        "Answer folloing questions \n",
        "\n"
      ],
      "metadata": {
        "id": "OwBySVVU5h6M"
      }
    },
    {
      "cell_type": "code",
      "execution_count": null,
      "metadata": {
        "id": "aZSgHuiR5W1k"
      },
      "outputs": [],
      "source": [
        ""
      ]
    },
    {
      "cell_type": "markdown",
      "source": [
        "### Below is one of the example code for binary-class classification problem on IMDB dataset"
      ],
      "metadata": {
        "id": "qEqK8L1k6PSd"
      }
    },
    {
      "cell_type": "code",
      "source": [
        "from tensorflow.keras.datasets import imdb\n",
        "(train_data, train_labels), (test_data, test_labels) = imdb.load_data(\n",
        "    num_words=10000)"
      ],
      "metadata": {
        "id": "WKvVq8pQ6YNt",
        "colab": {
          "base_uri": "https://localhost:8080/"
        },
        "outputId": "b31099df-a983-4c04-ec10-de329abdc788"
      },
      "execution_count": null,
      "outputs": [
        {
          "output_type": "stream",
          "name": "stdout",
          "text": [
            "Downloading data from https://storage.googleapis.com/tensorflow/tf-keras-datasets/imdb.npz\n",
            "17465344/17464789 [==============================] - 0s 0us/step\n",
            "17473536/17464789 [==============================] - 0s 0us/step\n"
          ]
        }
      ]
    },
    {
      "cell_type": "code",
      "source": [
        "import numpy as np\n",
        "def vectorize_sequences(sequences, dimension=10000):\n",
        "    results = np.zeros((len(sequences), dimension))\n",
        "    for i, sequence in enumerate(sequences):\n",
        "        for j in sequence:\n",
        "            results[i, j] = 1.\n",
        "    return results\n",
        "x_train = vectorize_sequences(train_data)\n",
        "x_test = vectorize_sequences(test_data)"
      ],
      "metadata": {
        "id": "IFml1LhPXCsk"
      },
      "execution_count": null,
      "outputs": []
    },
    {
      "cell_type": "code",
      "source": [
        "y_train = np.asarray(train_labels).astype(\"float32\")\n",
        "y_test = np.asarray(test_labels).astype(\"float32\")"
      ],
      "metadata": {
        "id": "FCxmgWVYXHoD"
      },
      "execution_count": null,
      "outputs": []
    },
    {
      "cell_type": "code",
      "source": [
        "y_train[:5]"
      ],
      "metadata": {
        "colab": {
          "base_uri": "https://localhost:8080/"
        },
        "id": "RMI28KpIXVYE",
        "outputId": "6cb76ad3-ba08-47c3-973e-f05f8cd26c17"
      },
      "execution_count": null,
      "outputs": [
        {
          "output_type": "execute_result",
          "data": {
            "text/plain": [
              "array([1., 0., 0., 1., 0.], dtype=float32)"
            ]
          },
          "metadata": {},
          "execution_count": 4
        }
      ]
    },
    {
      "cell_type": "code",
      "source": [
        "from tensorflow import keras\n",
        "from tensorflow.keras import layers"
      ],
      "metadata": {
        "id": "2nmC7WC0yeFI"
      },
      "execution_count": null,
      "outputs": []
    },
    {
      "cell_type": "code",
      "source": [
        "model = keras.Sequential([\n",
        "    layers.Dense(16, activation=\"relu\"),\n",
        "    layers.Dense(16, activation=\"relu\"),\n",
        "    layers.Dense(1, activation=\"sigmoid\")\n",
        "])"
      ],
      "metadata": {
        "id": "xgDMHxOVXKRE"
      },
      "execution_count": null,
      "outputs": []
    },
    {
      "cell_type": "code",
      "source": [
        "model.compile(optimizer=\"rmsprop\",\n",
        "              loss=\"binary_crossentropy\",\n",
        "              metrics=[\"accuracy\"])"
      ],
      "metadata": {
        "id": "tT4KACL9XdNE"
      },
      "execution_count": null,
      "outputs": []
    },
    {
      "cell_type": "code",
      "source": [
        "x_val = x_train[:10000]\n",
        "partial_x_train = x_train[10000:]\n",
        "y_val = y_train[:10000]\n",
        "partial_y_train = y_train[10000:]"
      ],
      "metadata": {
        "id": "k-Ufwj3iXc8l"
      },
      "execution_count": null,
      "outputs": []
    },
    {
      "cell_type": "code",
      "source": [
        "history = model.fit(partial_x_train,\n",
        "                    partial_y_train,\n",
        "                    epochs=20,\n",
        "                    batch_size=512,\n",
        "                    validation_data=(x_val, y_val))"
      ],
      "metadata": {
        "id": "5kJLbfX3Xp_U",
        "colab": {
          "base_uri": "https://localhost:8080/"
        },
        "outputId": "30116746-e88c-433f-e255-44b9b4cf8176"
      },
      "execution_count": null,
      "outputs": [
        {
          "output_type": "stream",
          "name": "stdout",
          "text": [
            "Epoch 1/20\n",
            "30/30 [==============================] - 6s 56ms/step - loss: 0.5430 - accuracy: 0.7818 - val_loss: 0.4299 - val_accuracy: 0.8602\n",
            "Epoch 2/20\n",
            "30/30 [==============================] - 1s 23ms/step - loss: 0.3380 - accuracy: 0.8975 - val_loss: 0.3283 - val_accuracy: 0.8792\n",
            "Epoch 3/20\n",
            "30/30 [==============================] - 1s 22ms/step - loss: 0.2448 - accuracy: 0.9235 - val_loss: 0.2882 - val_accuracy: 0.8878\n",
            "Epoch 4/20\n",
            "30/30 [==============================] - 1s 25ms/step - loss: 0.1913 - accuracy: 0.9375 - val_loss: 0.2780 - val_accuracy: 0.8907\n",
            "Epoch 5/20\n",
            "30/30 [==============================] - 1s 23ms/step - loss: 0.1531 - accuracy: 0.9506 - val_loss: 0.2759 - val_accuracy: 0.8901\n",
            "Epoch 6/20\n",
            "30/30 [==============================] - 1s 25ms/step - loss: 0.1227 - accuracy: 0.9621 - val_loss: 0.2867 - val_accuracy: 0.8874\n",
            "Epoch 7/20\n",
            "30/30 [==============================] - 1s 21ms/step - loss: 0.1016 - accuracy: 0.9702 - val_loss: 0.3109 - val_accuracy: 0.8835\n",
            "Epoch 8/20\n",
            "30/30 [==============================] - 1s 22ms/step - loss: 0.0836 - accuracy: 0.9771 - val_loss: 0.3274 - val_accuracy: 0.8786\n",
            "Epoch 9/20\n",
            "30/30 [==============================] - 1s 22ms/step - loss: 0.0672 - accuracy: 0.9837 - val_loss: 0.3456 - val_accuracy: 0.8784\n",
            "Epoch 10/20\n",
            "30/30 [==============================] - 1s 25ms/step - loss: 0.0546 - accuracy: 0.9861 - val_loss: 0.3823 - val_accuracy: 0.8729\n",
            "Epoch 11/20\n",
            "30/30 [==============================] - 1s 23ms/step - loss: 0.0436 - accuracy: 0.9900 - val_loss: 0.4028 - val_accuracy: 0.8795\n",
            "Epoch 12/20\n",
            "30/30 [==============================] - 1s 22ms/step - loss: 0.0343 - accuracy: 0.9929 - val_loss: 0.4421 - val_accuracy: 0.8658\n",
            "Epoch 13/20\n",
            "30/30 [==============================] - 1s 25ms/step - loss: 0.0263 - accuracy: 0.9958 - val_loss: 0.4540 - val_accuracy: 0.8744\n",
            "Epoch 14/20\n",
            "30/30 [==============================] - 1s 25ms/step - loss: 0.0220 - accuracy: 0.9963 - val_loss: 0.4842 - val_accuracy: 0.8734\n",
            "Epoch 15/20\n",
            "30/30 [==============================] - 1s 22ms/step - loss: 0.0153 - accuracy: 0.9974 - val_loss: 0.5238 - val_accuracy: 0.8659\n",
            "Epoch 16/20\n",
            "30/30 [==============================] - 1s 22ms/step - loss: 0.0113 - accuracy: 0.9991 - val_loss: 0.5526 - val_accuracy: 0.8681\n",
            "Epoch 17/20\n",
            "30/30 [==============================] - 1s 22ms/step - loss: 0.0096 - accuracy: 0.9989 - val_loss: 0.5857 - val_accuracy: 0.8691\n",
            "Epoch 18/20\n",
            "30/30 [==============================] - 1s 21ms/step - loss: 0.0054 - accuracy: 0.9998 - val_loss: 0.6265 - val_accuracy: 0.8697\n",
            "Epoch 19/20\n",
            "30/30 [==============================] - 1s 25ms/step - loss: 0.0055 - accuracy: 0.9994 - val_loss: 0.6643 - val_accuracy: 0.8690\n",
            "Epoch 20/20\n",
            "30/30 [==============================] - 1s 21ms/step - loss: 0.0051 - accuracy: 0.9989 - val_loss: 0.6880 - val_accuracy: 0.8686\n"
          ]
        }
      ]
    },
    {
      "cell_type": "markdown",
      "source": [
        "### Q1 Binary classification is multi-class classification with two classes so we can modify our model as below:"
      ],
      "metadata": {
        "id": "AFsXMZmW6e6F"
      }
    },
    {
      "cell_type": "code",
      "source": [
        "model2 = keras.Sequential([\n",
        "    layers.Dense(16, activation=\"relu\"),\n",
        "    layers.Dense(16, activation=\"relu\"),\n",
        "    layers.Dense(2, activation=\"softmax\")\n",
        "])"
      ],
      "metadata": {
        "id": "mXXKBxo36kPl"
      },
      "execution_count": null,
      "outputs": []
    },
    {
      "cell_type": "markdown",
      "source": [
        "### Complete the codes for compile and model fitting. "
      ],
      "metadata": {
        "id": "PsOrD_13YWn1"
      }
    },
    {
      "cell_type": "code",
      "source": [
        "#model2.compile()\n",
        "model2.compile(optimizer=\"rmsprop\",\n",
        "              loss=\"sparse_categorical_crossentropy\", \n",
        "              metrics=[\"accuracy\"])\n",
        "\n",
        "#model2.fit()\n",
        "history2 = model2.fit(partial_x_train,\n",
        "                    partial_y_train,\n",
        "                    epochs=20,\n",
        "                    batch_size=512,\n",
        "                    validation_data=(x_val, y_val))"
      ],
      "metadata": {
        "id": "Hj4AauQvYT7F",
        "colab": {
          "base_uri": "https://localhost:8080/"
        },
        "outputId": "264d0164-0bb7-4e1e-f1ce-16c6216629fc"
      },
      "execution_count": null,
      "outputs": [
        {
          "output_type": "stream",
          "name": "stdout",
          "text": [
            "Epoch 1/20\n",
            "30/30 [==============================] - 2s 49ms/step - loss: 0.0098 - accuracy: 0.9969 - val_loss: 0.8035 - val_accuracy: 0.8621\n",
            "Epoch 2/20\n",
            "30/30 [==============================] - 1s 26ms/step - loss: 0.0015 - accuracy: 0.9999 - val_loss: 0.8582 - val_accuracy: 0.8617\n",
            "Epoch 3/20\n",
            "30/30 [==============================] - 1s 22ms/step - loss: 0.0095 - accuracy: 0.9978 - val_loss: 0.8859 - val_accuracy: 0.8644\n",
            "Epoch 4/20\n",
            "30/30 [==============================] - 1s 24ms/step - loss: 7.3677e-04 - accuracy: 1.0000 - val_loss: 0.9028 - val_accuracy: 0.8630\n",
            "Epoch 5/20\n",
            "30/30 [==============================] - 1s 25ms/step - loss: 5.8411e-04 - accuracy: 1.0000 - val_loss: 0.9348 - val_accuracy: 0.8623\n",
            "Epoch 6/20\n",
            "30/30 [==============================] - 1s 21ms/step - loss: 0.0062 - accuracy: 0.9979 - val_loss: 0.9899 - val_accuracy: 0.8607\n",
            "Epoch 7/20\n",
            "30/30 [==============================] - 1s 21ms/step - loss: 3.6028e-04 - accuracy: 1.0000 - val_loss: 0.9990 - val_accuracy: 0.8599\n",
            "Epoch 8/20\n",
            "30/30 [==============================] - 1s 25ms/step - loss: 2.9676e-04 - accuracy: 1.0000 - val_loss: 1.0220 - val_accuracy: 0.8582\n",
            "Epoch 9/20\n",
            "30/30 [==============================] - 1s 24ms/step - loss: 0.0027 - accuracy: 0.9993 - val_loss: 1.0668 - val_accuracy: 0.8592\n",
            "Epoch 10/20\n",
            "30/30 [==============================] - 1s 25ms/step - loss: 1.9933e-04 - accuracy: 1.0000 - val_loss: 1.0824 - val_accuracy: 0.8597\n",
            "Epoch 11/20\n",
            "30/30 [==============================] - 1s 20ms/step - loss: 1.5295e-04 - accuracy: 1.0000 - val_loss: 1.1042 - val_accuracy: 0.8593\n",
            "Epoch 12/20\n",
            "30/30 [==============================] - 1s 24ms/step - loss: 1.2590e-04 - accuracy: 1.0000 - val_loss: 1.2306 - val_accuracy: 0.8479\n",
            "Epoch 13/20\n",
            "30/30 [==============================] - 1s 20ms/step - loss: 0.0034 - accuracy: 0.9987 - val_loss: 1.1760 - val_accuracy: 0.8588\n",
            "Epoch 14/20\n",
            "30/30 [==============================] - 1s 25ms/step - loss: 8.2849e-05 - accuracy: 1.0000 - val_loss: 1.1906 - val_accuracy: 0.8581\n",
            "Epoch 15/20\n",
            "30/30 [==============================] - 1s 21ms/step - loss: 6.6882e-05 - accuracy: 1.0000 - val_loss: 1.2207 - val_accuracy: 0.8577\n",
            "Epoch 16/20\n",
            "30/30 [==============================] - 1s 20ms/step - loss: 4.7905e-05 - accuracy: 1.0000 - val_loss: 1.3009 - val_accuracy: 0.8577\n",
            "Epoch 17/20\n",
            "30/30 [==============================] - 1s 21ms/step - loss: 0.0054 - accuracy: 0.9987 - val_loss: 1.3320 - val_accuracy: 0.8578\n",
            "Epoch 18/20\n",
            "30/30 [==============================] - 1s 20ms/step - loss: 2.6501e-05 - accuracy: 1.0000 - val_loss: 1.3437 - val_accuracy: 0.8576\n",
            "Epoch 19/20\n",
            "30/30 [==============================] - 1s 24ms/step - loss: 2.2484e-05 - accuracy: 1.0000 - val_loss: 1.3592 - val_accuracy: 0.8573\n",
            "Epoch 20/20\n",
            "30/30 [==============================] - 1s 20ms/step - loss: 1.9179e-05 - accuracy: 1.0000 - val_loss: 1.3854 - val_accuracy: 0.8573\n"
          ]
        }
      ]
    },
    {
      "cell_type": "markdown",
      "source": [
        "### Q2 Below is visualization of the validation loss. We can see overfitting after 5 epochs.  "
      ],
      "metadata": {
        "id": "6SGxXX70Ylr_"
      }
    },
    {
      "cell_type": "code",
      "source": [
        "import matplotlib.pyplot as plt\n",
        "history_dict = history.history\n",
        "loss_values = history_dict[\"loss\"]\n",
        "val_loss_values = history_dict[\"val_loss\"]\n",
        "epochs = range(1, len(loss_values) + 1)\n",
        "plt.plot(epochs, loss_values, \"bo\", label=\"Training loss\")\n",
        "plt.plot(epochs, val_loss_values, \"b\", label=\"Validation loss\")\n",
        "plt.title(\"Training and validation loss\")\n",
        "plt.xlabel(\"Epochs\")\n",
        "plt.ylabel(\"Loss\")\n",
        "plt.legend()\n",
        "plt.show()"
      ],
      "metadata": {
        "colab": {
          "base_uri": "https://localhost:8080/",
          "height": 295
        },
        "id": "X8rcODQ7Yk_E",
        "outputId": "accaa937-0591-45b6-e390-c6dd7160408b"
      },
      "execution_count": null,
      "outputs": [
        {
          "output_type": "display_data",
          "data": {
            "text/plain": [
              "<Figure size 432x288 with 1 Axes>"
            ],
            "image/png": "[encoded data removed]"
          },
          "metadata": {
            "needs_background": "light"
          }
        }
      ]
    },
    {
      "cell_type": "markdown",
      "source": [
        "### Add dropout layers and visualize the validation loss of your new model."
      ],
      "metadata": {
        "id": "4LbAGmB-aD-d"
      }
    },
    {
      "cell_type": "code",
      "source": [
        "## Add dropout layers \n",
        "\n",
        "model2_dr = keras.Sequential([\n",
        "    layers.Dense(16, activation=\"relu\"),\n",
        "    layers.Dropout(0.5),\n",
        "    layers.Dense(16, activation=\"relu\"),\n",
        "    layers.Dropout(0.5),\n",
        "    layers.Dense(2, activation=\"softmax\")\n",
        "])\n"
      ],
      "metadata": {
        "id": "uY9QQxR1Z013"
      },
      "execution_count": null,
      "outputs": []
    },
    {
      "cell_type": "code",
      "source": [
        "## retrain and visualize the validation loss of new model\n",
        "model2_dr.compile(optimizer=\"rmsprop\",\n",
        "              loss=\"sparse_categorical_crossentropy\",\n",
        "              metrics=[\"accuracy\"])\n",
        "history_dropout = model2_dr.fit(\n",
        "    partial_x_train, partial_y_train,\n",
        "    epochs=20, batch_size=512, validation_split=0.4)"
      ],
      "metadata": {
        "colab": {
          "base_uri": "https://localhost:8080/"
        },
        "id": "ZrpL-05U1D6s",
        "outputId": "8701c159-33aa-4ea5-fc82-ae2cad912598"
      },
      "execution_count": null,
      "outputs": [
        {
          "output_type": "stream",
          "name": "stdout",
          "text": [
            "Epoch 1/20\n",
            "18/18 [==============================] - 1s 37ms/step - loss: 0.5215 - accuracy: 0.8634 - val_loss: 0.4660 - val_accuracy: 0.8693\n",
            "Epoch 2/20\n",
            "18/18 [==============================] - 0s 22ms/step - loss: 0.3213 - accuracy: 0.9013 - val_loss: 0.4399 - val_accuracy: 0.8633\n",
            "Epoch 3/20\n",
            "18/18 [==============================] - 0s 21ms/step - loss: 0.2439 - accuracy: 0.9224 - val_loss: 0.4138 - val_accuracy: 0.8705\n",
            "Epoch 4/20\n",
            "18/18 [==============================] - 0s 21ms/step - loss: 0.2009 - accuracy: 0.9394 - val_loss: 0.4367 - val_accuracy: 0.8695\n",
            "Epoch 5/20\n",
            "18/18 [==============================] - 0s 23ms/step - loss: 0.1583 - accuracy: 0.9608 - val_loss: 0.4387 - val_accuracy: 0.8702\n",
            "Epoch 6/20\n",
            "18/18 [==============================] - 0s 21ms/step - loss: 0.1346 - accuracy: 0.9686 - val_loss: 0.4670 - val_accuracy: 0.8685\n",
            "Epoch 7/20\n",
            "18/18 [==============================] - 0s 23ms/step - loss: 0.1106 - accuracy: 0.9772 - val_loss: 0.4530 - val_accuracy: 0.8717\n",
            "Epoch 8/20\n",
            "18/18 [==============================] - 0s 21ms/step - loss: 0.0964 - accuracy: 0.9823 - val_loss: 0.4684 - val_accuracy: 0.8722\n",
            "Epoch 9/20\n",
            "18/18 [==============================] - 0s 23ms/step - loss: 0.0774 - accuracy: 0.9909 - val_loss: 0.6067 - val_accuracy: 0.8545\n",
            "Epoch 10/20\n",
            "18/18 [==============================] - 0s 24ms/step - loss: 0.0693 - accuracy: 0.9921 - val_loss: 0.5187 - val_accuracy: 0.8715\n",
            "Epoch 11/20\n",
            "18/18 [==============================] - 0s 21ms/step - loss: 0.0635 - accuracy: 0.9942 - val_loss: 0.5539 - val_accuracy: 0.8697\n",
            "Epoch 12/20\n",
            "18/18 [==============================] - 0s 23ms/step - loss: 0.0522 - accuracy: 0.9963 - val_loss: 0.5644 - val_accuracy: 0.8685\n",
            "Epoch 13/20\n",
            "18/18 [==============================] - 0s 23ms/step - loss: 0.0511 - accuracy: 0.9967 - val_loss: 0.5846 - val_accuracy: 0.8678\n",
            "Epoch 14/20\n",
            "18/18 [==============================] - 0s 22ms/step - loss: 0.0434 - accuracy: 0.9977 - val_loss: 0.6091 - val_accuracy: 0.8658\n",
            "Epoch 15/20\n",
            "18/18 [==============================] - 0s 21ms/step - loss: 0.0471 - accuracy: 0.9963 - val_loss: 0.6247 - val_accuracy: 0.8688\n",
            "Epoch 16/20\n",
            "18/18 [==============================] - 0s 22ms/step - loss: 0.0383 - accuracy: 0.9987 - val_loss: 0.6424 - val_accuracy: 0.8673\n",
            "Epoch 17/20\n",
            "18/18 [==============================] - 0s 21ms/step - loss: 0.0366 - accuracy: 0.9989 - val_loss: 0.6646 - val_accuracy: 0.8647\n",
            "Epoch 18/20\n",
            "18/18 [==============================] - 0s 23ms/step - loss: 0.0406 - accuracy: 0.9977 - val_loss: 0.6776 - val_accuracy: 0.8645\n",
            "Epoch 19/20\n",
            "18/18 [==============================] - 0s 22ms/step - loss: 0.0333 - accuracy: 0.9992 - val_loss: 0.6854 - val_accuracy: 0.8653\n",
            "Epoch 20/20\n",
            "18/18 [==============================] - 0s 21ms/step - loss: 0.0324 - accuracy: 0.9996 - val_loss: 0.6958 - val_accuracy: 0.8650\n"
          ]
        }
      ]
    },
    {
      "cell_type": "code",
      "source": [
        "import matplotlib.pyplot as plt\n",
        "val_loss = history.history[\"val_loss\"]\n",
        "val_loss2 = history_dropout.history[\"val_loss\"]\n",
        "epochs = range(1, 21)\n",
        "plt.plot(epochs, val_loss, \"b-\",\n",
        "         label=\"Validation loss of original model\")\n",
        "plt.plot(epochs, val_loss2, \"b--\",\n",
        "         label=\"Validation loss of original model with dropout regularization\")\n",
        "plt.title(\"Effect of dropout regularization on validation loss\")\n",
        "plt.xlabel(\"Epochs\")\n",
        "plt.ylabel(\"Loss\")\n",
        "plt.legend()"
      ],
      "metadata": {
        "colab": {
          "base_uri": "https://localhost:8080/",
          "height": 313
        },
        "id": "7bRsJeLjyySu",
        "outputId": "efe82dd5-46b7-4cbb-e9de-3ab24a50b97a"
      },
      "execution_count": null,
      "outputs": [
        {
          "output_type": "execute_result",
          "data": {
            "text/plain": [
              "<matplotlib.legend.Legend at 0x7f493df88410>"
            ]
          },
          "metadata": {},
          "execution_count": 25
        },
        {
          "output_type": "display_data",
          "data": {
            "text/plain": [
              "<Figure size 432x288 with 1 Axes>"
            ],
            "image/png": "[encoded data removed]"
          },
          "metadata": {
            "needs_background": "light"
          }
        }
      ]
    },
    {
      "cell_type": "markdown",
      "source": [
        "### Q3 Add l1 regularization on the second dense layer from the original model below. "
      ],
      "metadata": {
        "id": "Xs7jKhJKahhM"
      }
    },
    {
      "cell_type": "code",
      "source": [
        "from keras import regularizers"
      ],
      "metadata": {
        "id": "qVm4Eyz-IaIX"
      },
      "execution_count": null,
      "outputs": []
    },
    {
      "cell_type": "code",
      "source": [
        "## Add l1 regularization on the second dense layers \n",
        "\n",
        "model2_dr = keras.Sequential([\n",
        "    layers.Dense(16, activation=\"relu\"),\n",
        "    layers.Dense(16, \n",
        "                 kernel_regularizer= regularizers.l1(0.001), \n",
        "                 activation=\"relu\"),    ### add l1 regularization here\n",
        "    layers.Dense(2, activation=\"softmax\")\n",
        "])"
      ],
      "metadata": {
        "id": "VeuwleNJa9r9"
      },
      "execution_count": null,
      "outputs": []
    },
    {
      "cell_type": "markdown",
      "source": [
        "### Finish the training and compare the dropout model(model from Q2) and l1 regularization model after visualizing their validation losses."
      ],
      "metadata": {
        "id": "e9yx1WLrbJUd"
      }
    },
    {
      "cell_type": "code",
      "source": [
        "model2_dr.compile(optimizer=\"rmsprop\",\n",
        "              loss=\"sparse_categorical_crossentropy\",\n",
        "              metrics=[\"accuracy\"])\n",
        "history_l1_reg = model2_dr.fit(\n",
        "    partial_x_train, partial_y_train,\n",
        "    epochs=20, batch_size=512, validation_split=0.4)"
      ],
      "metadata": {
        "id": "EyL_jfmNbWe_",
        "colab": {
          "base_uri": "https://localhost:8080/"
        },
        "outputId": "f9dd3787-5da2-4d01-ae0d-1a7768702d79"
      },
      "execution_count": null,
      "outputs": [
        {
          "output_type": "stream",
          "name": "stdout",
          "text": [
            "Epoch 1/20\n",
            "18/18 [==============================] - 1s 41ms/step - loss: 0.0379 - accuracy: 0.9976 - val_loss: 0.7126 - val_accuracy: 0.8687\n",
            "Epoch 2/20\n",
            "18/18 [==============================] - 0s 22ms/step - loss: 0.0306 - accuracy: 0.9997 - val_loss: 0.7184 - val_accuracy: 0.8677\n",
            "Epoch 3/20\n",
            "18/18 [==============================] - 0s 23ms/step - loss: 0.0296 - accuracy: 0.9997 - val_loss: 0.7235 - val_accuracy: 0.8678\n",
            "Epoch 4/20\n",
            "18/18 [==============================] - 0s 21ms/step - loss: 0.0301 - accuracy: 0.9993 - val_loss: 0.7700 - val_accuracy: 0.8580\n",
            "Epoch 5/20\n",
            "18/18 [==============================] - 0s 23ms/step - loss: 0.0273 - accuracy: 0.9998 - val_loss: 0.7369 - val_accuracy: 0.8638\n",
            "Epoch 6/20\n",
            "18/18 [==============================] - 0s 22ms/step - loss: 0.0265 - accuracy: 0.9998 - val_loss: 0.7416 - val_accuracy: 0.8628\n",
            "Epoch 7/20\n",
            "18/18 [==============================] - 0s 21ms/step - loss: 0.0255 - accuracy: 0.9998 - val_loss: 0.8299 - val_accuracy: 0.8502\n",
            "Epoch 8/20\n",
            "18/18 [==============================] - 0s 22ms/step - loss: 0.0252 - accuracy: 0.9998 - val_loss: 0.7458 - val_accuracy: 0.8600\n",
            "Epoch 9/20\n",
            "18/18 [==============================] - 0s 21ms/step - loss: 0.0235 - accuracy: 0.9999 - val_loss: 0.7412 - val_accuracy: 0.8628\n",
            "Epoch 10/20\n",
            "18/18 [==============================] - 0s 22ms/step - loss: 0.0233 - accuracy: 0.9998 - val_loss: 0.7467 - val_accuracy: 0.8623\n",
            "Epoch 11/20\n",
            "18/18 [==============================] - 0s 22ms/step - loss: 0.0216 - accuracy: 0.9999 - val_loss: 0.7456 - val_accuracy: 0.8622\n",
            "Epoch 12/20\n",
            "18/18 [==============================] - 0s 22ms/step - loss: 0.0208 - accuracy: 1.0000 - val_loss: 0.7597 - val_accuracy: 0.8555\n",
            "Epoch 13/20\n",
            "18/18 [==============================] - 0s 22ms/step - loss: 0.0210 - accuracy: 0.9999 - val_loss: 0.7441 - val_accuracy: 0.8623\n",
            "Epoch 14/20\n",
            "18/18 [==============================] - 0s 21ms/step - loss: 0.0194 - accuracy: 1.0000 - val_loss: 0.7414 - val_accuracy: 0.8610\n",
            "Epoch 15/20\n",
            "18/18 [==============================] - 0s 22ms/step - loss: 0.0198 - accuracy: 0.9997 - val_loss: 0.7377 - val_accuracy: 0.8602\n",
            "Epoch 16/20\n",
            "18/18 [==============================] - 0s 23ms/step - loss: 0.0180 - accuracy: 1.0000 - val_loss: 0.7394 - val_accuracy: 0.8597\n",
            "Epoch 17/20\n",
            "18/18 [==============================] - 0s 23ms/step - loss: 0.0176 - accuracy: 1.0000 - val_loss: 0.7375 - val_accuracy: 0.8588\n",
            "Epoch 18/20\n",
            "18/18 [==============================] - 0s 22ms/step - loss: 0.0176 - accuracy: 1.0000 - val_loss: 0.7392 - val_accuracy: 0.8602\n",
            "Epoch 19/20\n",
            "18/18 [==============================] - 0s 21ms/step - loss: 0.0164 - accuracy: 1.0000 - val_loss: 0.7364 - val_accuracy: 0.8600\n",
            "Epoch 20/20\n",
            "18/18 [==============================] - 0s 22ms/step - loss: 0.0159 - accuracy: 1.0000 - val_loss: 0.7718 - val_accuracy: 0.8550\n"
          ]
        }
      ]
    },
    {
      "cell_type": "code",
      "source": [
        "import matplotlib.pyplot as plt\n",
        "val_loss = history.history[\"val_loss\"]\n",
        "val_loss2 = history_l1_reg.history[\"val_loss\"]\n",
        "epochs = range(1, 21)\n",
        "plt.plot(epochs, val_loss, \"b-\",\n",
        "         label=\"Validation loss of original model\")\n",
        "plt.plot(epochs, val_loss2, \"b--\",\n",
        "         label=\"Validation loss of original model with l1 regularization\")\n",
        "plt.title(\"Effect of l1 regularization on validation loss\")\n",
        "plt.xlabel(\"Epochs\")\n",
        "plt.ylabel(\"Loss\")\n",
        "plt.legend()"
      ],
      "metadata": {
        "colab": {
          "base_uri": "https://localhost:8080/",
          "height": 313
        },
        "id": "h5OI4XY9Hk01",
        "outputId": "73bcee04-eda5-47b7-f964-397e6ca97fa7"
      },
      "execution_count": null,
      "outputs": [
        {
          "output_type": "execute_result",
          "data": {
            "text/plain": [
              "<matplotlib.legend.Legend at 0x7f493b541890>"
            ]
          },
          "metadata": {},
          "execution_count": 24
        },
        {
          "output_type": "display_data",
          "data": {
            "text/plain": [
              "<Figure size 432x288 with 1 Axes>"
            ],
            "image/png": "[encoded data removed]"
          },
          "metadata": {
            "needs_background": "light"
          }
        }
      ]
    },
    {
      "cell_type": "code",
      "source": [
        ""
      ],
      "metadata": {
        "id": "Kqr7BdOZJYzz"
      },
      "execution_count": null,
      "outputs": []
    }
  ]
}